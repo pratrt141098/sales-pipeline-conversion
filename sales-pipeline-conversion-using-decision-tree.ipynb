{
 "cells": [
  {
   "cell_type": "markdown",
   "execution_count": null,
   "metadata": {
    "papermill": {
     "duration": 0.031311,
     "end_time": "2020-08-24T13:19:34.094246",
     "exception": false,
     "start_time": "2020-08-24T13:19:34.062935",
     "status": "completed"
    },
    "tags": []
   },
   "source": [
    "# Business Problem: Sales Pipeline Conversion at a SaaS Startup\n",
    " \n"
   ]
  },
  {
   "cell_type": "markdown",
   "execution_count": null,
   "metadata": {
    "papermill": {
     "duration": 0.02835,
     "end_time": "2020-08-24T13:19:34.151643",
     "exception": false,
     "start_time": "2020-08-24T13:19:34.123293",
     "status": "completed"
    },
    "tags": []
   },
   "source": [
    "This assignment is around a case study about TechnoServe, a fictional tech SaaS (Software as a service) startup that specialises in different types of cloud-based software services to the small and medium enterprise customers. The products provided by the company are inclined towards increasing the productivity for the customers.\n",
    "\n",
    "The revenue that the company generates is highly dependent on the consumption of the cloud services that they provide. Therefore, the revenue in-flow in the company is highly dependent on the number of clients that the company has. The company is facing a very pertinent problem faced in the IT industry today, declining conversions across its sales funnel.\n",
    "\n",
    " \n",
    "\n",
    "The problem that the company is facing is that its pipeline conversion percentage has dropped from 35% at the end of the last fiscal (FY 2019-20) to 25% at present. The company needs a solution to solve the issue, and they have asked you to come up with one.\n",
    "\n",
    " \n",
    "    Here are a few details about TechnoServe that you should be aware of:\n",
    "\n",
    "The company is based out of Pune and started its operations in 2010.\n",
    "It has clients spread over Pune and other cities as well.\n",
    "There are more than 600 employees, distributed over multiple teams.\n",
    "It has a wide variety of IT solutions spread across different industries.\n",
    "To get a brief idea about IT solutions,"
   ]
  },
  {
   "cell_type": "markdown",
   "execution_count": null,
   "metadata": {
    "papermill": {
     "duration": 0.029859,
     "end_time": "2020-08-24T13:19:34.223717",
     "exception": false,
     "start_time": "2020-08-24T13:19:34.193858",
     "status": "completed"
    },
    "tags": []
   },
   "source": [
    "## Problem Statement"
   ]
  },
  {
   "cell_type": "markdown",
   "execution_count": null,
   "metadata": {
    "papermill": {
     "duration": 0.028336,
     "end_time": "2020-08-24T13:19:34.280690",
     "exception": false,
     "start_time": "2020-08-24T13:19:34.252354",
     "status": "completed"
    },
    "tags": []
   },
   "source": [
    "Understand the problem, come up with possible hypotheses for low conversions faced by TechnoServe. Once that is done, you need to analyse the dataset given below to validate the hypotheses and form the solution strategy that they should employ to solve the problem. \n",
    "The dataset and the data dictionary are given below"
   ]
  },
  {
   "cell_type": "code",
   "execution_count": 1,
   "metadata": {
    "execution": {
     "iopub.execute_input": "2020-08-24T13:19:34.345123Z",
     "iopub.status.busy": "2020-08-24T13:19:34.344203Z",
     "iopub.status.idle": "2020-08-24T13:19:35.423005Z",
     "shell.execute_reply": "2020-08-24T13:19:35.422250Z"
    },
    "papermill": {
     "duration": 1.113852,
     "end_time": "2020-08-24T13:19:35.423145",
     "exception": false,
     "start_time": "2020-08-24T13:19:34.309293",
     "status": "completed"
    },
    "tags": []
   },
   "outputs": [],
   "source": [
    "import numpy as np\n",
    "import pandas as pd\n",
    "import matplotlib.pyplot as plt\n",
    "import seaborn as sns\n"
   ]
  },
  {
   "cell_type": "code",
   "execution_count": 2,
   "metadata": {
    "execution": {
     "iopub.execute_input": "2020-08-24T13:19:35.488749Z",
     "iopub.status.busy": "2020-08-24T13:19:35.487522Z",
     "iopub.status.idle": "2020-08-24T13:19:35.494021Z",
     "shell.execute_reply": "2020-08-24T13:19:35.493341Z"
    },
    "papermill": {
     "duration": 0.042031,
     "end_time": "2020-08-24T13:19:35.494163",
     "exception": false,
     "start_time": "2020-08-24T13:19:35.452132",
     "status": "completed"
    },
    "tags": []
   },
   "outputs": [
    {
     "name": "stdout",
     "output_type": "stream",
     "text": [
      "/kaggle/input/sales-pipeline-conversion-at-a-saas-startup/Sales Dataset.xlsx\n"
     ]
    }
   ],
   "source": [
    "import os\n",
    "for dirname, _, filenames in os.walk('/kaggle/input'):\n",
    "    for filename in filenames:\n",
    "        print(os.path.join(dirname, filename))"
   ]
  },
  {
   "cell_type": "code",
   "execution_count": 3,
   "metadata": {
    "execution": {
     "iopub.execute_input": "2020-08-24T13:19:35.559340Z",
     "iopub.status.busy": "2020-08-24T13:19:35.558434Z",
     "iopub.status.idle": "2020-08-24T13:19:59.146126Z",
     "shell.execute_reply": "2020-08-24T13:19:59.145511Z"
    },
    "papermill": {
     "duration": 23.622625,
     "end_time": "2020-08-24T13:19:59.146259",
     "exception": false,
     "start_time": "2020-08-24T13:19:35.523634",
     "status": "completed"
    },
    "tags": []
   },
   "outputs": [
    {
     "data": {
      "text/html": [
       "<div>\n",
       "<style scoped>\n",
       "    .dataframe tbody tr th:only-of-type {\n",
       "        vertical-align: middle;\n",
       "    }\n",
       "\n",
       "    .dataframe tbody tr th {\n",
       "        vertical-align: top;\n",
       "    }\n",
       "\n",
       "    .dataframe thead th {\n",
       "        text-align: right;\n",
       "    }\n",
       "</style>\n",
       "<table border=\"1\" class=\"dataframe\">\n",
       "  <thead>\n",
       "    <tr style=\"text-align: right;\">\n",
       "      <th></th>\n",
       "      <th>Opportunity ID</th>\n",
       "      <th>Technology\\nPrimary</th>\n",
       "      <th>City</th>\n",
       "      <th>B2B Sales Medium</th>\n",
       "      <th>Sales Velocity</th>\n",
       "      <th>Opportunity Status</th>\n",
       "      <th>Sales Stage Iterations</th>\n",
       "      <th>Opportunity Size (USD)</th>\n",
       "      <th>Client Revenue Sizing</th>\n",
       "      <th>Client Employee Sizing</th>\n",
       "      <th>Business from Client Last Year</th>\n",
       "      <th>Compete Intel</th>\n",
       "      <th>Opportunity Sizing</th>\n",
       "    </tr>\n",
       "  </thead>\n",
       "  <tbody>\n",
       "    <tr>\n",
       "      <th>0</th>\n",
       "      <td>N00000001</td>\n",
       "      <td>ERP Implementation</td>\n",
       "      <td>Bengaluru</td>\n",
       "      <td>Marketing</td>\n",
       "      <td>76</td>\n",
       "      <td>Won</td>\n",
       "      <td>13</td>\n",
       "      <td>0</td>\n",
       "      <td>More than 1M</td>\n",
       "      <td>More than 25K</td>\n",
       "      <td>0 (No business)</td>\n",
       "      <td>Unknown</td>\n",
       "      <td>10K or less</td>\n",
       "    </tr>\n",
       "    <tr>\n",
       "      <th>1</th>\n",
       "      <td>N00000002</td>\n",
       "      <td>ERP Implementation</td>\n",
       "      <td>Delhi</td>\n",
       "      <td>Enterprise Sellers</td>\n",
       "      <td>63</td>\n",
       "      <td>Loss</td>\n",
       "      <td>2</td>\n",
       "      <td>0</td>\n",
       "      <td>250K to 500K</td>\n",
       "      <td>More than 25K</td>\n",
       "      <td>0 (No business)</td>\n",
       "      <td>Unknown</td>\n",
       "      <td>10K or less</td>\n",
       "    </tr>\n",
       "    <tr>\n",
       "      <th>2</th>\n",
       "      <td>N00000003</td>\n",
       "      <td>Technical Business Solutions</td>\n",
       "      <td>Delhi</td>\n",
       "      <td>Enterprise Sellers</td>\n",
       "      <td>24</td>\n",
       "      <td>Won</td>\n",
       "      <td>7</td>\n",
       "      <td>7750</td>\n",
       "      <td>100K or less</td>\n",
       "      <td>1K or less</td>\n",
       "      <td>0 (No business)</td>\n",
       "      <td>Unknown</td>\n",
       "      <td>10K or less</td>\n",
       "    </tr>\n",
       "    <tr>\n",
       "      <th>3</th>\n",
       "      <td>N00000004</td>\n",
       "      <td>Technical Business Solutions</td>\n",
       "      <td>Mumbai</td>\n",
       "      <td>Enterprise Sellers</td>\n",
       "      <td>16</td>\n",
       "      <td>Loss</td>\n",
       "      <td>5</td>\n",
       "      <td>0</td>\n",
       "      <td>100K or less</td>\n",
       "      <td>1K or less</td>\n",
       "      <td>0 (No business)</td>\n",
       "      <td>Known</td>\n",
       "      <td>10K or less</td>\n",
       "    </tr>\n",
       "    <tr>\n",
       "      <th>4</th>\n",
       "      <td>N00000005</td>\n",
       "      <td>ERP Implementation</td>\n",
       "      <td>Delhi</td>\n",
       "      <td>Enterprise Sellers</td>\n",
       "      <td>69</td>\n",
       "      <td>Loss</td>\n",
       "      <td>11</td>\n",
       "      <td>32886</td>\n",
       "      <td>100K or less</td>\n",
       "      <td>1K or less</td>\n",
       "      <td>0 (No business)</td>\n",
       "      <td>Unknown</td>\n",
       "      <td>30K to 40K</td>\n",
       "    </tr>\n",
       "  </tbody>\n",
       "</table>\n",
       "</div>"
      ],
      "text/plain": [
       "  Opportunity ID           Technology\\nPrimary       City    B2B Sales Medium  \\\n",
       "0      N00000001            ERP Implementation  Bengaluru           Marketing   \n",
       "1      N00000002            ERP Implementation      Delhi  Enterprise Sellers   \n",
       "2      N00000003  Technical Business Solutions      Delhi  Enterprise Sellers   \n",
       "3      N00000004  Technical Business Solutions     Mumbai  Enterprise Sellers   \n",
       "4      N00000005            ERP Implementation      Delhi  Enterprise Sellers   \n",
       "\n",
       "   Sales Velocity Opportunity Status  Sales Stage Iterations  \\\n",
       "0              76                Won                      13   \n",
       "1              63               Loss                       2   \n",
       "2              24                Won                       7   \n",
       "3              16               Loss                       5   \n",
       "4              69               Loss                      11   \n",
       "\n",
       "   Opportunity Size (USD) Client Revenue Sizing Client Employee Sizing  \\\n",
       "0                       0          More than 1M          More than 25K   \n",
       "1                       0          250K to 500K          More than 25K   \n",
       "2                    7750          100K or less             1K or less   \n",
       "3                       0          100K or less             1K or less   \n",
       "4                   32886          100K or less             1K or less   \n",
       "\n",
       "  Business from Client Last Year Compete Intel Opportunity Sizing  \n",
       "0                0 (No business)       Unknown        10K or less  \n",
       "1                0 (No business)       Unknown        10K or less  \n",
       "2                0 (No business)       Unknown        10K or less  \n",
       "3                0 (No business)         Known        10K or less  \n",
       "4                0 (No business)       Unknown         30K to 40K  "
      ]
     },
     "execution_count": 3,
     "metadata": {},
     "output_type": "execute_result"
    }
   ],
   "source": [
    "df = pd.read_excel(r\"/kaggle/input/sales-pipeline-conversion-at-a-saas-startup/Sales Dataset.xlsx\")\n",
    "df.head()"
   ]
  },
  {
   "cell_type": "code",
   "execution_count": 4,
   "metadata": {
    "execution": {
     "iopub.execute_input": "2020-08-24T13:19:59.294673Z",
     "iopub.status.busy": "2020-08-24T13:19:59.293847Z",
     "iopub.status.idle": "2020-08-24T13:19:59.313616Z",
     "shell.execute_reply": "2020-08-24T13:19:59.314204Z"
    },
    "papermill": {
     "duration": 0.138794,
     "end_time": "2020-08-24T13:19:59.314389",
     "exception": false,
     "start_time": "2020-08-24T13:19:59.175595",
     "status": "completed"
    },
    "tags": []
   },
   "outputs": [
    {
     "name": "stdout",
     "output_type": "stream",
     "text": [
      "<class 'pandas.core.frame.DataFrame'>\n",
      "RangeIndex: 78025 entries, 0 to 78024\n",
      "Data columns (total 13 columns):\n",
      " #   Column                          Non-Null Count  Dtype \n",
      "---  ------                          --------------  ----- \n",
      " 0   Opportunity ID                  78025 non-null  object\n",
      " 1   Technology\n",
      "Primary              78025 non-null  object\n",
      " 2   City                            78025 non-null  object\n",
      " 3   B2B Sales Medium                78025 non-null  object\n",
      " 4   Sales Velocity                  78025 non-null  int64 \n",
      " 5   Opportunity Status              78025 non-null  object\n",
      " 6   Sales Stage Iterations          78025 non-null  int64 \n",
      " 7   Opportunity Size (USD)          78025 non-null  int64 \n",
      " 8   Client Revenue Sizing           78025 non-null  object\n",
      " 9   Client Employee Sizing          78025 non-null  object\n",
      " 10  Business from Client Last Year  78025 non-null  object\n",
      " 11  Compete Intel                   78025 non-null  object\n",
      " 12  Opportunity Sizing              78025 non-null  object\n",
      "dtypes: int64(3), object(10)\n",
      "memory usage: 7.7+ MB\n"
     ]
    }
   ],
   "source": [
    "df.info()"
   ]
  },
  {
   "cell_type": "code",
   "execution_count": 5,
   "metadata": {
    "execution": {
     "iopub.execute_input": "2020-08-24T13:19:59.379775Z",
     "iopub.status.busy": "2020-08-24T13:19:59.378848Z",
     "iopub.status.idle": "2020-08-24T13:19:59.383599Z",
     "shell.execute_reply": "2020-08-24T13:19:59.384182Z"
    },
    "papermill": {
     "duration": 0.040323,
     "end_time": "2020-08-24T13:19:59.384404",
     "exception": false,
     "start_time": "2020-08-24T13:19:59.344081",
     "status": "completed"
    },
    "tags": []
   },
   "outputs": [
    {
     "data": {
      "text/plain": [
       "(78025, 13)"
      ]
     },
     "execution_count": 5,
     "metadata": {},
     "output_type": "execute_result"
    }
   ],
   "source": [
    "df.shape"
   ]
  },
  {
   "cell_type": "code",
   "execution_count": 6,
   "metadata": {
    "execution": {
     "iopub.execute_input": "2020-08-24T13:19:59.454801Z",
     "iopub.status.busy": "2020-08-24T13:19:59.453974Z",
     "iopub.status.idle": "2020-08-24T13:19:59.482847Z",
     "shell.execute_reply": "2020-08-24T13:19:59.482030Z"
    },
    "papermill": {
     "duration": 0.068761,
     "end_time": "2020-08-24T13:19:59.482987",
     "exception": false,
     "start_time": "2020-08-24T13:19:59.414226",
     "status": "completed"
    },
    "tags": []
   },
   "outputs": [
    {
     "data": {
      "text/html": [
       "<div>\n",
       "<style scoped>\n",
       "    .dataframe tbody tr th:only-of-type {\n",
       "        vertical-align: middle;\n",
       "    }\n",
       "\n",
       "    .dataframe tbody tr th {\n",
       "        vertical-align: top;\n",
       "    }\n",
       "\n",
       "    .dataframe thead th {\n",
       "        text-align: right;\n",
       "    }\n",
       "</style>\n",
       "<table border=\"1\" class=\"dataframe\">\n",
       "  <thead>\n",
       "    <tr style=\"text-align: right;\">\n",
       "      <th></th>\n",
       "      <th>Sales Velocity</th>\n",
       "      <th>Sales Stage Iterations</th>\n",
       "      <th>Opportunity Size (USD)</th>\n",
       "    </tr>\n",
       "  </thead>\n",
       "  <tbody>\n",
       "    <tr>\n",
       "      <th>count</th>\n",
       "      <td>78025.000000</td>\n",
       "      <td>78025.000000</td>\n",
       "      <td>78025.000000</td>\n",
       "    </tr>\n",
       "    <tr>\n",
       "      <th>mean</th>\n",
       "      <td>43.595348</td>\n",
       "      <td>2.955732</td>\n",
       "      <td>30085.664992</td>\n",
       "    </tr>\n",
       "    <tr>\n",
       "      <th>std</th>\n",
       "      <td>26.585600</td>\n",
       "      <td>1.497242</td>\n",
       "      <td>21169.932617</td>\n",
       "    </tr>\n",
       "    <tr>\n",
       "      <th>min</th>\n",
       "      <td>0.000000</td>\n",
       "      <td>1.000000</td>\n",
       "      <td>0.000000</td>\n",
       "    </tr>\n",
       "    <tr>\n",
       "      <th>25%</th>\n",
       "      <td>19.000000</td>\n",
       "      <td>2.000000</td>\n",
       "      <td>13816.000000</td>\n",
       "    </tr>\n",
       "    <tr>\n",
       "      <th>50%</th>\n",
       "      <td>43.000000</td>\n",
       "      <td>3.000000</td>\n",
       "      <td>29845.000000</td>\n",
       "    </tr>\n",
       "    <tr>\n",
       "      <th>75%</th>\n",
       "      <td>65.000000</td>\n",
       "      <td>3.000000</td>\n",
       "      <td>43185.000000</td>\n",
       "    </tr>\n",
       "    <tr>\n",
       "      <th>max</th>\n",
       "      <td>210.000000</td>\n",
       "      <td>23.000000</td>\n",
       "      <td>149981.000000</td>\n",
       "    </tr>\n",
       "  </tbody>\n",
       "</table>\n",
       "</div>"
      ],
      "text/plain": [
       "       Sales Velocity  Sales Stage Iterations  Opportunity Size (USD)\n",
       "count    78025.000000            78025.000000            78025.000000\n",
       "mean        43.595348                2.955732            30085.664992\n",
       "std         26.585600                1.497242            21169.932617\n",
       "min          0.000000                1.000000                0.000000\n",
       "25%         19.000000                2.000000            13816.000000\n",
       "50%         43.000000                3.000000            29845.000000\n",
       "75%         65.000000                3.000000            43185.000000\n",
       "max        210.000000               23.000000           149981.000000"
      ]
     },
     "execution_count": 6,
     "metadata": {},
     "output_type": "execute_result"
    }
   ],
   "source": [
    "df.describe()"
   ]
  },
  {
   "cell_type": "markdown",
   "execution_count": null,
   "metadata": {
    "papermill": {
     "duration": 0.029885,
     "end_time": "2020-08-24T13:19:59.543235",
     "exception": false,
     "start_time": "2020-08-24T13:19:59.513350",
     "status": "completed"
    },
    "tags": []
   },
   "source": [
    "# Duplicate Check"
   ]
  },
  {
   "cell_type": "code",
   "execution_count": 7,
   "metadata": {
    "execution": {
     "iopub.execute_input": "2020-08-24T13:19:59.610684Z",
     "iopub.status.busy": "2020-08-24T13:19:59.609438Z",
     "iopub.status.idle": "2020-08-24T13:19:59.759170Z",
     "shell.execute_reply": "2020-08-24T13:19:59.758406Z"
    },
    "papermill": {
     "duration": 0.185848,
     "end_time": "2020-08-24T13:19:59.759318",
     "exception": false,
     "start_time": "2020-08-24T13:19:59.573470",
     "status": "completed"
    },
    "tags": []
   },
   "outputs": [
    {
     "data": {
      "text/plain": [
       "(78025, 13)"
      ]
     },
     "execution_count": 7,
     "metadata": {},
     "output_type": "execute_result"
    }
   ],
   "source": [
    "df_dub = df.copy()\n",
    "\n",
    "# Checking for duplicates and dropping the entire duplicate row if any\n",
    "df_dub.drop_duplicates(subset=None, inplace=True)\n",
    "df_dub.shape"
   ]
  },
  {
   "cell_type": "code",
   "execution_count": 8,
   "metadata": {
    "execution": {
     "iopub.execute_input": "2020-08-24T13:19:59.827940Z",
     "iopub.status.busy": "2020-08-24T13:19:59.827127Z",
     "iopub.status.idle": "2020-08-24T13:19:59.832681Z",
     "shell.execute_reply": "2020-08-24T13:19:59.831932Z"
    },
    "papermill": {
     "duration": 0.042301,
     "end_time": "2020-08-24T13:19:59.832811",
     "exception": false,
     "start_time": "2020-08-24T13:19:59.790510",
     "status": "completed"
    },
    "tags": []
   },
   "outputs": [
    {
     "data": {
      "text/plain": [
       "(78025, 13)"
      ]
     },
     "execution_count": 8,
     "metadata": {},
     "output_type": "execute_result"
    }
   ],
   "source": [
    "df.shape"
   ]
  },
  {
   "cell_type": "markdown",
   "execution_count": null,
   "metadata": {
    "papermill": {
     "duration": 0.030108,
     "end_time": "2020-08-24T13:19:59.894186",
     "exception": false,
     "start_time": "2020-08-24T13:19:59.864078",
     "status": "completed"
    },
    "tags": []
   },
   "source": [
    "The shape after running the drop duplicate command is same as the original dataframe.\n",
    "\n",
    "Hence we can conclude that there were zero duplicate values in the dataset."
   ]
  },
  {
   "cell_type": "markdown",
   "execution_count": null,
   "metadata": {
    "papermill": {
     "duration": 0.030162,
     "end_time": "2020-08-24T13:19:59.955304",
     "exception": false,
     "start_time": "2020-08-24T13:19:59.925142",
     "status": "completed"
    },
    "tags": []
   },
   "source": [
    "# Data Preparation"
   ]
  },
  {
   "cell_type": "markdown",
   "execution_count": null,
   "metadata": {
    "papermill": {
     "duration": 0.032818,
     "end_time": "2020-08-24T13:20:00.018715",
     "exception": false,
     "start_time": "2020-08-24T13:19:59.985897",
     "status": "completed"
    },
    "tags": []
   },
   "source": [
    "Converting some binary variables (Won/Lost) to 1/0"
   ]
  },
  {
   "cell_type": "code",
   "execution_count": 9,
   "metadata": {
    "execution": {
     "iopub.execute_input": "2020-08-24T13:20:00.092544Z",
     "iopub.status.busy": "2020-08-24T13:20:00.091240Z",
     "iopub.status.idle": "2020-08-24T13:20:00.131496Z",
     "shell.execute_reply": "2020-08-24T13:20:00.132114Z"
    },
    "papermill": {
     "duration": 0.081395,
     "end_time": "2020-08-24T13:20:00.132305",
     "exception": false,
     "start_time": "2020-08-24T13:20:00.050910",
     "status": "completed"
    },
    "tags": []
   },
   "outputs": [
    {
     "data": {
      "text/html": [
       "<div>\n",
       "<style scoped>\n",
       "    .dataframe tbody tr th:only-of-type {\n",
       "        vertical-align: middle;\n",
       "    }\n",
       "\n",
       "    .dataframe tbody tr th {\n",
       "        vertical-align: top;\n",
       "    }\n",
       "\n",
       "    .dataframe thead th {\n",
       "        text-align: right;\n",
       "    }\n",
       "</style>\n",
       "<table border=\"1\" class=\"dataframe\">\n",
       "  <thead>\n",
       "    <tr style=\"text-align: right;\">\n",
       "      <th></th>\n",
       "      <th>Opportunity ID</th>\n",
       "      <th>Technology\\nPrimary</th>\n",
       "      <th>City</th>\n",
       "      <th>B2B Sales Medium</th>\n",
       "      <th>Sales Velocity</th>\n",
       "      <th>Opportunity Status</th>\n",
       "      <th>Sales Stage Iterations</th>\n",
       "      <th>Opportunity Size (USD)</th>\n",
       "      <th>Client Revenue Sizing</th>\n",
       "      <th>Client Employee Sizing</th>\n",
       "      <th>Business from Client Last Year</th>\n",
       "      <th>Compete Intel</th>\n",
       "      <th>Opportunity Sizing</th>\n",
       "    </tr>\n",
       "  </thead>\n",
       "  <tbody>\n",
       "    <tr>\n",
       "      <th>0</th>\n",
       "      <td>N00000001</td>\n",
       "      <td>ERP Implementation</td>\n",
       "      <td>Bengaluru</td>\n",
       "      <td>Marketing</td>\n",
       "      <td>76</td>\n",
       "      <td>1</td>\n",
       "      <td>13</td>\n",
       "      <td>0</td>\n",
       "      <td>More than 1M</td>\n",
       "      <td>More than 25K</td>\n",
       "      <td>0 (No business)</td>\n",
       "      <td>Unknown</td>\n",
       "      <td>10K or less</td>\n",
       "    </tr>\n",
       "    <tr>\n",
       "      <th>1</th>\n",
       "      <td>N00000002</td>\n",
       "      <td>ERP Implementation</td>\n",
       "      <td>Delhi</td>\n",
       "      <td>Enterprise Sellers</td>\n",
       "      <td>63</td>\n",
       "      <td>0</td>\n",
       "      <td>2</td>\n",
       "      <td>0</td>\n",
       "      <td>250K to 500K</td>\n",
       "      <td>More than 25K</td>\n",
       "      <td>0 (No business)</td>\n",
       "      <td>Unknown</td>\n",
       "      <td>10K or less</td>\n",
       "    </tr>\n",
       "    <tr>\n",
       "      <th>2</th>\n",
       "      <td>N00000003</td>\n",
       "      <td>Technical Business Solutions</td>\n",
       "      <td>Delhi</td>\n",
       "      <td>Enterprise Sellers</td>\n",
       "      <td>24</td>\n",
       "      <td>1</td>\n",
       "      <td>7</td>\n",
       "      <td>7750</td>\n",
       "      <td>100K or less</td>\n",
       "      <td>1K or less</td>\n",
       "      <td>0 (No business)</td>\n",
       "      <td>Unknown</td>\n",
       "      <td>10K or less</td>\n",
       "    </tr>\n",
       "    <tr>\n",
       "      <th>3</th>\n",
       "      <td>N00000004</td>\n",
       "      <td>Technical Business Solutions</td>\n",
       "      <td>Mumbai</td>\n",
       "      <td>Enterprise Sellers</td>\n",
       "      <td>16</td>\n",
       "      <td>0</td>\n",
       "      <td>5</td>\n",
       "      <td>0</td>\n",
       "      <td>100K or less</td>\n",
       "      <td>1K or less</td>\n",
       "      <td>0 (No business)</td>\n",
       "      <td>Known</td>\n",
       "      <td>10K or less</td>\n",
       "    </tr>\n",
       "    <tr>\n",
       "      <th>4</th>\n",
       "      <td>N00000005</td>\n",
       "      <td>ERP Implementation</td>\n",
       "      <td>Delhi</td>\n",
       "      <td>Enterprise Sellers</td>\n",
       "      <td>69</td>\n",
       "      <td>0</td>\n",
       "      <td>11</td>\n",
       "      <td>32886</td>\n",
       "      <td>100K or less</td>\n",
       "      <td>1K or less</td>\n",
       "      <td>0 (No business)</td>\n",
       "      <td>Unknown</td>\n",
       "      <td>30K to 40K</td>\n",
       "    </tr>\n",
       "  </tbody>\n",
       "</table>\n",
       "</div>"
      ],
      "text/plain": [
       "  Opportunity ID           Technology\\nPrimary       City    B2B Sales Medium  \\\n",
       "0      N00000001            ERP Implementation  Bengaluru           Marketing   \n",
       "1      N00000002            ERP Implementation      Delhi  Enterprise Sellers   \n",
       "2      N00000003  Technical Business Solutions      Delhi  Enterprise Sellers   \n",
       "3      N00000004  Technical Business Solutions     Mumbai  Enterprise Sellers   \n",
       "4      N00000005            ERP Implementation      Delhi  Enterprise Sellers   \n",
       "\n",
       "   Sales Velocity  Opportunity Status  Sales Stage Iterations  \\\n",
       "0              76                   1                      13   \n",
       "1              63                   0                       2   \n",
       "2              24                   1                       7   \n",
       "3              16                   0                       5   \n",
       "4              69                   0                      11   \n",
       "\n",
       "   Opportunity Size (USD) Client Revenue Sizing Client Employee Sizing  \\\n",
       "0                       0          More than 1M          More than 25K   \n",
       "1                       0          250K to 500K          More than 25K   \n",
       "2                    7750          100K or less             1K or less   \n",
       "3                       0          100K or less             1K or less   \n",
       "4                   32886          100K or less             1K or less   \n",
       "\n",
       "  Business from Client Last Year Compete Intel Opportunity Sizing  \n",
       "0                0 (No business)       Unknown        10K or less  \n",
       "1                0 (No business)       Unknown        10K or less  \n",
       "2                0 (No business)       Unknown        10K or less  \n",
       "3                0 (No business)         Known        10K or less  \n",
       "4                0 (No business)       Unknown         30K to 40K  "
      ]
     },
     "execution_count": 9,
     "metadata": {},
     "output_type": "execute_result"
    }
   ],
   "source": [
    "# List of variables to map\n",
    "\n",
    "varlist =  ['Opportunity Status']\n",
    "\n",
    "# Defining the map function\n",
    "def binary_map(x):\n",
    "    return x.map({'Won': 1, \"Loss\": 0})\n",
    "\n",
    "# Applying the function to the housing list\n",
    "df[varlist] = df[varlist].apply(binary_map)\n",
    "df.head()"
   ]
  },
  {
   "cell_type": "markdown",
   "execution_count": null,
   "metadata": {
    "papermill": {
     "duration": 0.091466,
     "end_time": "2020-08-24T13:20:00.254937",
     "exception": false,
     "start_time": "2020-08-24T13:20:00.163471",
     "status": "completed"
    },
    "tags": []
   },
   "source": [
    "#Dproping 'Opportunity ID' field as it will not help to take decision "
   ]
  },
  {
   "cell_type": "code",
   "execution_count": 10,
   "metadata": {
    "execution": {
     "iopub.execute_input": "2020-08-24T13:20:00.337756Z",
     "iopub.status.busy": "2020-08-24T13:20:00.336402Z",
     "iopub.status.idle": "2020-08-24T13:20:00.367812Z",
     "shell.execute_reply": "2020-08-24T13:20:00.366753Z"
    },
    "papermill": {
     "duration": 0.078565,
     "end_time": "2020-08-24T13:20:00.368031",
     "exception": false,
     "start_time": "2020-08-24T13:20:00.289466",
     "status": "completed"
    },
    "tags": []
   },
   "outputs": [
    {
     "data": {
      "text/html": [
       "<div>\n",
       "<style scoped>\n",
       "    .dataframe tbody tr th:only-of-type {\n",
       "        vertical-align: middle;\n",
       "    }\n",
       "\n",
       "    .dataframe tbody tr th {\n",
       "        vertical-align: top;\n",
       "    }\n",
       "\n",
       "    .dataframe thead th {\n",
       "        text-align: right;\n",
       "    }\n",
       "</style>\n",
       "<table border=\"1\" class=\"dataframe\">\n",
       "  <thead>\n",
       "    <tr style=\"text-align: right;\">\n",
       "      <th></th>\n",
       "      <th>Technology\\nPrimary</th>\n",
       "      <th>City</th>\n",
       "      <th>B2B Sales Medium</th>\n",
       "      <th>Sales Velocity</th>\n",
       "      <th>Opportunity Status</th>\n",
       "      <th>Sales Stage Iterations</th>\n",
       "      <th>Opportunity Size (USD)</th>\n",
       "      <th>Client Revenue Sizing</th>\n",
       "      <th>Client Employee Sizing</th>\n",
       "      <th>Business from Client Last Year</th>\n",
       "      <th>Compete Intel</th>\n",
       "      <th>Opportunity Sizing</th>\n",
       "    </tr>\n",
       "  </thead>\n",
       "  <tbody>\n",
       "    <tr>\n",
       "      <th>0</th>\n",
       "      <td>ERP Implementation</td>\n",
       "      <td>Bengaluru</td>\n",
       "      <td>Marketing</td>\n",
       "      <td>76</td>\n",
       "      <td>1</td>\n",
       "      <td>13</td>\n",
       "      <td>0</td>\n",
       "      <td>More than 1M</td>\n",
       "      <td>More than 25K</td>\n",
       "      <td>0 (No business)</td>\n",
       "      <td>Unknown</td>\n",
       "      <td>10K or less</td>\n",
       "    </tr>\n",
       "    <tr>\n",
       "      <th>1</th>\n",
       "      <td>ERP Implementation</td>\n",
       "      <td>Delhi</td>\n",
       "      <td>Enterprise Sellers</td>\n",
       "      <td>63</td>\n",
       "      <td>0</td>\n",
       "      <td>2</td>\n",
       "      <td>0</td>\n",
       "      <td>250K to 500K</td>\n",
       "      <td>More than 25K</td>\n",
       "      <td>0 (No business)</td>\n",
       "      <td>Unknown</td>\n",
       "      <td>10K or less</td>\n",
       "    </tr>\n",
       "    <tr>\n",
       "      <th>2</th>\n",
       "      <td>Technical Business Solutions</td>\n",
       "      <td>Delhi</td>\n",
       "      <td>Enterprise Sellers</td>\n",
       "      <td>24</td>\n",
       "      <td>1</td>\n",
       "      <td>7</td>\n",
       "      <td>7750</td>\n",
       "      <td>100K or less</td>\n",
       "      <td>1K or less</td>\n",
       "      <td>0 (No business)</td>\n",
       "      <td>Unknown</td>\n",
       "      <td>10K or less</td>\n",
       "    </tr>\n",
       "    <tr>\n",
       "      <th>3</th>\n",
       "      <td>Technical Business Solutions</td>\n",
       "      <td>Mumbai</td>\n",
       "      <td>Enterprise Sellers</td>\n",
       "      <td>16</td>\n",
       "      <td>0</td>\n",
       "      <td>5</td>\n",
       "      <td>0</td>\n",
       "      <td>100K or less</td>\n",
       "      <td>1K or less</td>\n",
       "      <td>0 (No business)</td>\n",
       "      <td>Known</td>\n",
       "      <td>10K or less</td>\n",
       "    </tr>\n",
       "    <tr>\n",
       "      <th>4</th>\n",
       "      <td>ERP Implementation</td>\n",
       "      <td>Delhi</td>\n",
       "      <td>Enterprise Sellers</td>\n",
       "      <td>69</td>\n",
       "      <td>0</td>\n",
       "      <td>11</td>\n",
       "      <td>32886</td>\n",
       "      <td>100K or less</td>\n",
       "      <td>1K or less</td>\n",
       "      <td>0 (No business)</td>\n",
       "      <td>Unknown</td>\n",
       "      <td>30K to 40K</td>\n",
       "    </tr>\n",
       "  </tbody>\n",
       "</table>\n",
       "</div>"
      ],
      "text/plain": [
       "            Technology\\nPrimary       City    B2B Sales Medium  \\\n",
       "0            ERP Implementation  Bengaluru           Marketing   \n",
       "1            ERP Implementation      Delhi  Enterprise Sellers   \n",
       "2  Technical Business Solutions      Delhi  Enterprise Sellers   \n",
       "3  Technical Business Solutions     Mumbai  Enterprise Sellers   \n",
       "4            ERP Implementation      Delhi  Enterprise Sellers   \n",
       "\n",
       "   Sales Velocity  Opportunity Status  Sales Stage Iterations  \\\n",
       "0              76                   1                      13   \n",
       "1              63                   0                       2   \n",
       "2              24                   1                       7   \n",
       "3              16                   0                       5   \n",
       "4              69                   0                      11   \n",
       "\n",
       "   Opportunity Size (USD) Client Revenue Sizing Client Employee Sizing  \\\n",
       "0                       0          More than 1M          More than 25K   \n",
       "1                       0          250K to 500K          More than 25K   \n",
       "2                    7750          100K or less             1K or less   \n",
       "3                       0          100K or less             1K or less   \n",
       "4                   32886          100K or less             1K or less   \n",
       "\n",
       "  Business from Client Last Year Compete Intel Opportunity Sizing  \n",
       "0                0 (No business)       Unknown        10K or less  \n",
       "1                0 (No business)       Unknown        10K or less  \n",
       "2                0 (No business)       Unknown        10K or less  \n",
       "3                0 (No business)         Known        10K or less  \n",
       "4                0 (No business)       Unknown         30K to 40K  "
      ]
     },
     "execution_count": 10,
     "metadata": {},
     "output_type": "execute_result"
    }
   ],
   "source": [
    "df= df.drop(['Opportunity ID'],1)\n",
    "df.head()"
   ]
  },
  {
   "cell_type": "code",
   "execution_count": null,
   "metadata": {
    "papermill": {
     "duration": 0.031245,
     "end_time": "2020-08-24T13:20:00.436256",
     "exception": false,
     "start_time": "2020-08-24T13:20:00.405011",
     "status": "completed"
    },
    "tags": []
   },
   "outputs": [],
   "source": []
  },
  {
   "cell_type": "markdown",
   "execution_count": null,
   "metadata": {
    "papermill": {
     "duration": 0.031004,
     "end_time": "2020-08-24T13:20:00.498840",
     "exception": false,
     "start_time": "2020-08-24T13:20:00.467836",
     "status": "completed"
    },
    "tags": []
   },
   "source": [
    "Technology\\nPrimary"
   ]
  },
  {
   "cell_type": "code",
   "execution_count": 11,
   "metadata": {
    "execution": {
     "iopub.execute_input": "2020-08-24T13:20:00.587953Z",
     "iopub.status.busy": "2020-08-24T13:20:00.586862Z",
     "iopub.status.idle": "2020-08-24T13:20:00.625946Z",
     "shell.execute_reply": "2020-08-24T13:20:00.625319Z"
    },
    "papermill": {
     "duration": 0.095621,
     "end_time": "2020-08-24T13:20:00.626085",
     "exception": false,
     "start_time": "2020-08-24T13:20:00.530464",
     "status": "completed"
    },
    "tags": []
   },
   "outputs": [
    {
     "data": {
      "text/plain": [
       "count                  78025\n",
       "unique                     4\n",
       "top       ERP Implementation\n",
       "freq                   49810\n",
       "Name: Technology\\nPrimary, dtype: object"
      ]
     },
     "execution_count": 11,
     "metadata": {},
     "output_type": "execute_result"
    }
   ],
   "source": [
    "df['Technology\\nPrimary'].describe()"
   ]
  },
  {
   "cell_type": "code",
   "execution_count": 12,
   "metadata": {
    "execution": {
     "iopub.execute_input": "2020-08-24T13:20:00.717801Z",
     "iopub.status.busy": "2020-08-24T13:20:00.716845Z",
     "iopub.status.idle": "2020-08-24T13:20:00.721891Z",
     "shell.execute_reply": "2020-08-24T13:20:00.721076Z"
    },
    "papermill": {
     "duration": 0.064367,
     "end_time": "2020-08-24T13:20:00.722035",
     "exception": false,
     "start_time": "2020-08-24T13:20:00.657668",
     "status": "completed"
    },
    "tags": []
   },
   "outputs": [
    {
     "data": {
      "text/plain": [
       "ERP Implementation              49810\n",
       "Technical Business Solutions    27325\n",
       "Legacy Modernization              609\n",
       "Analytics                         281\n",
       "Name: Technology\\nPrimary, dtype: int64"
      ]
     },
     "execution_count": 12,
     "metadata": {},
     "output_type": "execute_result"
    }
   ],
   "source": [
    "df['Technology\\nPrimary'].value_counts()"
   ]
  },
  {
   "cell_type": "code",
   "execution_count": 13,
   "metadata": {
    "execution": {
     "iopub.execute_input": "2020-08-24T13:20:00.794974Z",
     "iopub.status.busy": "2020-08-24T13:20:00.794021Z",
     "iopub.status.idle": "2020-08-24T13:20:01.484930Z",
     "shell.execute_reply": "2020-08-24T13:20:01.484281Z"
    },
    "papermill": {
     "duration": 0.730806,
     "end_time": "2020-08-24T13:20:01.485072",
     "exception": false,
     "start_time": "2020-08-24T13:20:00.754266",
     "status": "completed"
    },
    "tags": []
   },
   "outputs": [
    {
     "data": {
      "image/png": "[encoded data removed]",
      "text/plain": [
       "<Figure size 720x360 with 1 Axes>"
      ]
     },
     "metadata": {
      "needs_background": "light"
     },
     "output_type": "display_data"
    }
   ],
   "source": [
    "plt.figure(figsize = (10,5))\n",
    "ax= sns.countplot(df['Technology\\nPrimary'])\n",
    "for p in ax.patches:\n",
    "    ax.annotate(str(p.get_height()), (p.get_x() * 1.01 , p.get_height() * 1.01))\n",
    "ax.set_yscale('log')\n",
    "plt.xticks(rotation = 90)\n",
    "plt.show()"
   ]
  },
  {
   "cell_type": "code",
   "execution_count": 14,
   "metadata": {
    "execution": {
     "iopub.execute_input": "2020-08-24T13:20:01.565290Z",
     "iopub.status.busy": "2020-08-24T13:20:01.564483Z",
     "iopub.status.idle": "2020-08-24T13:20:02.102548Z",
     "shell.execute_reply": "2020-08-24T13:20:02.101903Z"
    },
    "papermill": {
     "duration": 0.585293,
     "end_time": "2020-08-24T13:20:02.102710",
     "exception": false,
     "start_time": "2020-08-24T13:20:01.517417",
     "status": "completed"
    },
    "tags": []
   },
   "outputs": [
    {
     "data": {
      "image/png": "[encoded data removed]",
      "text/plain": [
       "<Figure size 1440x432 with 1 Axes>"
      ]
     },
     "metadata": {
      "needs_background": "light"
     },
     "output_type": "display_data"
    }
   ],
   "source": [
    "plt.figure(figsize = (20,6))\n",
    "ax= sns.countplot(x = \"Technology\\nPrimary\", hue = \"Opportunity Status\", data = df)\n",
    "for p in ax.patches:\n",
    "    ax.annotate(str(p.get_height()), (p.get_x() * 1.01 , p.get_height() * 1.01))\n",
    "plt.xticks(rotation = 90)\n",
    "ax.set_yscale('log')\n",
    "plt.show()"
   ]
  },
  {
   "cell_type": "markdown",
   "execution_count": null,
   "metadata": {
    "papermill": {
     "duration": 0.03228,
     "end_time": "2020-08-24T13:20:02.168314",
     "exception": false,
     "start_time": "2020-08-24T13:20:02.136034",
     "status": "completed"
    },
    "tags": []
   },
   "source": [
    "City"
   ]
  },
  {
   "cell_type": "code",
   "execution_count": 15,
   "metadata": {
    "execution": {
     "iopub.execute_input": "2020-08-24T13:20:02.268518Z",
     "iopub.status.busy": "2020-08-24T13:20:02.267698Z",
     "iopub.status.idle": "2020-08-24T13:20:02.275976Z",
     "shell.execute_reply": "2020-08-24T13:20:02.275211Z"
    },
    "papermill": {
     "duration": 0.075257,
     "end_time": "2020-08-24T13:20:02.276113",
     "exception": false,
     "start_time": "2020-08-24T13:20:02.200856",
     "status": "completed"
    },
    "tags": []
   },
   "outputs": [
    {
     "data": {
      "text/plain": [
       "count      78025\n",
       "unique         7\n",
       "top       Mumbai\n",
       "freq       21020\n",
       "Name: City, dtype: object"
      ]
     },
     "execution_count": 15,
     "metadata": {},
     "output_type": "execute_result"
    }
   ],
   "source": [
    "df['City'].describe()"
   ]
  },
  {
   "cell_type": "code",
   "execution_count": 16,
   "metadata": {
    "execution": {
     "iopub.execute_input": "2020-08-24T13:20:02.370253Z",
     "iopub.status.busy": "2020-08-24T13:20:02.369135Z",
     "iopub.status.idle": "2020-08-24T13:20:02.374627Z",
     "shell.execute_reply": "2020-08-24T13:20:02.373915Z"
    },
    "papermill": {
     "duration": 0.065462,
     "end_time": "2020-08-24T13:20:02.374765",
     "exception": false,
     "start_time": "2020-08-24T13:20:02.309303",
     "status": "completed"
    },
    "tags": []
   },
   "outputs": [
    {
     "data": {
      "text/plain": [
       "Mumbai       21020\n",
       "Delhi        15142\n",
       "Bengaluru     9552\n",
       "Hyderabad     9232\n",
       "Pune          8153\n",
       "Chennai       7568\n",
       "Kolkata       7358\n",
       "Name: City, dtype: int64"
      ]
     },
     "execution_count": 16,
     "metadata": {},
     "output_type": "execute_result"
    }
   ],
   "source": [
    "df['City'].value_counts()"
   ]
  },
  {
   "cell_type": "code",
   "execution_count": 17,
   "metadata": {
    "execution": {
     "iopub.execute_input": "2020-08-24T13:20:02.456680Z",
     "iopub.status.busy": "2020-08-24T13:20:02.449647Z",
     "iopub.status.idle": "2020-08-24T13:20:02.841550Z",
     "shell.execute_reply": "2020-08-24T13:20:02.840733Z"
    },
    "papermill": {
     "duration": 0.433803,
     "end_time": "2020-08-24T13:20:02.841741",
     "exception": false,
     "start_time": "2020-08-24T13:20:02.407938",
     "status": "completed"
    },
    "tags": []
   },
   "outputs": [
    {
     "data": {
      "image/png": "[encoded data removed]",
      "text/plain": [
       "<Figure size 720x360 with 1 Axes>"
      ]
     },
     "metadata": {
      "needs_background": "light"
     },
     "output_type": "display_data"
    }
   ],
   "source": [
    "plt.figure(figsize = (10,5))\n",
    "ax= sns.countplot(df['City'])\n",
    "for p in ax.patches:\n",
    "    ax.annotate(str(p.get_height()), (p.get_x() * 1.01 , p.get_height() * 1.01))\n",
    "ax.set_yscale('log')\n",
    "plt.xticks(rotation = 90)\n",
    "plt.show()"
   ]
  },
  {
   "cell_type": "code",
   "execution_count": 18,
   "metadata": {
    "execution": {
     "iopub.execute_input": "2020-08-24T13:20:02.925412Z",
     "iopub.status.busy": "2020-08-24T13:20:02.924189Z",
     "iopub.status.idle": "2020-08-24T13:20:03.395428Z",
     "shell.execute_reply": "2020-08-24T13:20:03.394758Z"
    },
    "papermill": {
     "duration": 0.520177,
     "end_time": "2020-08-24T13:20:03.395582",
     "exception": false,
     "start_time": "2020-08-24T13:20:02.875405",
     "status": "completed"
    },
    "tags": []
   },
   "outputs": [
    {
     "data": {
      "image/png": "[encoded data removed]",
      "text/plain": [
       "<Figure size 1440x432 with 1 Axes>"
      ]
     },
     "metadata": {
      "needs_background": "light"
     },
     "output_type": "display_data"
    }
   ],
   "source": [
    "plt.figure(figsize = (20,6))\n",
    "ax= sns.countplot(x = \"City\", hue = \"Opportunity Status\", data = df)\n",
    "for p in ax.patches:\n",
    "    ax.annotate(str(p.get_height()), (p.get_x() * 1.01 , p.get_height() * 1.01))\n",
    "plt.xticks(rotation = 90)\n",
    "ax.set_yscale('log')\n",
    "plt.show()"
   ]
  },
  {
   "cell_type": "markdown",
   "execution_count": null,
   "metadata": {
    "papermill": {
     "duration": 0.033482,
     "end_time": "2020-08-24T13:20:03.463369",
     "exception": false,
     "start_time": "2020-08-24T13:20:03.429887",
     "status": "completed"
    },
    "tags": []
   },
   "source": [
    "B2B Sales Medium"
   ]
  },
  {
   "cell_type": "code",
   "execution_count": 19,
   "metadata": {
    "execution": {
     "iopub.execute_input": "2020-08-24T13:20:03.556638Z",
     "iopub.status.busy": "2020-08-24T13:20:03.555809Z",
     "iopub.status.idle": "2020-08-24T13:20:03.574743Z",
     "shell.execute_reply": "2020-08-24T13:20:03.574060Z"
    },
    "papermill": {
     "duration": 0.07761,
     "end_time": "2020-08-24T13:20:03.574891",
     "exception": false,
     "start_time": "2020-08-24T13:20:03.497281",
     "status": "completed"
    },
    "tags": []
   },
   "outputs": [
    {
     "data": {
      "text/plain": [
       "count         78025\n",
       "unique            5\n",
       "top       Marketing\n",
       "freq          37262\n",
       "Name: B2B Sales Medium, dtype: object"
      ]
     },
     "execution_count": 19,
     "metadata": {},
     "output_type": "execute_result"
    }
   ],
   "source": [
    "df['B2B Sales Medium'].describe()"
   ]
  },
  {
   "cell_type": "code",
   "execution_count": 20,
   "metadata": {
    "execution": {
     "iopub.execute_input": "2020-08-24T13:20:03.669635Z",
     "iopub.status.busy": "2020-08-24T13:20:03.666297Z",
     "iopub.status.idle": "2020-08-24T13:20:03.673885Z",
     "shell.execute_reply": "2020-08-24T13:20:03.674433Z"
    },
    "papermill": {
     "duration": 0.065742,
     "end_time": "2020-08-24T13:20:03.674629",
     "exception": false,
     "start_time": "2020-08-24T13:20:03.608887",
     "status": "completed"
    },
    "tags": []
   },
   "outputs": [
    {
     "data": {
      "text/plain": [
       "Marketing             37262\n",
       "Enterprise Sellers    34758\n",
       "Partners               2856\n",
       "Tele Sales             2530\n",
       "Online Leads            619\n",
       "Name: B2B Sales Medium, dtype: int64"
      ]
     },
     "execution_count": 20,
     "metadata": {},
     "output_type": "execute_result"
    }
   ],
   "source": [
    "df['B2B Sales Medium'].value_counts()"
   ]
  },
  {
   "cell_type": "code",
   "execution_count": 21,
   "metadata": {
    "execution": {
     "iopub.execute_input": "2020-08-24T13:20:03.760339Z",
     "iopub.status.busy": "2020-08-24T13:20:03.759493Z",
     "iopub.status.idle": "2020-08-24T13:20:04.374731Z",
     "shell.execute_reply": "2020-08-24T13:20:04.374059Z"
    },
    "papermill": {
     "duration": 0.664839,
     "end_time": "2020-08-24T13:20:04.374880",
     "exception": false,
     "start_time": "2020-08-24T13:20:03.710041",
     "status": "completed"
    },
    "tags": []
   },
   "outputs": [
    {
     "data": {
      "image/png": "[encoded data removed]",
      "text/plain": [
       "<Figure size 720x360 with 1 Axes>"
      ]
     },
     "metadata": {
      "needs_background": "light"
     },
     "output_type": "display_data"
    }
   ],
   "source": [
    "plt.figure(figsize = (10,5))\n",
    "ax= sns.countplot(df['B2B Sales Medium'])\n",
    "for p in ax.patches:\n",
    "    ax.annotate(str(p.get_height()), (p.get_x() * 1.01 , p.get_height() * 1.01))\n",
    "ax.set_yscale('log')\n",
    "plt.xticks(rotation = 90)\n",
    "plt.show()"
   ]
  },
  {
   "cell_type": "code",
   "execution_count": 22,
   "metadata": {
    "execution": {
     "iopub.execute_input": "2020-08-24T13:20:04.459509Z",
     "iopub.status.busy": "2020-08-24T13:20:04.458663Z",
     "iopub.status.idle": "2020-08-24T13:20:05.002189Z",
     "shell.execute_reply": "2020-08-24T13:20:05.001474Z"
    },
    "papermill": {
     "duration": 0.592191,
     "end_time": "2020-08-24T13:20:05.002341",
     "exception": false,
     "start_time": "2020-08-24T13:20:04.410150",
     "status": "completed"
    },
    "tags": []
   },
   "outputs": [
    {
     "data": {
      "image/png": "[encoded data removed]",
      "text/plain": [
       "<Figure size 1440x432 with 1 Axes>"
      ]
     },
     "metadata": {
      "needs_background": "light"
     },
     "output_type": "display_data"
    }
   ],
   "source": [
    "plt.figure(figsize = (20,6))\n",
    "ax= sns.countplot(x = \"B2B Sales Medium\", hue = \"Opportunity Status\", data = df)\n",
    "for p in ax.patches:\n",
    "    ax.annotate(str(p.get_height()), (p.get_x() * 1.01 , p.get_height() * 1.01))\n",
    "plt.xticks(rotation = 90)\n",
    "ax.set_yscale('log')\n",
    "plt.show()"
   ]
  },
  {
   "cell_type": "markdown",
   "execution_count": null,
   "metadata": {
    "papermill": {
     "duration": 0.035137,
     "end_time": "2020-08-24T13:20:05.073534",
     "exception": false,
     "start_time": "2020-08-24T13:20:05.038397",
     "status": "completed"
    },
    "tags": []
   },
   "source": [
    "Sales Velocity"
   ]
  },
  {
   "cell_type": "code",
   "execution_count": 23,
   "metadata": {
    "execution": {
     "iopub.execute_input": "2020-08-24T13:20:05.151299Z",
     "iopub.status.busy": "2020-08-24T13:20:05.149927Z",
     "iopub.status.idle": "2020-08-24T13:20:05.162711Z",
     "shell.execute_reply": "2020-08-24T13:20:05.162005Z"
    },
    "papermill": {
     "duration": 0.053957,
     "end_time": "2020-08-24T13:20:05.162847",
     "exception": false,
     "start_time": "2020-08-24T13:20:05.108890",
     "status": "completed"
    },
    "tags": []
   },
   "outputs": [
    {
     "data": {
      "text/plain": [
       "count    78025.000000\n",
       "mean        43.595348\n",
       "std         26.585600\n",
       "min          0.000000\n",
       "25%         19.000000\n",
       "50%         43.000000\n",
       "75%         65.000000\n",
       "max        210.000000\n",
       "Name: Sales Velocity, dtype: float64"
      ]
     },
     "execution_count": 23,
     "metadata": {},
     "output_type": "execute_result"
    }
   ],
   "source": [
    "df['Sales Velocity'].describe()"
   ]
  },
  {
   "cell_type": "code",
   "execution_count": 24,
   "metadata": {
    "execution": {
     "iopub.execute_input": "2020-08-24T13:20:05.241511Z",
     "iopub.status.busy": "2020-08-24T13:20:05.240302Z",
     "iopub.status.idle": "2020-08-24T13:20:05.612521Z",
     "shell.execute_reply": "2020-08-24T13:20:05.611900Z"
    },
    "papermill": {
     "duration": 0.414657,
     "end_time": "2020-08-24T13:20:05.612677",
     "exception": false,
     "start_time": "2020-08-24T13:20:05.198020",
     "status": "completed"
    },
    "tags": []
   },
   "outputs": [
    {
     "data": {
      "image/png": "[encoded data removed]",
      "text/plain": [
       "<Figure size 720x360 with 1 Axes>"
      ]
     },
     "metadata": {
      "needs_background": "light"
     },
     "output_type": "display_data"
    }
   ],
   "source": [
    "plt.figure(figsize = (10,5))\n",
    "ax= sns.violinplot(df['Sales Velocity'])\n",
    "plt.show()"
   ]
  },
  {
   "cell_type": "code",
   "execution_count": 25,
   "metadata": {
    "execution": {
     "iopub.execute_input": "2020-08-24T13:20:05.689645Z",
     "iopub.status.busy": "2020-08-24T13:20:05.688486Z",
     "iopub.status.idle": "2020-08-24T13:20:05.691626Z",
     "shell.execute_reply": "2020-08-24T13:20:05.692184Z"
    },
    "papermill": {
     "duration": 0.044226,
     "end_time": "2020-08-24T13:20:05.692364",
     "exception": false,
     "start_time": "2020-08-24T13:20:05.648138",
     "status": "completed"
    },
    "tags": []
   },
   "outputs": [],
   "source": [
    "# As we can see there are a number of outliers in the data.\n",
    "# We will cap the outliers to 95% value for analysis."
   ]
  },
  {
   "cell_type": "code",
   "execution_count": 26,
   "metadata": {
    "execution": {
     "iopub.execute_input": "2020-08-24T13:20:05.772934Z",
     "iopub.status.busy": "2020-08-24T13:20:05.771724Z",
     "iopub.status.idle": "2020-08-24T13:20:05.788800Z",
     "shell.execute_reply": "2020-08-24T13:20:05.787530Z"
    },
    "papermill": {
     "duration": 0.061036,
     "end_time": "2020-08-24T13:20:05.788950",
     "exception": false,
     "start_time": "2020-08-24T13:20:05.727914",
     "status": "completed"
    },
    "tags": []
   },
   "outputs": [
    {
     "name": "stderr",
     "output_type": "stream",
     "text": [
      "/opt/conda/lib/python3.7/site-packages/ipykernel_launcher.py:2: SettingWithCopyWarning: \n",
      "A value is trying to be set on a copy of a slice from a DataFrame\n",
      "\n",
      "See the caveats in the documentation: https://pandas.pydata.org/pandas-docs/stable/user_guide/indexing.html#returning-a-view-versus-a-copy\n",
      "  \n"
     ]
    }
   ],
   "source": [
    "percentiles = df['Sales Velocity'].quantile([0.05,0.95]).values\n",
    "df['Sales Velocity'][df['Sales Velocity'] <= percentiles[0]] = percentiles[0]\n",
    "df['Sales Velocity'][df['Sales Velocity'] >= percentiles[1]] = percentiles[1]"
   ]
  },
  {
   "cell_type": "code",
   "execution_count": 27,
   "metadata": {
    "execution": {
     "iopub.execute_input": "2020-08-24T13:20:05.869038Z",
     "iopub.status.busy": "2020-08-24T13:20:05.867872Z",
     "iopub.status.idle": "2020-08-24T13:20:06.210825Z",
     "shell.execute_reply": "2020-08-24T13:20:06.210083Z"
    },
    "papermill": {
     "duration": 0.386302,
     "end_time": "2020-08-24T13:20:06.210968",
     "exception": false,
     "start_time": "2020-08-24T13:20:05.824666",
     "status": "completed"
    },
    "tags": []
   },
   "outputs": [
    {
     "data": {
      "image/png": "[encoded data removed]",
      "text/plain": [
       "<Figure size 720x360 with 1 Axes>"
      ]
     },
     "metadata": {
      "needs_background": "light"
     },
     "output_type": "display_data"
    }
   ],
   "source": [
    "plt.figure(figsize = (10,5))\n",
    "ax= sns.violinplot(df['Sales Velocity'])\n",
    "plt.show()"
   ]
  },
  {
   "cell_type": "code",
   "execution_count": 28,
   "metadata": {
    "execution": {
     "iopub.execute_input": "2020-08-24T13:20:06.292749Z",
     "iopub.status.busy": "2020-08-24T13:20:06.291929Z",
     "iopub.status.idle": "2020-08-24T13:20:06.650410Z",
     "shell.execute_reply": "2020-08-24T13:20:06.649587Z"
    },
    "papermill": {
     "duration": 0.402484,
     "end_time": "2020-08-24T13:20:06.650553",
     "exception": false,
     "start_time": "2020-08-24T13:20:06.248069",
     "status": "completed"
    },
    "tags": []
   },
   "outputs": [
    {
     "data": {
      "image/png": "[encoded data removed]",
      "text/plain": [
       "<Figure size 720x360 with 1 Axes>"
      ]
     },
     "metadata": {
      "needs_background": "light"
     },
     "output_type": "display_data"
    }
   ],
   "source": [
    "plt.figure(figsize = (10,5))\n",
    "sns.violinplot(y = 'Sales Velocity', x = 'Opportunity Status', data = df)\n",
    "plt.show()"
   ]
  },
  {
   "cell_type": "markdown",
   "execution_count": null,
   "metadata": {
    "papermill": {
     "duration": 0.036195,
     "end_time": "2020-08-24T13:20:06.723303",
     "exception": false,
     "start_time": "2020-08-24T13:20:06.687108",
     "status": "completed"
    },
    "tags": []
   },
   "source": [
    "Opportunity Status"
   ]
  },
  {
   "cell_type": "code",
   "execution_count": 29,
   "metadata": {
    "execution": {
     "iopub.execute_input": "2020-08-24T13:20:06.803462Z",
     "iopub.status.busy": "2020-08-24T13:20:06.802061Z",
     "iopub.status.idle": "2020-08-24T13:20:06.814320Z",
     "shell.execute_reply": "2020-08-24T13:20:06.813522Z"
    },
    "papermill": {
     "duration": 0.054541,
     "end_time": "2020-08-24T13:20:06.814455",
     "exception": false,
     "start_time": "2020-08-24T13:20:06.759914",
     "status": "completed"
    },
    "tags": []
   },
   "outputs": [
    {
     "data": {
      "text/plain": [
       "count    78025.000000\n",
       "mean         0.225915\n",
       "std          0.418186\n",
       "min          0.000000\n",
       "25%          0.000000\n",
       "50%          0.000000\n",
       "75%          0.000000\n",
       "max          1.000000\n",
       "Name: Opportunity Status, dtype: float64"
      ]
     },
     "execution_count": 29,
     "metadata": {},
     "output_type": "execute_result"
    }
   ],
   "source": [
    "df['Opportunity Status'].describe()"
   ]
  },
  {
   "cell_type": "code",
   "execution_count": 30,
   "metadata": {
    "execution": {
     "iopub.execute_input": "2020-08-24T13:20:06.894062Z",
     "iopub.status.busy": "2020-08-24T13:20:06.893230Z",
     "iopub.status.idle": "2020-08-24T13:20:06.901614Z",
     "shell.execute_reply": "2020-08-24T13:20:06.900833Z"
    },
    "papermill": {
     "duration": 0.050611,
     "end_time": "2020-08-24T13:20:06.901750",
     "exception": false,
     "start_time": "2020-08-24T13:20:06.851139",
     "status": "completed"
    },
    "tags": []
   },
   "outputs": [
    {
     "data": {
      "text/plain": [
       "0    60398\n",
       "1    17627\n",
       "Name: Opportunity Status, dtype: int64"
      ]
     },
     "execution_count": 30,
     "metadata": {},
     "output_type": "execute_result"
    }
   ],
   "source": [
    "df['Opportunity Status'].value_counts()"
   ]
  },
  {
   "cell_type": "code",
   "execution_count": 31,
   "metadata": {
    "execution": {
     "iopub.execute_input": "2020-08-24T13:20:06.985025Z",
     "iopub.status.busy": "2020-08-24T13:20:06.984197Z",
     "iopub.status.idle": "2020-08-24T13:20:07.310486Z",
     "shell.execute_reply": "2020-08-24T13:20:07.309683Z"
    },
    "papermill": {
     "duration": 0.37212,
     "end_time": "2020-08-24T13:20:07.310645",
     "exception": false,
     "start_time": "2020-08-24T13:20:06.938525",
     "status": "completed"
    },
    "tags": []
   },
   "outputs": [
    {
     "data": {
      "image/png": "[encoded data removed]",
      "text/plain": [
       "<Figure size 720x360 with 1 Axes>"
      ]
     },
     "metadata": {
      "needs_background": "light"
     },
     "output_type": "display_data"
    }
   ],
   "source": [
    "plt.figure(figsize = (10,5))\n",
    "ax= sns.countplot(df['Opportunity Status'])\n",
    "for p in ax.patches:\n",
    "    ax.annotate(str(p.get_height()), (p.get_x() * 1.01 , p.get_height() * 1.01))\n",
    "ax.set_yscale('log')\n",
    "plt.show()"
   ]
  },
  {
   "cell_type": "markdown",
   "execution_count": null,
   "metadata": {
    "papermill": {
     "duration": 0.036722,
     "end_time": "2020-08-24T13:20:07.384458",
     "exception": false,
     "start_time": "2020-08-24T13:20:07.347736",
     "status": "completed"
    },
    "tags": []
   },
   "source": [
    "Sales Stage Iterations\t"
   ]
  },
  {
   "cell_type": "code",
   "execution_count": 32,
   "metadata": {
    "execution": {
     "iopub.execute_input": "2020-08-24T13:20:07.466179Z",
     "iopub.status.busy": "2020-08-24T13:20:07.464896Z",
     "iopub.status.idle": "2020-08-24T13:20:07.477585Z",
     "shell.execute_reply": "2020-08-24T13:20:07.478199Z"
    },
    "papermill": {
     "duration": 0.056641,
     "end_time": "2020-08-24T13:20:07.478388",
     "exception": false,
     "start_time": "2020-08-24T13:20:07.421747",
     "status": "completed"
    },
    "tags": []
   },
   "outputs": [
    {
     "data": {
      "text/plain": [
       "count    78025.000000\n",
       "mean         2.955732\n",
       "std          1.497242\n",
       "min          1.000000\n",
       "25%          2.000000\n",
       "50%          3.000000\n",
       "75%          3.000000\n",
       "max         23.000000\n",
       "Name: Sales Stage Iterations, dtype: float64"
      ]
     },
     "execution_count": 32,
     "metadata": {},
     "output_type": "execute_result"
    }
   ],
   "source": [
    "df['Sales Stage Iterations'].describe()"
   ]
  },
  {
   "cell_type": "code",
   "execution_count": 33,
   "metadata": {
    "execution": {
     "iopub.execute_input": "2020-08-24T13:20:07.561404Z",
     "iopub.status.busy": "2020-08-24T13:20:07.560581Z",
     "iopub.status.idle": "2020-08-24T13:20:07.897704Z",
     "shell.execute_reply": "2020-08-24T13:20:07.896875Z"
    },
    "papermill": {
     "duration": 0.381946,
     "end_time": "2020-08-24T13:20:07.897859",
     "exception": false,
     "start_time": "2020-08-24T13:20:07.515913",
     "status": "completed"
    },
    "tags": []
   },
   "outputs": [
    {
     "data": {
      "image/png": "[encoded data removed]",
      "text/plain": [
       "<Figure size 720x360 with 1 Axes>"
      ]
     },
     "metadata": {
      "needs_background": "light"
     },
     "output_type": "display_data"
    }
   ],
   "source": [
    "plt.figure(figsize = (10,5))\n",
    "ax= sns.violinplot(df['Sales Stage Iterations'])\n",
    "plt.show()"
   ]
  },
  {
   "cell_type": "code",
   "execution_count": 34,
   "metadata": {
    "execution": {
     "iopub.execute_input": "2020-08-24T13:20:07.982769Z",
     "iopub.status.busy": "2020-08-24T13:20:07.981960Z",
     "iopub.status.idle": "2020-08-24T13:20:07.999419Z",
     "shell.execute_reply": "2020-08-24T13:20:08.000582Z"
    },
    "papermill": {
     "duration": 0.065028,
     "end_time": "2020-08-24T13:20:08.000791",
     "exception": false,
     "start_time": "2020-08-24T13:20:07.935763",
     "status": "completed"
    },
    "tags": []
   },
   "outputs": [
    {
     "name": "stderr",
     "output_type": "stream",
     "text": [
      "/opt/conda/lib/python3.7/site-packages/ipykernel_launcher.py:2: SettingWithCopyWarning: \n",
      "A value is trying to be set on a copy of a slice from a DataFrame\n",
      "\n",
      "See the caveats in the documentation: https://pandas.pydata.org/pandas-docs/stable/user_guide/indexing.html#returning-a-view-versus-a-copy\n",
      "  \n"
     ]
    }
   ],
   "source": [
    "percentiles = df['Sales Stage Iterations'].quantile([0.05,0.95]).values\n",
    "df['Sales Stage Iterations'][df['Sales Stage Iterations'] <= percentiles[0]] = percentiles[0]\n",
    "df['Sales Stage Iterations'][df['Sales Stage Iterations'] >= percentiles[1]] = percentiles[1]"
   ]
  },
  {
   "cell_type": "code",
   "execution_count": 35,
   "metadata": {
    "execution": {
     "iopub.execute_input": "2020-08-24T13:20:08.086937Z",
     "iopub.status.busy": "2020-08-24T13:20:08.086081Z",
     "iopub.status.idle": "2020-08-24T13:20:08.408480Z",
     "shell.execute_reply": "2020-08-24T13:20:08.407649Z"
    },
    "papermill": {
     "duration": 0.367953,
     "end_time": "2020-08-24T13:20:08.408648",
     "exception": false,
     "start_time": "2020-08-24T13:20:08.040695",
     "status": "completed"
    },
    "tags": []
   },
   "outputs": [
    {
     "data": {
      "image/png": "[encoded data removed]",
      "text/plain": [
       "<Figure size 720x360 with 1 Axes>"
      ]
     },
     "metadata": {
      "needs_background": "light"
     },
     "output_type": "display_data"
    }
   ],
   "source": [
    "plt.figure(figsize = (10,5))\n",
    "ax= sns.violinplot(df['Sales Stage Iterations'])\n",
    "plt.show()"
   ]
  },
  {
   "cell_type": "code",
   "execution_count": 36,
   "metadata": {
    "execution": {
     "iopub.execute_input": "2020-08-24T13:20:08.493025Z",
     "iopub.status.busy": "2020-08-24T13:20:08.491991Z",
     "iopub.status.idle": "2020-08-24T13:20:08.841161Z",
     "shell.execute_reply": "2020-08-24T13:20:08.840463Z"
    },
    "papermill": {
     "duration": 0.393691,
     "end_time": "2020-08-24T13:20:08.841292",
     "exception": false,
     "start_time": "2020-08-24T13:20:08.447601",
     "status": "completed"
    },
    "tags": []
   },
   "outputs": [
    {
     "data": {
      "image/png": "[encoded data removed]",
      "text/plain": [
       "<Figure size 720x360 with 1 Axes>"
      ]
     },
     "metadata": {
      "needs_background": "light"
     },
     "output_type": "display_data"
    }
   ],
   "source": [
    "plt.figure(figsize = (10,5))\n",
    "sns.violinplot(y = 'Sales Stage Iterations', x = 'Opportunity Status', data = df)\n",
    "plt.show()"
   ]
  },
  {
   "cell_type": "markdown",
   "execution_count": null,
   "metadata": {
    "papermill": {
     "duration": 0.038332,
     "end_time": "2020-08-24T13:20:08.918733",
     "exception": false,
     "start_time": "2020-08-24T13:20:08.880401",
     "status": "completed"
    },
    "tags": []
   },
   "source": [
    "Opportunity Size (USD)"
   ]
  },
  {
   "cell_type": "code",
   "execution_count": 37,
   "metadata": {
    "execution": {
     "iopub.execute_input": "2020-08-24T13:20:09.004229Z",
     "iopub.status.busy": "2020-08-24T13:20:09.002709Z",
     "iopub.status.idle": "2020-08-24T13:20:09.017124Z",
     "shell.execute_reply": "2020-08-24T13:20:09.016173Z"
    },
    "papermill": {
     "duration": 0.059809,
     "end_time": "2020-08-24T13:20:09.017285",
     "exception": false,
     "start_time": "2020-08-24T13:20:08.957476",
     "status": "completed"
    },
    "tags": []
   },
   "outputs": [
    {
     "data": {
      "text/plain": [
       "count     78025.000000\n",
       "mean      30085.664992\n",
       "std       21169.932617\n",
       "min           0.000000\n",
       "25%       13816.000000\n",
       "50%       29845.000000\n",
       "75%       43185.000000\n",
       "max      149981.000000\n",
       "Name: Opportunity Size (USD), dtype: float64"
      ]
     },
     "execution_count": 37,
     "metadata": {},
     "output_type": "execute_result"
    }
   ],
   "source": [
    "df['Opportunity Size (USD)'].describe()"
   ]
  },
  {
   "cell_type": "code",
   "execution_count": 38,
   "metadata": {
    "execution": {
     "iopub.execute_input": "2020-08-24T13:20:09.104404Z",
     "iopub.status.busy": "2020-08-24T13:20:09.103607Z",
     "iopub.status.idle": "2020-08-24T13:20:09.484986Z",
     "shell.execute_reply": "2020-08-24T13:20:09.484211Z"
    },
    "papermill": {
     "duration": 0.427479,
     "end_time": "2020-08-24T13:20:09.485126",
     "exception": false,
     "start_time": "2020-08-24T13:20:09.057647",
     "status": "completed"
    },
    "tags": []
   },
   "outputs": [
    {
     "data": {
      "image/png": "[encoded data removed]",
      "text/plain": [
       "<Figure size 720x360 with 1 Axes>"
      ]
     },
     "metadata": {
      "needs_background": "light"
     },
     "output_type": "display_data"
    }
   ],
   "source": [
    "plt.figure(figsize = (10,5))\n",
    "ax= sns.violinplot(df['Opportunity Size (USD)'])\n",
    "plt.show()"
   ]
  },
  {
   "cell_type": "code",
   "execution_count": 39,
   "metadata": {
    "execution": {
     "iopub.execute_input": "2020-08-24T13:20:09.572762Z",
     "iopub.status.busy": "2020-08-24T13:20:09.571939Z",
     "iopub.status.idle": "2020-08-24T13:20:09.589189Z",
     "shell.execute_reply": "2020-08-24T13:20:09.587819Z"
    },
    "papermill": {
     "duration": 0.064796,
     "end_time": "2020-08-24T13:20:09.589345",
     "exception": false,
     "start_time": "2020-08-24T13:20:09.524549",
     "status": "completed"
    },
    "tags": []
   },
   "outputs": [
    {
     "name": "stderr",
     "output_type": "stream",
     "text": [
      "/opt/conda/lib/python3.7/site-packages/ipykernel_launcher.py:2: SettingWithCopyWarning: \n",
      "A value is trying to be set on a copy of a slice from a DataFrame\n",
      "\n",
      "See the caveats in the documentation: https://pandas.pydata.org/pandas-docs/stable/user_guide/indexing.html#returning-a-view-versus-a-copy\n",
      "  \n"
     ]
    }
   ],
   "source": [
    "percentiles = df['Opportunity Size (USD)'].quantile([0.05,0.95]).values\n",
    "df['Opportunity Size (USD)'][df['Opportunity Size (USD)'] <= percentiles[0]] = percentiles[0]\n",
    "df['Opportunity Size (USD)'][df['Opportunity Size (USD)'] >= percentiles[1]] = percentiles[1]"
   ]
  },
  {
   "cell_type": "code",
   "execution_count": 40,
   "metadata": {
    "execution": {
     "iopub.execute_input": "2020-08-24T13:20:09.676376Z",
     "iopub.status.busy": "2020-08-24T13:20:09.675447Z",
     "iopub.status.idle": "2020-08-24T13:20:10.025425Z",
     "shell.execute_reply": "2020-08-24T13:20:10.024412Z"
    },
    "papermill": {
     "duration": 0.39678,
     "end_time": "2020-08-24T13:20:10.025587",
     "exception": false,
     "start_time": "2020-08-24T13:20:09.628807",
     "status": "completed"
    },
    "tags": []
   },
   "outputs": [
    {
     "data": {
      "image/png": "[encoded data removed]",
      "text/plain": [
       "<Figure size 720x360 with 1 Axes>"
      ]
     },
     "metadata": {
      "needs_background": "light"
     },
     "output_type": "display_data"
    }
   ],
   "source": [
    "plt.figure(figsize = (10,5))\n",
    "ax= sns.violinplot(df['Opportunity Size (USD)'])\n",
    "plt.show()"
   ]
  },
  {
   "cell_type": "code",
   "execution_count": 41,
   "metadata": {
    "execution": {
     "iopub.execute_input": "2020-08-24T13:20:10.120540Z",
     "iopub.status.busy": "2020-08-24T13:20:10.119682Z",
     "iopub.status.idle": "2020-08-24T13:20:10.505137Z",
     "shell.execute_reply": "2020-08-24T13:20:10.504474Z"
    },
    "papermill": {
     "duration": 0.437949,
     "end_time": "2020-08-24T13:20:10.505267",
     "exception": false,
     "start_time": "2020-08-24T13:20:10.067318",
     "status": "completed"
    },
    "tags": []
   },
   "outputs": [
    {
     "data": {
      "image/png": "[encoded data removed]",
      "text/plain": [
       "<Figure size 720x360 with 1 Axes>"
      ]
     },
     "metadata": {
      "needs_background": "light"
     },
     "output_type": "display_data"
    }
   ],
   "source": [
    "plt.figure(figsize = (10,5))\n",
    "sns.violinplot(y = 'Opportunity Size (USD)', x = 'Opportunity Status', data = df)\n",
    "plt.show()"
   ]
  },
  {
   "cell_type": "markdown",
   "execution_count": null,
   "metadata": {
    "papermill": {
     "duration": 0.039594,
     "end_time": "2020-08-24T13:20:10.585144",
     "exception": false,
     "start_time": "2020-08-24T13:20:10.545550",
     "status": "completed"
    },
    "tags": []
   },
   "source": [
    "Client Revenue Sizing"
   ]
  },
  {
   "cell_type": "code",
   "execution_count": 42,
   "metadata": {
    "execution": {
     "iopub.execute_input": "2020-08-24T13:20:10.700848Z",
     "iopub.status.busy": "2020-08-24T13:20:10.682029Z",
     "iopub.status.idle": "2020-08-24T13:20:10.708623Z",
     "shell.execute_reply": "2020-08-24T13:20:10.709182Z"
    },
    "papermill": {
     "duration": 0.083826,
     "end_time": "2020-08-24T13:20:10.709356",
     "exception": false,
     "start_time": "2020-08-24T13:20:10.625530",
     "status": "completed"
    },
    "tags": []
   },
   "outputs": [
    {
     "data": {
      "text/plain": [
       "count            78025\n",
       "unique               5\n",
       "top       100K or less\n",
       "freq             59504\n",
       "Name: Client Revenue Sizing, dtype: object"
      ]
     },
     "execution_count": 42,
     "metadata": {},
     "output_type": "execute_result"
    }
   ],
   "source": [
    "df['Client Revenue Sizing'].describe()"
   ]
  },
  {
   "cell_type": "code",
   "execution_count": 43,
   "metadata": {
    "execution": {
     "iopub.execute_input": "2020-08-24T13:20:10.817618Z",
     "iopub.status.busy": "2020-08-24T13:20:10.814233Z",
     "iopub.status.idle": "2020-08-24T13:20:10.822790Z",
     "shell.execute_reply": "2020-08-24T13:20:10.821996Z"
    },
    "papermill": {
     "duration": 0.07339,
     "end_time": "2020-08-24T13:20:10.822927",
     "exception": false,
     "start_time": "2020-08-24T13:20:10.749537",
     "status": "completed"
    },
    "tags": []
   },
   "outputs": [
    {
     "data": {
      "text/plain": [
       "100K or less    59504\n",
       "More than 1M     5288\n",
       "250K to 500K     4756\n",
       "500K to 1M       4636\n",
       "100K to 250K     3841\n",
       "Name: Client Revenue Sizing, dtype: int64"
      ]
     },
     "execution_count": 43,
     "metadata": {},
     "output_type": "execute_result"
    }
   ],
   "source": [
    "df['Client Revenue Sizing'].value_counts()"
   ]
  },
  {
   "cell_type": "code",
   "execution_count": 44,
   "metadata": {
    "execution": {
     "iopub.execute_input": "2020-08-24T13:20:10.919645Z",
     "iopub.status.busy": "2020-08-24T13:20:10.918826Z",
     "iopub.status.idle": "2020-08-24T13:20:11.263728Z",
     "shell.execute_reply": "2020-08-24T13:20:11.262472Z"
    },
    "papermill": {
     "duration": 0.400313,
     "end_time": "2020-08-24T13:20:11.263943",
     "exception": false,
     "start_time": "2020-08-24T13:20:10.863630",
     "status": "completed"
    },
    "tags": []
   },
   "outputs": [
    {
     "data": {
      "image/png": "[encoded data removed]",
      "text/plain": [
       "<Figure size 720x360 with 1 Axes>"
      ]
     },
     "metadata": {
      "needs_background": "light"
     },
     "output_type": "display_data"
    }
   ],
   "source": [
    "plt.figure(figsize = (10,5))\n",
    "ax= sns.countplot(df['Client Revenue Sizing'])\n",
    "for p in ax.patches:\n",
    "    ax.annotate(str(p.get_height()), (p.get_x() * 1.01 , p.get_height() * 1.01))\n",
    "ax.set_yscale('log')\n",
    "plt.xticks(rotation = 90)\n",
    "plt.show()"
   ]
  },
  {
   "cell_type": "code",
   "execution_count": 45,
   "metadata": {
    "execution": {
     "iopub.execute_input": "2020-08-24T13:20:11.385277Z",
     "iopub.status.busy": "2020-08-24T13:20:11.377691Z",
     "iopub.status.idle": "2020-08-24T13:20:11.999458Z",
     "shell.execute_reply": "2020-08-24T13:20:11.998704Z"
    },
    "papermill": {
     "duration": 0.680813,
     "end_time": "2020-08-24T13:20:11.999609",
     "exception": false,
     "start_time": "2020-08-24T13:20:11.318796",
     "status": "completed"
    },
    "tags": []
   },
   "outputs": [
    {
     "data": {
      "image/png": "[encoded data removed]",
      "text/plain": [
       "<Figure size 1440x432 with 1 Axes>"
      ]
     },
     "metadata": {
      "needs_background": "light"
     },
     "output_type": "display_data"
    }
   ],
   "source": [
    "plt.figure(figsize = (20,6))\n",
    "ax= sns.countplot(x = \"Client Revenue Sizing\", hue = \"Opportunity Status\", data = df)\n",
    "for p in ax.patches:\n",
    "    ax.annotate(str(p.get_height()), (p.get_x() * 1.01 , p.get_height() * 1.01))\n",
    "plt.xticks(rotation = 90)\n",
    "ax.set_yscale('log')\n",
    "plt.show()"
   ]
  },
  {
   "cell_type": "markdown",
   "execution_count": null,
   "metadata": {
    "papermill": {
     "duration": 0.042848,
     "end_time": "2020-08-24T13:20:12.085551",
     "exception": false,
     "start_time": "2020-08-24T13:20:12.042703",
     "status": "completed"
    },
    "tags": []
   },
   "source": [
    "Client Employee Sizing"
   ]
  },
  {
   "cell_type": "code",
   "execution_count": 46,
   "metadata": {
    "execution": {
     "iopub.execute_input": "2020-08-24T13:20:12.206740Z",
     "iopub.status.busy": "2020-08-24T13:20:12.203683Z",
     "iopub.status.idle": "2020-08-24T13:20:12.212063Z",
     "shell.execute_reply": "2020-08-24T13:20:12.211329Z"
    },
    "papermill": {
     "duration": 0.085073,
     "end_time": "2020-08-24T13:20:12.212201",
     "exception": false,
     "start_time": "2020-08-24T13:20:12.127128",
     "status": "completed"
    },
    "tags": []
   },
   "outputs": [
    {
     "data": {
      "text/plain": [
       "count          78025\n",
       "unique             5\n",
       "top       1K or less\n",
       "freq           59348\n",
       "Name: Client Employee Sizing, dtype: object"
      ]
     },
     "execution_count": 46,
     "metadata": {},
     "output_type": "execute_result"
    }
   ],
   "source": [
    "df['Client Employee Sizing'].describe()"
   ]
  },
  {
   "cell_type": "code",
   "execution_count": 47,
   "metadata": {
    "execution": {
     "iopub.execute_input": "2020-08-24T13:20:12.323601Z",
     "iopub.status.busy": "2020-08-24T13:20:12.320606Z",
     "iopub.status.idle": "2020-08-24T13:20:12.329018Z",
     "shell.execute_reply": "2020-08-24T13:20:12.328376Z"
    },
    "papermill": {
     "duration": 0.07505,
     "end_time": "2020-08-24T13:20:12.329163",
     "exception": false,
     "start_time": "2020-08-24T13:20:12.254113",
     "status": "completed"
    },
    "tags": []
   },
   "outputs": [
    {
     "data": {
      "text/plain": [
       "1K or less       59348\n",
       "More than 25K     5098\n",
       "5K to 15K         4942\n",
       "1K to 5K          4528\n",
       "15K to 25K        4109\n",
       "Name: Client Employee Sizing, dtype: int64"
      ]
     },
     "execution_count": 47,
     "metadata": {},
     "output_type": "execute_result"
    }
   ],
   "source": [
    "df['Client Employee Sizing'].value_counts()"
   ]
  },
  {
   "cell_type": "code",
   "execution_count": 48,
   "metadata": {
    "execution": {
     "iopub.execute_input": "2020-08-24T13:20:12.428527Z",
     "iopub.status.busy": "2020-08-24T13:20:12.427684Z",
     "iopub.status.idle": "2020-08-24T13:20:12.763260Z",
     "shell.execute_reply": "2020-08-24T13:20:12.762579Z"
    },
    "papermill": {
     "duration": 0.392019,
     "end_time": "2020-08-24T13:20:12.763405",
     "exception": false,
     "start_time": "2020-08-24T13:20:12.371386",
     "status": "completed"
    },
    "tags": []
   },
   "outputs": [
    {
     "data": {
      "image/png": "[encoded data removed]",
      "text/plain": [
       "<Figure size 720x360 with 1 Axes>"
      ]
     },
     "metadata": {
      "needs_background": "light"
     },
     "output_type": "display_data"
    }
   ],
   "source": [
    "plt.figure(figsize = (10,5))\n",
    "ax= sns.countplot(df['Client Employee Sizing'])\n",
    "for p in ax.patches:\n",
    "    ax.annotate(str(p.get_height()), (p.get_x() * 1.01 , p.get_height() * 1.01))\n",
    "ax.set_yscale('log')\n",
    "plt.xticks(rotation = 90)\n",
    "plt.show()"
   ]
  },
  {
   "cell_type": "code",
   "execution_count": 49,
   "metadata": {
    "execution": {
     "iopub.execute_input": "2020-08-24T13:20:12.863445Z",
     "iopub.status.busy": "2020-08-24T13:20:12.862582Z",
     "iopub.status.idle": "2020-08-24T13:20:13.343842Z",
     "shell.execute_reply": "2020-08-24T13:20:13.343012Z"
    },
    "papermill": {
     "duration": 0.538244,
     "end_time": "2020-08-24T13:20:13.343995",
     "exception": false,
     "start_time": "2020-08-24T13:20:12.805751",
     "status": "completed"
    },
    "tags": []
   },
   "outputs": [
    {
     "data": {
      "image/png": "[encoded data removed]",
      "text/plain": [
       "<Figure size 1440x432 with 1 Axes>"
      ]
     },
     "metadata": {
      "needs_background": "light"
     },
     "output_type": "display_data"
    }
   ],
   "source": [
    "plt.figure(figsize = (20,6))\n",
    "ax= sns.countplot(x = \"Client Employee Sizing\", hue = \"Opportunity Status\", data = df)\n",
    "for p in ax.patches:\n",
    "    ax.annotate(str(p.get_height()), (p.get_x() * 1.01 , p.get_height() * 1.01))\n",
    "plt.xticks(rotation = 90)\n",
    "ax.set_yscale('log')\n",
    "plt.show()"
   ]
  },
  {
   "cell_type": "markdown",
   "execution_count": null,
   "metadata": {
    "papermill": {
     "duration": 0.041877,
     "end_time": "2020-08-24T13:20:13.428203",
     "exception": false,
     "start_time": "2020-08-24T13:20:13.386326",
     "status": "completed"
    },
    "tags": []
   },
   "source": [
    "Business from Client Last Year"
   ]
  },
  {
   "cell_type": "code",
   "execution_count": 50,
   "metadata": {
    "execution": {
     "iopub.execute_input": "2020-08-24T13:20:13.547970Z",
     "iopub.status.busy": "2020-08-24T13:20:13.529045Z",
     "iopub.status.idle": "2020-08-24T13:20:13.555941Z",
     "shell.execute_reply": "2020-08-24T13:20:13.555153Z"
    },
    "papermill": {
     "duration": 0.085479,
     "end_time": "2020-08-24T13:20:13.556077",
     "exception": false,
     "start_time": "2020-08-24T13:20:13.470598",
     "status": "completed"
    },
    "tags": []
   },
   "outputs": [
    {
     "data": {
      "text/plain": [
       "count               78025\n",
       "unique                  5\n",
       "top       0 (No business)\n",
       "freq                69208\n",
       "Name: Business from Client Last Year, dtype: object"
      ]
     },
     "execution_count": 50,
     "metadata": {},
     "output_type": "execute_result"
    }
   ],
   "source": [
    "df['Business from Client Last Year'].describe()"
   ]
  },
  {
   "cell_type": "code",
   "execution_count": 51,
   "metadata": {
    "execution": {
     "iopub.execute_input": "2020-08-24T13:20:13.670047Z",
     "iopub.status.busy": "2020-08-24T13:20:13.669130Z",
     "iopub.status.idle": "2020-08-24T13:20:13.674360Z",
     "shell.execute_reply": "2020-08-24T13:20:13.673775Z"
    },
    "papermill": {
     "duration": 0.075468,
     "end_time": "2020-08-24T13:20:13.674490",
     "exception": false,
     "start_time": "2020-08-24T13:20:13.599022",
     "status": "completed"
    },
    "tags": []
   },
   "outputs": [
    {
     "data": {
      "text/plain": [
       "0 (No business)      69208\n",
       "More than 100,000     2860\n",
       "50,000 - 100,000      2092\n",
       "25,000 - 50,000       2083\n",
       "0 - 25,000            1782\n",
       "Name: Business from Client Last Year, dtype: int64"
      ]
     },
     "execution_count": 51,
     "metadata": {},
     "output_type": "execute_result"
    }
   ],
   "source": [
    "df['Business from Client Last Year'].value_counts()"
   ]
  },
  {
   "cell_type": "code",
   "execution_count": 52,
   "metadata": {
    "execution": {
     "iopub.execute_input": "2020-08-24T13:20:13.775749Z",
     "iopub.status.busy": "2020-08-24T13:20:13.774858Z",
     "iopub.status.idle": "2020-08-24T13:20:14.116313Z",
     "shell.execute_reply": "2020-08-24T13:20:14.115635Z"
    },
    "papermill": {
     "duration": 0.399144,
     "end_time": "2020-08-24T13:20:14.116439",
     "exception": false,
     "start_time": "2020-08-24T13:20:13.717295",
     "status": "completed"
    },
    "tags": []
   },
   "outputs": [
    {
     "data": {
      "image/png": "[encoded data removed]",
      "text/plain": [
       "<Figure size 720x360 with 1 Axes>"
      ]
     },
     "metadata": {
      "needs_background": "light"
     },
     "output_type": "display_data"
    }
   ],
   "source": [
    "plt.figure(figsize = (10,5))\n",
    "ax= sns.countplot(df['Business from Client Last Year'])\n",
    "for p in ax.patches:\n",
    "    ax.annotate(str(p.get_height()), (p.get_x() * 1.01 , p.get_height() * 1.01))\n",
    "ax.set_yscale('log')\n",
    "plt.xticks(rotation = 90)\n",
    "plt.show()"
   ]
  },
  {
   "cell_type": "code",
   "execution_count": 53,
   "metadata": {
    "execution": {
     "iopub.execute_input": "2020-08-24T13:20:14.217591Z",
     "iopub.status.busy": "2020-08-24T13:20:14.216738Z",
     "iopub.status.idle": "2020-08-24T13:20:14.712699Z",
     "shell.execute_reply": "2020-08-24T13:20:14.711877Z"
    },
    "papermill": {
     "duration": 0.553302,
     "end_time": "2020-08-24T13:20:14.712833",
     "exception": false,
     "start_time": "2020-08-24T13:20:14.159531",
     "status": "completed"
    },
    "tags": []
   },
   "outputs": [
    {
     "data": {
      "image/png": "[encoded data removed]",
      "text/plain": [
       "<Figure size 1440x432 with 1 Axes>"
      ]
     },
     "metadata": {
      "needs_background": "light"
     },
     "output_type": "display_data"
    }
   ],
   "source": [
    "plt.figure(figsize = (20,6))\n",
    "ax= sns.countplot(x = \"Business from Client Last Year\", hue = \"Opportunity Status\", data = df)\n",
    "for p in ax.patches:\n",
    "    ax.annotate(str(p.get_height()), (p.get_x() * 1.01 , p.get_height() * 1.01))\n",
    "plt.xticks(rotation = 90)\n",
    "ax.set_yscale('log')\n",
    "plt.show()"
   ]
  },
  {
   "cell_type": "markdown",
   "execution_count": null,
   "metadata": {
    "papermill": {
     "duration": 0.043412,
     "end_time": "2020-08-24T13:20:14.800521",
     "exception": false,
     "start_time": "2020-08-24T13:20:14.757109",
     "status": "completed"
    },
    "tags": []
   },
   "source": [
    "Compete Intel"
   ]
  },
  {
   "cell_type": "code",
   "execution_count": 54,
   "metadata": {
    "execution": {
     "iopub.execute_input": "2020-08-24T13:20:14.924404Z",
     "iopub.status.busy": "2020-08-24T13:20:14.905272Z",
     "iopub.status.idle": "2020-08-24T13:20:14.933085Z",
     "shell.execute_reply": "2020-08-24T13:20:14.932251Z"
    },
    "papermill": {
     "duration": 0.088443,
     "end_time": "2020-08-24T13:20:14.933250",
     "exception": false,
     "start_time": "2020-08-24T13:20:14.844807",
     "status": "completed"
    },
    "tags": []
   },
   "outputs": [
    {
     "data": {
      "text/plain": [
       "count       78025\n",
       "unique          3\n",
       "top       Unknown\n",
       "freq        56724\n",
       "Name: Compete Intel, dtype: object"
      ]
     },
     "execution_count": 54,
     "metadata": {},
     "output_type": "execute_result"
    }
   ],
   "source": [
    "df['Compete Intel'].describe()"
   ]
  },
  {
   "cell_type": "code",
   "execution_count": 55,
   "metadata": {
    "execution": {
     "iopub.execute_input": "2020-08-24T13:20:15.050403Z",
     "iopub.status.busy": "2020-08-24T13:20:15.049332Z",
     "iopub.status.idle": "2020-08-24T13:20:15.054668Z",
     "shell.execute_reply": "2020-08-24T13:20:15.053890Z"
    },
    "papermill": {
     "duration": 0.077206,
     "end_time": "2020-08-24T13:20:15.054814",
     "exception": false,
     "start_time": "2020-08-24T13:20:14.977608",
     "status": "completed"
    },
    "tags": []
   },
   "outputs": [
    {
     "data": {
      "text/plain": [
       "Unknown    56724\n",
       "Known      12044\n",
       "None        9257\n",
       "Name: Compete Intel, dtype: int64"
      ]
     },
     "execution_count": 55,
     "metadata": {},
     "output_type": "execute_result"
    }
   ],
   "source": [
    "df['Compete Intel'].value_counts()"
   ]
  },
  {
   "cell_type": "code",
   "execution_count": 56,
   "metadata": {
    "execution": {
     "iopub.execute_input": "2020-08-24T13:20:15.192269Z",
     "iopub.status.busy": "2020-08-24T13:20:15.191103Z",
     "iopub.status.idle": "2020-08-24T13:20:15.594447Z",
     "shell.execute_reply": "2020-08-24T13:20:15.593679Z"
    },
    "papermill": {
     "duration": 0.493592,
     "end_time": "2020-08-24T13:20:15.594607",
     "exception": false,
     "start_time": "2020-08-24T13:20:15.101015",
     "status": "completed"
    },
    "tags": []
   },
   "outputs": [
    {
     "data": {
      "image/png": "[encoded data removed]",
      "text/plain": [
       "<Figure size 720x360 with 1 Axes>"
      ]
     },
     "metadata": {
      "needs_background": "light"
     },
     "output_type": "display_data"
    }
   ],
   "source": [
    "plt.figure(figsize = (10,5))\n",
    "ax= sns.countplot(df['Compete Intel'])\n",
    "for p in ax.patches:\n",
    "    ax.annotate(str(p.get_height()), (p.get_x() * 1.01 , p.get_height() * 1.01))\n",
    "ax.set_yscale('log')\n",
    "plt.xticks(rotation = 90)\n",
    "plt.show()"
   ]
  },
  {
   "cell_type": "code",
   "execution_count": 57,
   "metadata": {
    "execution": {
     "iopub.execute_input": "2020-08-24T13:20:15.698657Z",
     "iopub.status.busy": "2020-08-24T13:20:15.697606Z",
     "iopub.status.idle": "2020-08-24T13:20:16.093990Z",
     "shell.execute_reply": "2020-08-24T13:20:16.093210Z"
    },
    "papermill": {
     "duration": 0.455086,
     "end_time": "2020-08-24T13:20:16.094123",
     "exception": false,
     "start_time": "2020-08-24T13:20:15.639037",
     "status": "completed"
    },
    "tags": []
   },
   "outputs": [
    {
     "data": {
      "image/png": "[encoded data removed]",
      "text/plain": [
       "<Figure size 1440x432 with 1 Axes>"
      ]
     },
     "metadata": {
      "needs_background": "light"
     },
     "output_type": "display_data"
    }
   ],
   "source": [
    "plt.figure(figsize = (20,6))\n",
    "ax= sns.countplot(x = \"Compete Intel\", hue = \"Opportunity Status\", data = df)\n",
    "for p in ax.patches:\n",
    "    ax.annotate(str(p.get_height()), (p.get_x() * 1.01 , p.get_height() * 1.01))\n",
    "plt.xticks(rotation = 90)\n",
    "ax.set_yscale('log')\n",
    "plt.show()"
   ]
  },
  {
   "cell_type": "markdown",
   "execution_count": null,
   "metadata": {
    "papermill": {
     "duration": 0.045051,
     "end_time": "2020-08-24T13:20:16.184034",
     "exception": false,
     "start_time": "2020-08-24T13:20:16.138983",
     "status": "completed"
    },
    "tags": []
   },
   "source": [
    "Opportunity Sizing"
   ]
  },
  {
   "cell_type": "code",
   "execution_count": 58,
   "metadata": {
    "execution": {
     "iopub.execute_input": "2020-08-24T13:20:16.309495Z",
     "iopub.status.busy": "2020-08-24T13:20:16.298674Z",
     "iopub.status.idle": "2020-08-24T13:20:16.318675Z",
     "shell.execute_reply": "2020-08-24T13:20:16.317826Z"
    },
    "papermill": {
     "duration": 0.089674,
     "end_time": "2020-08-24T13:20:16.318825",
     "exception": false,
     "start_time": "2020-08-24T13:20:16.229151",
     "status": "completed"
    },
    "tags": []
   },
   "outputs": [
    {
     "data": {
      "text/plain": [
       "count          78025\n",
       "unique             7\n",
       "top       40K to 50K\n",
       "freq           18074\n",
       "Name: Opportunity Sizing, dtype: object"
      ]
     },
     "execution_count": 58,
     "metadata": {},
     "output_type": "execute_result"
    }
   ],
   "source": [
    "df['Opportunity Sizing'].describe()"
   ]
  },
  {
   "cell_type": "code",
   "execution_count": 59,
   "metadata": {
    "execution": {
     "iopub.execute_input": "2020-08-24T13:20:16.434053Z",
     "iopub.status.busy": "2020-08-24T13:20:16.433144Z",
     "iopub.status.idle": "2020-08-24T13:20:16.441747Z",
     "shell.execute_reply": "2020-08-24T13:20:16.441066Z"
    },
    "papermill": {
     "duration": 0.077926,
     "end_time": "2020-08-24T13:20:16.441889",
     "exception": false,
     "start_time": "2020-08-24T13:20:16.363963",
     "status": "completed"
    },
    "tags": []
   },
   "outputs": [
    {
     "data": {
      "text/plain": [
       "40K to 50K       18074\n",
       "10K to 20K       15123\n",
       "30K to 40K       13628\n",
       "10K or less      12095\n",
       "20K to 30K       11968\n",
       "50K to 60K        4934\n",
       "More than 60K     2203\n",
       "Name: Opportunity Sizing, dtype: int64"
      ]
     },
     "execution_count": 59,
     "metadata": {},
     "output_type": "execute_result"
    }
   ],
   "source": [
    "df['Opportunity Sizing'].value_counts()"
   ]
  },
  {
   "cell_type": "code",
   "execution_count": 60,
   "metadata": {
    "execution": {
     "iopub.execute_input": "2020-08-24T13:20:16.546912Z",
     "iopub.status.busy": "2020-08-24T13:20:16.540890Z",
     "iopub.status.idle": "2020-08-24T13:20:17.030320Z",
     "shell.execute_reply": "2020-08-24T13:20:17.029697Z"
    },
    "papermill": {
     "duration": 0.542995,
     "end_time": "2020-08-24T13:20:17.030459",
     "exception": false,
     "start_time": "2020-08-24T13:20:16.487464",
     "status": "completed"
    },
    "tags": []
   },
   "outputs": [
    {
     "data": {
      "image/png": "[encoded data removed]",
      "text/plain": [
       "<Figure size 720x360 with 1 Axes>"
      ]
     },
     "metadata": {
      "needs_background": "light"
     },
     "output_type": "display_data"
    }
   ],
   "source": [
    "plt.figure(figsize = (10,5))\n",
    "ax= sns.countplot(df['Opportunity Sizing'])\n",
    "for p in ax.patches:\n",
    "    ax.annotate(str(p.get_height()), (p.get_x() * 1.01 , p.get_height() * 1.01))\n",
    "ax.set_yscale('log')\n",
    "plt.xticks(rotation = 90)\n",
    "plt.show()"
   ]
  },
  {
   "cell_type": "code",
   "execution_count": 61,
   "metadata": {
    "execution": {
     "iopub.execute_input": "2020-08-24T13:20:17.138820Z",
     "iopub.status.busy": "2020-08-24T13:20:17.137997Z",
     "iopub.status.idle": "2020-08-24T13:20:17.667667Z",
     "shell.execute_reply": "2020-08-24T13:20:17.666796Z"
    },
    "papermill": {
     "duration": 0.59022,
     "end_time": "2020-08-24T13:20:17.667808",
     "exception": false,
     "start_time": "2020-08-24T13:20:17.077588",
     "status": "completed"
    },
    "tags": []
   },
   "outputs": [
    {
     "data": {
      "image/png": "[encoded data removed]",
      "text/plain": [
       "<Figure size 1440x432 with 1 Axes>"
      ]
     },
     "metadata": {
      "needs_background": "light"
     },
     "output_type": "display_data"
    }
   ],
   "source": [
    "plt.figure(figsize = (20,6))\n",
    "ax= sns.countplot(x = \"Opportunity Sizing\", hue = \"Opportunity Status\", data = df)\n",
    "for p in ax.patches:\n",
    "    ax.annotate(str(p.get_height()), (p.get_x() * 1.01 , p.get_height() * 1.01))\n",
    "plt.xticks(rotation = 90)\n",
    "ax.set_yscale('log')\n",
    "plt.show()"
   ]
  },
  {
   "cell_type": "code",
   "execution_count": 62,
   "metadata": {
    "execution": {
     "iopub.execute_input": "2020-08-24T13:20:17.770478Z",
     "iopub.status.busy": "2020-08-24T13:20:17.769529Z",
     "iopub.status.idle": "2020-08-24T13:20:17.895269Z",
     "shell.execute_reply": "2020-08-24T13:20:17.894508Z"
    },
    "papermill": {
     "duration": 0.181013,
     "end_time": "2020-08-24T13:20:17.895410",
     "exception": false,
     "start_time": "2020-08-24T13:20:17.714397",
     "status": "completed"
    },
    "scrolled": true,
    "tags": []
   },
   "outputs": [
    {
     "data": {
      "text/html": [
       "<div>\n",
       "<style scoped>\n",
       "    .dataframe tbody tr th:only-of-type {\n",
       "        vertical-align: middle;\n",
       "    }\n",
       "\n",
       "    .dataframe tbody tr th {\n",
       "        vertical-align: top;\n",
       "    }\n",
       "\n",
       "    .dataframe thead th {\n",
       "        text-align: right;\n",
       "    }\n",
       "</style>\n",
       "<table border=\"1\" class=\"dataframe\">\n",
       "  <thead>\n",
       "    <tr style=\"text-align: right;\">\n",
       "      <th></th>\n",
       "      <th>Technology\\nPrimary_ERP Implementation</th>\n",
       "      <th>Technology\\nPrimary_Legacy Modernization</th>\n",
       "      <th>Technology\\nPrimary_Technical Business Solutions</th>\n",
       "      <th>City_Chennai</th>\n",
       "      <th>City_Delhi</th>\n",
       "      <th>City_Hyderabad</th>\n",
       "      <th>City_Kolkata</th>\n",
       "      <th>City_Mumbai</th>\n",
       "      <th>City_Pune</th>\n",
       "      <th>B2B Sales Medium_Marketing</th>\n",
       "      <th>...</th>\n",
       "      <th>Business from Client Last Year_50,000 - 100,000</th>\n",
       "      <th>Business from Client Last Year_More than 100,000</th>\n",
       "      <th>Compete Intel_None</th>\n",
       "      <th>Compete Intel_Unknown</th>\n",
       "      <th>Opportunity Sizing_10K to 20K</th>\n",
       "      <th>Opportunity Sizing_20K to 30K</th>\n",
       "      <th>Opportunity Sizing_30K to 40K</th>\n",
       "      <th>Opportunity Sizing_40K to 50K</th>\n",
       "      <th>Opportunity Sizing_50K to 60K</th>\n",
       "      <th>Opportunity Sizing_More than 60K</th>\n",
       "    </tr>\n",
       "  </thead>\n",
       "  <tbody>\n",
       "    <tr>\n",
       "      <th>0</th>\n",
       "      <td>1</td>\n",
       "      <td>0</td>\n",
       "      <td>0</td>\n",
       "      <td>0</td>\n",
       "      <td>0</td>\n",
       "      <td>0</td>\n",
       "      <td>0</td>\n",
       "      <td>0</td>\n",
       "      <td>0</td>\n",
       "      <td>1</td>\n",
       "      <td>...</td>\n",
       "      <td>0</td>\n",
       "      <td>0</td>\n",
       "      <td>0</td>\n",
       "      <td>1</td>\n",
       "      <td>0</td>\n",
       "      <td>0</td>\n",
       "      <td>0</td>\n",
       "      <td>0</td>\n",
       "      <td>0</td>\n",
       "      <td>0</td>\n",
       "    </tr>\n",
       "    <tr>\n",
       "      <th>1</th>\n",
       "      <td>1</td>\n",
       "      <td>0</td>\n",
       "      <td>0</td>\n",
       "      <td>0</td>\n",
       "      <td>1</td>\n",
       "      <td>0</td>\n",
       "      <td>0</td>\n",
       "      <td>0</td>\n",
       "      <td>0</td>\n",
       "      <td>0</td>\n",
       "      <td>...</td>\n",
       "      <td>0</td>\n",
       "      <td>0</td>\n",
       "      <td>0</td>\n",
       "      <td>1</td>\n",
       "      <td>0</td>\n",
       "      <td>0</td>\n",
       "      <td>0</td>\n",
       "      <td>0</td>\n",
       "      <td>0</td>\n",
       "      <td>0</td>\n",
       "    </tr>\n",
       "    <tr>\n",
       "      <th>2</th>\n",
       "      <td>0</td>\n",
       "      <td>0</td>\n",
       "      <td>1</td>\n",
       "      <td>0</td>\n",
       "      <td>1</td>\n",
       "      <td>0</td>\n",
       "      <td>0</td>\n",
       "      <td>0</td>\n",
       "      <td>0</td>\n",
       "      <td>0</td>\n",
       "      <td>...</td>\n",
       "      <td>0</td>\n",
       "      <td>0</td>\n",
       "      <td>0</td>\n",
       "      <td>1</td>\n",
       "      <td>0</td>\n",
       "      <td>0</td>\n",
       "      <td>0</td>\n",
       "      <td>0</td>\n",
       "      <td>0</td>\n",
       "      <td>0</td>\n",
       "    </tr>\n",
       "    <tr>\n",
       "      <th>3</th>\n",
       "      <td>0</td>\n",
       "      <td>0</td>\n",
       "      <td>1</td>\n",
       "      <td>0</td>\n",
       "      <td>0</td>\n",
       "      <td>0</td>\n",
       "      <td>0</td>\n",
       "      <td>1</td>\n",
       "      <td>0</td>\n",
       "      <td>0</td>\n",
       "      <td>...</td>\n",
       "      <td>0</td>\n",
       "      <td>0</td>\n",
       "      <td>0</td>\n",
       "      <td>0</td>\n",
       "      <td>0</td>\n",
       "      <td>0</td>\n",
       "      <td>0</td>\n",
       "      <td>0</td>\n",
       "      <td>0</td>\n",
       "      <td>0</td>\n",
       "    </tr>\n",
       "    <tr>\n",
       "      <th>4</th>\n",
       "      <td>1</td>\n",
       "      <td>0</td>\n",
       "      <td>0</td>\n",
       "      <td>0</td>\n",
       "      <td>1</td>\n",
       "      <td>0</td>\n",
       "      <td>0</td>\n",
       "      <td>0</td>\n",
       "      <td>0</td>\n",
       "      <td>0</td>\n",
       "      <td>...</td>\n",
       "      <td>0</td>\n",
       "      <td>0</td>\n",
       "      <td>0</td>\n",
       "      <td>1</td>\n",
       "      <td>0</td>\n",
       "      <td>0</td>\n",
       "      <td>1</td>\n",
       "      <td>0</td>\n",
       "      <td>0</td>\n",
       "      <td>0</td>\n",
       "    </tr>\n",
       "  </tbody>\n",
       "</table>\n",
       "<p>5 rows × 33 columns</p>\n",
       "</div>"
      ],
      "text/plain": [
       "   Technology\\nPrimary_ERP Implementation  \\\n",
       "0                                       1   \n",
       "1                                       1   \n",
       "2                                       0   \n",
       "3                                       0   \n",
       "4                                       1   \n",
       "\n",
       "   Technology\\nPrimary_Legacy Modernization  \\\n",
       "0                                         0   \n",
       "1                                         0   \n",
       "2                                         0   \n",
       "3                                         0   \n",
       "4                                         0   \n",
       "\n",
       "   Technology\\nPrimary_Technical Business Solutions  City_Chennai  City_Delhi  \\\n",
       "0                                                 0             0           0   \n",
       "1                                                 0             0           1   \n",
       "2                                                 1             0           1   \n",
       "3                                                 1             0           0   \n",
       "4                                                 0             0           1   \n",
       "\n",
       "   City_Hyderabad  City_Kolkata  City_Mumbai  City_Pune  \\\n",
       "0               0             0            0          0   \n",
       "1               0             0            0          0   \n",
       "2               0             0            0          0   \n",
       "3               0             0            1          0   \n",
       "4               0             0            0          0   \n",
       "\n",
       "   B2B Sales Medium_Marketing  ...  \\\n",
       "0                           1  ...   \n",
       "1                           0  ...   \n",
       "2                           0  ...   \n",
       "3                           0  ...   \n",
       "4                           0  ...   \n",
       "\n",
       "   Business from Client Last Year_50,000 - 100,000  \\\n",
       "0                                                0   \n",
       "1                                                0   \n",
       "2                                                0   \n",
       "3                                                0   \n",
       "4                                                0   \n",
       "\n",
       "   Business from Client Last Year_More than 100,000  Compete Intel_None  \\\n",
       "0                                                 0                   0   \n",
       "1                                                 0                   0   \n",
       "2                                                 0                   0   \n",
       "3                                                 0                   0   \n",
       "4                                                 0                   0   \n",
       "\n",
       "   Compete Intel_Unknown  Opportunity Sizing_10K to 20K  \\\n",
       "0                      1                              0   \n",
       "1                      1                              0   \n",
       "2                      1                              0   \n",
       "3                      0                              0   \n",
       "4                      1                              0   \n",
       "\n",
       "   Opportunity Sizing_20K to 30K  Opportunity Sizing_30K to 40K  \\\n",
       "0                              0                              0   \n",
       "1                              0                              0   \n",
       "2                              0                              0   \n",
       "3                              0                              0   \n",
       "4                              0                              1   \n",
       "\n",
       "   Opportunity Sizing_40K to 50K  Opportunity Sizing_50K to 60K  \\\n",
       "0                              0                              0   \n",
       "1                              0                              0   \n",
       "2                              0                              0   \n",
       "3                              0                              0   \n",
       "4                              0                              0   \n",
       "\n",
       "   Opportunity Sizing_More than 60K  \n",
       "0                                 0  \n",
       "1                                 0  \n",
       "2                                 0  \n",
       "3                                 0  \n",
       "4                                 0  \n",
       "\n",
       "[5 rows x 33 columns]"
      ]
     },
     "execution_count": 62,
     "metadata": {},
     "output_type": "execute_result"
    }
   ],
   "source": [
    "# Creating a dummy variable for some of the categorical variables and dropping the first one.\n",
    "dummy1 = pd.get_dummies(df[['Technology\\nPrimary', 'City', 'B2B Sales Medium', 'Client Revenue Sizing',\n",
    "                            'Client Employee Sizing', 'Business from Client Last Year',\n",
    "                            'Compete Intel', 'Opportunity Sizing']], drop_first=True)\n",
    "dummy1.head()\n"
   ]
  },
  {
   "cell_type": "code",
   "execution_count": 63,
   "metadata": {
    "execution": {
     "iopub.execute_input": "2020-08-24T13:20:17.998976Z",
     "iopub.status.busy": "2020-08-24T13:20:17.998059Z",
     "iopub.status.idle": "2020-08-24T13:20:18.042833Z",
     "shell.execute_reply": "2020-08-24T13:20:18.041981Z"
    },
    "papermill": {
     "duration": 0.099492,
     "end_time": "2020-08-24T13:20:18.042974",
     "exception": false,
     "start_time": "2020-08-24T13:20:17.943482",
     "status": "completed"
    },
    "tags": []
   },
   "outputs": [
    {
     "data": {
      "text/html": [
       "<div>\n",
       "<style scoped>\n",
       "    .dataframe tbody tr th:only-of-type {\n",
       "        vertical-align: middle;\n",
       "    }\n",
       "\n",
       "    .dataframe tbody tr th {\n",
       "        vertical-align: top;\n",
       "    }\n",
       "\n",
       "    .dataframe thead th {\n",
       "        text-align: right;\n",
       "    }\n",
       "</style>\n",
       "<table border=\"1\" class=\"dataframe\">\n",
       "  <thead>\n",
       "    <tr style=\"text-align: right;\">\n",
       "      <th></th>\n",
       "      <th>Technology\\nPrimary</th>\n",
       "      <th>City</th>\n",
       "      <th>B2B Sales Medium</th>\n",
       "      <th>Sales Velocity</th>\n",
       "      <th>Opportunity Status</th>\n",
       "      <th>Sales Stage Iterations</th>\n",
       "      <th>Opportunity Size (USD)</th>\n",
       "      <th>Client Revenue Sizing</th>\n",
       "      <th>Client Employee Sizing</th>\n",
       "      <th>Business from Client Last Year</th>\n",
       "      <th>...</th>\n",
       "      <th>Business from Client Last Year_50,000 - 100,000</th>\n",
       "      <th>Business from Client Last Year_More than 100,000</th>\n",
       "      <th>Compete Intel_None</th>\n",
       "      <th>Compete Intel_Unknown</th>\n",
       "      <th>Opportunity Sizing_10K to 20K</th>\n",
       "      <th>Opportunity Sizing_20K to 30K</th>\n",
       "      <th>Opportunity Sizing_30K to 40K</th>\n",
       "      <th>Opportunity Sizing_40K to 50K</th>\n",
       "      <th>Opportunity Sizing_50K to 60K</th>\n",
       "      <th>Opportunity Sizing_More than 60K</th>\n",
       "    </tr>\n",
       "  </thead>\n",
       "  <tbody>\n",
       "    <tr>\n",
       "      <th>0</th>\n",
       "      <td>ERP Implementation</td>\n",
       "      <td>Bengaluru</td>\n",
       "      <td>Marketing</td>\n",
       "      <td>76</td>\n",
       "      <td>1</td>\n",
       "      <td>6</td>\n",
       "      <td>1192.8</td>\n",
       "      <td>More than 1M</td>\n",
       "      <td>More than 25K</td>\n",
       "      <td>0 (No business)</td>\n",
       "      <td>...</td>\n",
       "      <td>0</td>\n",
       "      <td>0</td>\n",
       "      <td>0</td>\n",
       "      <td>1</td>\n",
       "      <td>0</td>\n",
       "      <td>0</td>\n",
       "      <td>0</td>\n",
       "      <td>0</td>\n",
       "      <td>0</td>\n",
       "      <td>0</td>\n",
       "    </tr>\n",
       "    <tr>\n",
       "      <th>1</th>\n",
       "      <td>ERP Implementation</td>\n",
       "      <td>Delhi</td>\n",
       "      <td>Enterprise Sellers</td>\n",
       "      <td>63</td>\n",
       "      <td>0</td>\n",
       "      <td>2</td>\n",
       "      <td>1192.8</td>\n",
       "      <td>250K to 500K</td>\n",
       "      <td>More than 25K</td>\n",
       "      <td>0 (No business)</td>\n",
       "      <td>...</td>\n",
       "      <td>0</td>\n",
       "      <td>0</td>\n",
       "      <td>0</td>\n",
       "      <td>1</td>\n",
       "      <td>0</td>\n",
       "      <td>0</td>\n",
       "      <td>0</td>\n",
       "      <td>0</td>\n",
       "      <td>0</td>\n",
       "      <td>0</td>\n",
       "    </tr>\n",
       "    <tr>\n",
       "      <th>2</th>\n",
       "      <td>Technical Business Solutions</td>\n",
       "      <td>Delhi</td>\n",
       "      <td>Enterprise Sellers</td>\n",
       "      <td>24</td>\n",
       "      <td>1</td>\n",
       "      <td>6</td>\n",
       "      <td>7750.0</td>\n",
       "      <td>100K or less</td>\n",
       "      <td>1K or less</td>\n",
       "      <td>0 (No business)</td>\n",
       "      <td>...</td>\n",
       "      <td>0</td>\n",
       "      <td>0</td>\n",
       "      <td>0</td>\n",
       "      <td>1</td>\n",
       "      <td>0</td>\n",
       "      <td>0</td>\n",
       "      <td>0</td>\n",
       "      <td>0</td>\n",
       "      <td>0</td>\n",
       "      <td>0</td>\n",
       "    </tr>\n",
       "    <tr>\n",
       "      <th>3</th>\n",
       "      <td>Technical Business Solutions</td>\n",
       "      <td>Mumbai</td>\n",
       "      <td>Enterprise Sellers</td>\n",
       "      <td>16</td>\n",
       "      <td>0</td>\n",
       "      <td>5</td>\n",
       "      <td>1192.8</td>\n",
       "      <td>100K or less</td>\n",
       "      <td>1K or less</td>\n",
       "      <td>0 (No business)</td>\n",
       "      <td>...</td>\n",
       "      <td>0</td>\n",
       "      <td>0</td>\n",
       "      <td>0</td>\n",
       "      <td>0</td>\n",
       "      <td>0</td>\n",
       "      <td>0</td>\n",
       "      <td>0</td>\n",
       "      <td>0</td>\n",
       "      <td>0</td>\n",
       "      <td>0</td>\n",
       "    </tr>\n",
       "    <tr>\n",
       "      <th>4</th>\n",
       "      <td>ERP Implementation</td>\n",
       "      <td>Delhi</td>\n",
       "      <td>Enterprise Sellers</td>\n",
       "      <td>69</td>\n",
       "      <td>0</td>\n",
       "      <td>6</td>\n",
       "      <td>32886.0</td>\n",
       "      <td>100K or less</td>\n",
       "      <td>1K or less</td>\n",
       "      <td>0 (No business)</td>\n",
       "      <td>...</td>\n",
       "      <td>0</td>\n",
       "      <td>0</td>\n",
       "      <td>0</td>\n",
       "      <td>1</td>\n",
       "      <td>0</td>\n",
       "      <td>0</td>\n",
       "      <td>1</td>\n",
       "      <td>0</td>\n",
       "      <td>0</td>\n",
       "      <td>0</td>\n",
       "    </tr>\n",
       "  </tbody>\n",
       "</table>\n",
       "<p>5 rows × 45 columns</p>\n",
       "</div>"
      ],
      "text/plain": [
       "            Technology\\nPrimary       City    B2B Sales Medium  \\\n",
       "0            ERP Implementation  Bengaluru           Marketing   \n",
       "1            ERP Implementation      Delhi  Enterprise Sellers   \n",
       "2  Technical Business Solutions      Delhi  Enterprise Sellers   \n",
       "3  Technical Business Solutions     Mumbai  Enterprise Sellers   \n",
       "4            ERP Implementation      Delhi  Enterprise Sellers   \n",
       "\n",
       "   Sales Velocity  Opportunity Status  Sales Stage Iterations  \\\n",
       "0              76                   1                       6   \n",
       "1              63                   0                       2   \n",
       "2              24                   1                       6   \n",
       "3              16                   0                       5   \n",
       "4              69                   0                       6   \n",
       "\n",
       "   Opportunity Size (USD) Client Revenue Sizing Client Employee Sizing  \\\n",
       "0                  1192.8          More than 1M          More than 25K   \n",
       "1                  1192.8          250K to 500K          More than 25K   \n",
       "2                  7750.0          100K or less             1K or less   \n",
       "3                  1192.8          100K or less             1K or less   \n",
       "4                 32886.0          100K or less             1K or less   \n",
       "\n",
       "  Business from Client Last Year  ...  \\\n",
       "0                0 (No business)  ...   \n",
       "1                0 (No business)  ...   \n",
       "2                0 (No business)  ...   \n",
       "3                0 (No business)  ...   \n",
       "4                0 (No business)  ...   \n",
       "\n",
       "  Business from Client Last Year_50,000 - 100,000  \\\n",
       "0                                               0   \n",
       "1                                               0   \n",
       "2                                               0   \n",
       "3                                               0   \n",
       "4                                               0   \n",
       "\n",
       "  Business from Client Last Year_More than 100,000  Compete Intel_None  \\\n",
       "0                                                0                   0   \n",
       "1                                                0                   0   \n",
       "2                                                0                   0   \n",
       "3                                                0                   0   \n",
       "4                                                0                   0   \n",
       "\n",
       "   Compete Intel_Unknown  Opportunity Sizing_10K to 20K  \\\n",
       "0                      1                              0   \n",
       "1                      1                              0   \n",
       "2                      1                              0   \n",
       "3                      0                              0   \n",
       "4                      1                              0   \n",
       "\n",
       "   Opportunity Sizing_20K to 30K  Opportunity Sizing_30K to 40K  \\\n",
       "0                              0                              0   \n",
       "1                              0                              0   \n",
       "2                              0                              0   \n",
       "3                              0                              0   \n",
       "4                              0                              1   \n",
       "\n",
       "   Opportunity Sizing_40K to 50K  Opportunity Sizing_50K to 60K  \\\n",
       "0                              0                              0   \n",
       "1                              0                              0   \n",
       "2                              0                              0   \n",
       "3                              0                              0   \n",
       "4                              0                              0   \n",
       "\n",
       "   Opportunity Sizing_More than 60K  \n",
       "0                                 0  \n",
       "1                                 0  \n",
       "2                                 0  \n",
       "3                                 0  \n",
       "4                                 0  \n",
       "\n",
       "[5 rows x 45 columns]"
      ]
     },
     "execution_count": 63,
     "metadata": {},
     "output_type": "execute_result"
    }
   ],
   "source": [
    "# Adding the results to the master dataframe\n",
    "df = pd.concat([df, dummy1], axis=1)\n",
    "df.head()"
   ]
  },
  {
   "cell_type": "code",
   "execution_count": 64,
   "metadata": {
    "execution": {
     "iopub.execute_input": "2020-08-24T13:20:18.158203Z",
     "iopub.status.busy": "2020-08-24T13:20:18.148693Z",
     "iopub.status.idle": "2020-08-24T13:20:18.203374Z",
     "shell.execute_reply": "2020-08-24T13:20:18.202645Z"
    },
    "papermill": {
     "duration": 0.111199,
     "end_time": "2020-08-24T13:20:18.203512",
     "exception": false,
     "start_time": "2020-08-24T13:20:18.092313",
     "status": "completed"
    },
    "tags": []
   },
   "outputs": [
    {
     "data": {
      "text/html": [
       "<div>\n",
       "<style scoped>\n",
       "    .dataframe tbody tr th:only-of-type {\n",
       "        vertical-align: middle;\n",
       "    }\n",
       "\n",
       "    .dataframe tbody tr th {\n",
       "        vertical-align: top;\n",
       "    }\n",
       "\n",
       "    .dataframe thead th {\n",
       "        text-align: right;\n",
       "    }\n",
       "</style>\n",
       "<table border=\"1\" class=\"dataframe\">\n",
       "  <thead>\n",
       "    <tr style=\"text-align: right;\">\n",
       "      <th></th>\n",
       "      <th>Sales Velocity</th>\n",
       "      <th>Opportunity Status</th>\n",
       "      <th>Sales Stage Iterations</th>\n",
       "      <th>Opportunity Size (USD)</th>\n",
       "      <th>Technology\\nPrimary_ERP Implementation</th>\n",
       "      <th>Technology\\nPrimary_Legacy Modernization</th>\n",
       "      <th>Technology\\nPrimary_Technical Business Solutions</th>\n",
       "      <th>City_Chennai</th>\n",
       "      <th>City_Delhi</th>\n",
       "      <th>City_Hyderabad</th>\n",
       "      <th>...</th>\n",
       "      <th>Business from Client Last Year_50,000 - 100,000</th>\n",
       "      <th>Business from Client Last Year_More than 100,000</th>\n",
       "      <th>Compete Intel_None</th>\n",
       "      <th>Compete Intel_Unknown</th>\n",
       "      <th>Opportunity Sizing_10K to 20K</th>\n",
       "      <th>Opportunity Sizing_20K to 30K</th>\n",
       "      <th>Opportunity Sizing_30K to 40K</th>\n",
       "      <th>Opportunity Sizing_40K to 50K</th>\n",
       "      <th>Opportunity Sizing_50K to 60K</th>\n",
       "      <th>Opportunity Sizing_More than 60K</th>\n",
       "    </tr>\n",
       "  </thead>\n",
       "  <tbody>\n",
       "    <tr>\n",
       "      <th>0</th>\n",
       "      <td>76</td>\n",
       "      <td>1</td>\n",
       "      <td>6</td>\n",
       "      <td>1192.8</td>\n",
       "      <td>1</td>\n",
       "      <td>0</td>\n",
       "      <td>0</td>\n",
       "      <td>0</td>\n",
       "      <td>0</td>\n",
       "      <td>0</td>\n",
       "      <td>...</td>\n",
       "      <td>0</td>\n",
       "      <td>0</td>\n",
       "      <td>0</td>\n",
       "      <td>1</td>\n",
       "      <td>0</td>\n",
       "      <td>0</td>\n",
       "      <td>0</td>\n",
       "      <td>0</td>\n",
       "      <td>0</td>\n",
       "      <td>0</td>\n",
       "    </tr>\n",
       "    <tr>\n",
       "      <th>1</th>\n",
       "      <td>63</td>\n",
       "      <td>0</td>\n",
       "      <td>2</td>\n",
       "      <td>1192.8</td>\n",
       "      <td>1</td>\n",
       "      <td>0</td>\n",
       "      <td>0</td>\n",
       "      <td>0</td>\n",
       "      <td>1</td>\n",
       "      <td>0</td>\n",
       "      <td>...</td>\n",
       "      <td>0</td>\n",
       "      <td>0</td>\n",
       "      <td>0</td>\n",
       "      <td>1</td>\n",
       "      <td>0</td>\n",
       "      <td>0</td>\n",
       "      <td>0</td>\n",
       "      <td>0</td>\n",
       "      <td>0</td>\n",
       "      <td>0</td>\n",
       "    </tr>\n",
       "    <tr>\n",
       "      <th>2</th>\n",
       "      <td>24</td>\n",
       "      <td>1</td>\n",
       "      <td>6</td>\n",
       "      <td>7750.0</td>\n",
       "      <td>0</td>\n",
       "      <td>0</td>\n",
       "      <td>1</td>\n",
       "      <td>0</td>\n",
       "      <td>1</td>\n",
       "      <td>0</td>\n",
       "      <td>...</td>\n",
       "      <td>0</td>\n",
       "      <td>0</td>\n",
       "      <td>0</td>\n",
       "      <td>1</td>\n",
       "      <td>0</td>\n",
       "      <td>0</td>\n",
       "      <td>0</td>\n",
       "      <td>0</td>\n",
       "      <td>0</td>\n",
       "      <td>0</td>\n",
       "    </tr>\n",
       "    <tr>\n",
       "      <th>3</th>\n",
       "      <td>16</td>\n",
       "      <td>0</td>\n",
       "      <td>5</td>\n",
       "      <td>1192.8</td>\n",
       "      <td>0</td>\n",
       "      <td>0</td>\n",
       "      <td>1</td>\n",
       "      <td>0</td>\n",
       "      <td>0</td>\n",
       "      <td>0</td>\n",
       "      <td>...</td>\n",
       "      <td>0</td>\n",
       "      <td>0</td>\n",
       "      <td>0</td>\n",
       "      <td>0</td>\n",
       "      <td>0</td>\n",
       "      <td>0</td>\n",
       "      <td>0</td>\n",
       "      <td>0</td>\n",
       "      <td>0</td>\n",
       "      <td>0</td>\n",
       "    </tr>\n",
       "    <tr>\n",
       "      <th>4</th>\n",
       "      <td>69</td>\n",
       "      <td>0</td>\n",
       "      <td>6</td>\n",
       "      <td>32886.0</td>\n",
       "      <td>1</td>\n",
       "      <td>0</td>\n",
       "      <td>0</td>\n",
       "      <td>0</td>\n",
       "      <td>1</td>\n",
       "      <td>0</td>\n",
       "      <td>...</td>\n",
       "      <td>0</td>\n",
       "      <td>0</td>\n",
       "      <td>0</td>\n",
       "      <td>1</td>\n",
       "      <td>0</td>\n",
       "      <td>0</td>\n",
       "      <td>1</td>\n",
       "      <td>0</td>\n",
       "      <td>0</td>\n",
       "      <td>0</td>\n",
       "    </tr>\n",
       "  </tbody>\n",
       "</table>\n",
       "<p>5 rows × 37 columns</p>\n",
       "</div>"
      ],
      "text/plain": [
       "   Sales Velocity  Opportunity Status  Sales Stage Iterations  \\\n",
       "0              76                   1                       6   \n",
       "1              63                   0                       2   \n",
       "2              24                   1                       6   \n",
       "3              16                   0                       5   \n",
       "4              69                   0                       6   \n",
       "\n",
       "   Opportunity Size (USD)  Technology\\nPrimary_ERP Implementation  \\\n",
       "0                  1192.8                                       1   \n",
       "1                  1192.8                                       1   \n",
       "2                  7750.0                                       0   \n",
       "3                  1192.8                                       0   \n",
       "4                 32886.0                                       1   \n",
       "\n",
       "   Technology\\nPrimary_Legacy Modernization  \\\n",
       "0                                         0   \n",
       "1                                         0   \n",
       "2                                         0   \n",
       "3                                         0   \n",
       "4                                         0   \n",
       "\n",
       "   Technology\\nPrimary_Technical Business Solutions  City_Chennai  City_Delhi  \\\n",
       "0                                                 0             0           0   \n",
       "1                                                 0             0           1   \n",
       "2                                                 1             0           1   \n",
       "3                                                 1             0           0   \n",
       "4                                                 0             0           1   \n",
       "\n",
       "   City_Hyderabad  ...  Business from Client Last Year_50,000 - 100,000  \\\n",
       "0               0  ...                                                0   \n",
       "1               0  ...                                                0   \n",
       "2               0  ...                                                0   \n",
       "3               0  ...                                                0   \n",
       "4               0  ...                                                0   \n",
       "\n",
       "   Business from Client Last Year_More than 100,000  Compete Intel_None  \\\n",
       "0                                                 0                   0   \n",
       "1                                                 0                   0   \n",
       "2                                                 0                   0   \n",
       "3                                                 0                   0   \n",
       "4                                                 0                   0   \n",
       "\n",
       "   Compete Intel_Unknown  Opportunity Sizing_10K to 20K  \\\n",
       "0                      1                              0   \n",
       "1                      1                              0   \n",
       "2                      1                              0   \n",
       "3                      0                              0   \n",
       "4                      1                              0   \n",
       "\n",
       "   Opportunity Sizing_20K to 30K  Opportunity Sizing_30K to 40K  \\\n",
       "0                              0                              0   \n",
       "1                              0                              0   \n",
       "2                              0                              0   \n",
       "3                              0                              0   \n",
       "4                              0                              1   \n",
       "\n",
       "   Opportunity Sizing_40K to 50K  Opportunity Sizing_50K to 60K  \\\n",
       "0                              0                              0   \n",
       "1                              0                              0   \n",
       "2                              0                              0   \n",
       "3                              0                              0   \n",
       "4                              0                              0   \n",
       "\n",
       "   Opportunity Sizing_More than 60K  \n",
       "0                                 0  \n",
       "1                                 0  \n",
       "2                                 0  \n",
       "3                                 0  \n",
       "4                                 0  \n",
       "\n",
       "[5 rows x 37 columns]"
      ]
     },
     "execution_count": 64,
     "metadata": {},
     "output_type": "execute_result"
    }
   ],
   "source": [
    "df = df.drop(['Technology\\nPrimary', 'City', 'B2B Sales Medium', 'Client Revenue Sizing',\n",
    "              'Client Employee Sizing', 'Business from Client Last Year',\n",
    "              'Compete Intel', 'Opportunity Sizing'], axis = 1)\n",
    "df.head()"
   ]
  },
  {
   "cell_type": "code",
   "execution_count": 65,
   "metadata": {
    "execution": {
     "iopub.execute_input": "2020-08-24T13:20:18.309186Z",
     "iopub.status.busy": "2020-08-24T13:20:18.308216Z",
     "iopub.status.idle": "2020-08-24T13:20:18.444254Z",
     "shell.execute_reply": "2020-08-24T13:20:18.443438Z"
    },
    "papermill": {
     "duration": 0.192112,
     "end_time": "2020-08-24T13:20:18.444408",
     "exception": false,
     "start_time": "2020-08-24T13:20:18.252296",
     "status": "completed"
    },
    "tags": []
   },
   "outputs": [],
   "source": [
    "from sklearn.model_selection import train_test_split\n",
    "\n",
    "# Putting feature variable to X\n",
    "X = df.drop(['Opportunity Status'], axis=1)"
   ]
  },
  {
   "cell_type": "code",
   "execution_count": 66,
   "metadata": {
    "execution": {
     "iopub.execute_input": "2020-08-24T13:20:18.569796Z",
     "iopub.status.busy": "2020-08-24T13:20:18.568959Z",
     "iopub.status.idle": "2020-08-24T13:20:18.574870Z",
     "shell.execute_reply": "2020-08-24T13:20:18.574137Z"
    },
    "papermill": {
     "duration": 0.080809,
     "end_time": "2020-08-24T13:20:18.575007",
     "exception": false,
     "start_time": "2020-08-24T13:20:18.494198",
     "status": "completed"
    },
    "tags": []
   },
   "outputs": [
    {
     "data": {
      "text/html": [
       "<div>\n",
       "<style scoped>\n",
       "    .dataframe tbody tr th:only-of-type {\n",
       "        vertical-align: middle;\n",
       "    }\n",
       "\n",
       "    .dataframe tbody tr th {\n",
       "        vertical-align: top;\n",
       "    }\n",
       "\n",
       "    .dataframe thead th {\n",
       "        text-align: right;\n",
       "    }\n",
       "</style>\n",
       "<table border=\"1\" class=\"dataframe\">\n",
       "  <thead>\n",
       "    <tr style=\"text-align: right;\">\n",
       "      <th></th>\n",
       "      <th>Sales Velocity</th>\n",
       "      <th>Sales Stage Iterations</th>\n",
       "      <th>Opportunity Size (USD)</th>\n",
       "      <th>Technology\\nPrimary_ERP Implementation</th>\n",
       "      <th>Technology\\nPrimary_Legacy Modernization</th>\n",
       "      <th>Technology\\nPrimary_Technical Business Solutions</th>\n",
       "      <th>City_Chennai</th>\n",
       "      <th>City_Delhi</th>\n",
       "      <th>City_Hyderabad</th>\n",
       "      <th>City_Kolkata</th>\n",
       "      <th>...</th>\n",
       "      <th>Business from Client Last Year_50,000 - 100,000</th>\n",
       "      <th>Business from Client Last Year_More than 100,000</th>\n",
       "      <th>Compete Intel_None</th>\n",
       "      <th>Compete Intel_Unknown</th>\n",
       "      <th>Opportunity Sizing_10K to 20K</th>\n",
       "      <th>Opportunity Sizing_20K to 30K</th>\n",
       "      <th>Opportunity Sizing_30K to 40K</th>\n",
       "      <th>Opportunity Sizing_40K to 50K</th>\n",
       "      <th>Opportunity Sizing_50K to 60K</th>\n",
       "      <th>Opportunity Sizing_More than 60K</th>\n",
       "    </tr>\n",
       "  </thead>\n",
       "  <tbody>\n",
       "    <tr>\n",
       "      <th>0</th>\n",
       "      <td>76</td>\n",
       "      <td>6</td>\n",
       "      <td>1192.8</td>\n",
       "      <td>1</td>\n",
       "      <td>0</td>\n",
       "      <td>0</td>\n",
       "      <td>0</td>\n",
       "      <td>0</td>\n",
       "      <td>0</td>\n",
       "      <td>0</td>\n",
       "      <td>...</td>\n",
       "      <td>0</td>\n",
       "      <td>0</td>\n",
       "      <td>0</td>\n",
       "      <td>1</td>\n",
       "      <td>0</td>\n",
       "      <td>0</td>\n",
       "      <td>0</td>\n",
       "      <td>0</td>\n",
       "      <td>0</td>\n",
       "      <td>0</td>\n",
       "    </tr>\n",
       "    <tr>\n",
       "      <th>1</th>\n",
       "      <td>63</td>\n",
       "      <td>2</td>\n",
       "      <td>1192.8</td>\n",
       "      <td>1</td>\n",
       "      <td>0</td>\n",
       "      <td>0</td>\n",
       "      <td>0</td>\n",
       "      <td>1</td>\n",
       "      <td>0</td>\n",
       "      <td>0</td>\n",
       "      <td>...</td>\n",
       "      <td>0</td>\n",
       "      <td>0</td>\n",
       "      <td>0</td>\n",
       "      <td>1</td>\n",
       "      <td>0</td>\n",
       "      <td>0</td>\n",
       "      <td>0</td>\n",
       "      <td>0</td>\n",
       "      <td>0</td>\n",
       "      <td>0</td>\n",
       "    </tr>\n",
       "    <tr>\n",
       "      <th>2</th>\n",
       "      <td>24</td>\n",
       "      <td>6</td>\n",
       "      <td>7750.0</td>\n",
       "      <td>0</td>\n",
       "      <td>0</td>\n",
       "      <td>1</td>\n",
       "      <td>0</td>\n",
       "      <td>1</td>\n",
       "      <td>0</td>\n",
       "      <td>0</td>\n",
       "      <td>...</td>\n",
       "      <td>0</td>\n",
       "      <td>0</td>\n",
       "      <td>0</td>\n",
       "      <td>1</td>\n",
       "      <td>0</td>\n",
       "      <td>0</td>\n",
       "      <td>0</td>\n",
       "      <td>0</td>\n",
       "      <td>0</td>\n",
       "      <td>0</td>\n",
       "    </tr>\n",
       "    <tr>\n",
       "      <th>3</th>\n",
       "      <td>16</td>\n",
       "      <td>5</td>\n",
       "      <td>1192.8</td>\n",
       "      <td>0</td>\n",
       "      <td>0</td>\n",
       "      <td>1</td>\n",
       "      <td>0</td>\n",
       "      <td>0</td>\n",
       "      <td>0</td>\n",
       "      <td>0</td>\n",
       "      <td>...</td>\n",
       "      <td>0</td>\n",
       "      <td>0</td>\n",
       "      <td>0</td>\n",
       "      <td>0</td>\n",
       "      <td>0</td>\n",
       "      <td>0</td>\n",
       "      <td>0</td>\n",
       "      <td>0</td>\n",
       "      <td>0</td>\n",
       "      <td>0</td>\n",
       "    </tr>\n",
       "    <tr>\n",
       "      <th>4</th>\n",
       "      <td>69</td>\n",
       "      <td>6</td>\n",
       "      <td>32886.0</td>\n",
       "      <td>1</td>\n",
       "      <td>0</td>\n",
       "      <td>0</td>\n",
       "      <td>0</td>\n",
       "      <td>1</td>\n",
       "      <td>0</td>\n",
       "      <td>0</td>\n",
       "      <td>...</td>\n",
       "      <td>0</td>\n",
       "      <td>0</td>\n",
       "      <td>0</td>\n",
       "      <td>1</td>\n",
       "      <td>0</td>\n",
       "      <td>0</td>\n",
       "      <td>1</td>\n",
       "      <td>0</td>\n",
       "      <td>0</td>\n",
       "      <td>0</td>\n",
       "    </tr>\n",
       "  </tbody>\n",
       "</table>\n",
       "<p>5 rows × 36 columns</p>\n",
       "</div>"
      ],
      "text/plain": [
       "   Sales Velocity  Sales Stage Iterations  Opportunity Size (USD)  \\\n",
       "0              76                       6                  1192.8   \n",
       "1              63                       2                  1192.8   \n",
       "2              24                       6                  7750.0   \n",
       "3              16                       5                  1192.8   \n",
       "4              69                       6                 32886.0   \n",
       "\n",
       "   Technology\\nPrimary_ERP Implementation  \\\n",
       "0                                       1   \n",
       "1                                       1   \n",
       "2                                       0   \n",
       "3                                       0   \n",
       "4                                       1   \n",
       "\n",
       "   Technology\\nPrimary_Legacy Modernization  \\\n",
       "0                                         0   \n",
       "1                                         0   \n",
       "2                                         0   \n",
       "3                                         0   \n",
       "4                                         0   \n",
       "\n",
       "   Technology\\nPrimary_Technical Business Solutions  City_Chennai  City_Delhi  \\\n",
       "0                                                 0             0           0   \n",
       "1                                                 0             0           1   \n",
       "2                                                 1             0           1   \n",
       "3                                                 1             0           0   \n",
       "4                                                 0             0           1   \n",
       "\n",
       "   City_Hyderabad  City_Kolkata  ...  \\\n",
       "0               0             0  ...   \n",
       "1               0             0  ...   \n",
       "2               0             0  ...   \n",
       "3               0             0  ...   \n",
       "4               0             0  ...   \n",
       "\n",
       "   Business from Client Last Year_50,000 - 100,000  \\\n",
       "0                                                0   \n",
       "1                                                0   \n",
       "2                                                0   \n",
       "3                                                0   \n",
       "4                                                0   \n",
       "\n",
       "   Business from Client Last Year_More than 100,000  Compete Intel_None  \\\n",
       "0                                                 0                   0   \n",
       "1                                                 0                   0   \n",
       "2                                                 0                   0   \n",
       "3                                                 0                   0   \n",
       "4                                                 0                   0   \n",
       "\n",
       "   Compete Intel_Unknown  Opportunity Sizing_10K to 20K  \\\n",
       "0                      1                              0   \n",
       "1                      1                              0   \n",
       "2                      1                              0   \n",
       "3                      0                              0   \n",
       "4                      1                              0   \n",
       "\n",
       "   Opportunity Sizing_20K to 30K  Opportunity Sizing_30K to 40K  \\\n",
       "0                              0                              0   \n",
       "1                              0                              0   \n",
       "2                              0                              0   \n",
       "3                              0                              0   \n",
       "4                              0                              1   \n",
       "\n",
       "   Opportunity Sizing_40K to 50K  Opportunity Sizing_50K to 60K  \\\n",
       "0                              0                              0   \n",
       "1                              0                              0   \n",
       "2                              0                              0   \n",
       "3                              0                              0   \n",
       "4                              0                              0   \n",
       "\n",
       "   Opportunity Sizing_More than 60K  \n",
       "0                                 0  \n",
       "1                                 0  \n",
       "2                                 0  \n",
       "3                                 0  \n",
       "4                                 0  \n",
       "\n",
       "[5 rows x 36 columns]"
      ]
     },
     "execution_count": 66,
     "metadata": {},
     "output_type": "execute_result"
    }
   ],
   "source": [
    "X.head()"
   ]
  },
  {
   "cell_type": "code",
   "execution_count": 67,
   "metadata": {
    "execution": {
     "iopub.execute_input": "2020-08-24T13:20:18.681525Z",
     "iopub.status.busy": "2020-08-24T13:20:18.680630Z",
     "iopub.status.idle": "2020-08-24T13:20:18.685473Z",
     "shell.execute_reply": "2020-08-24T13:20:18.684717Z"
    },
    "papermill": {
     "duration": 0.060824,
     "end_time": "2020-08-24T13:20:18.685627",
     "exception": false,
     "start_time": "2020-08-24T13:20:18.624803",
     "status": "completed"
    },
    "tags": []
   },
   "outputs": [
    {
     "data": {
      "text/plain": [
       "(78025, 36)"
      ]
     },
     "execution_count": 67,
     "metadata": {},
     "output_type": "execute_result"
    }
   ],
   "source": [
    "X.shape"
   ]
  },
  {
   "cell_type": "code",
   "execution_count": 68,
   "metadata": {
    "execution": {
     "iopub.execute_input": "2020-08-24T13:20:18.796962Z",
     "iopub.status.busy": "2020-08-24T13:20:18.795792Z",
     "iopub.status.idle": "2020-08-24T13:20:18.799133Z",
     "shell.execute_reply": "2020-08-24T13:20:18.800038Z"
    },
    "papermill": {
     "duration": 0.064742,
     "end_time": "2020-08-24T13:20:18.800282",
     "exception": false,
     "start_time": "2020-08-24T13:20:18.735540",
     "status": "completed"
    },
    "tags": []
   },
   "outputs": [],
   "source": [
    "# Putting response variable to y\n",
    "y = df['Opportunity Status']"
   ]
  },
  {
   "cell_type": "code",
   "execution_count": 69,
   "metadata": {
    "execution": {
     "iopub.execute_input": "2020-08-24T13:20:18.923151Z",
     "iopub.status.busy": "2020-08-24T13:20:18.922084Z",
     "iopub.status.idle": "2020-08-24T13:20:18.928071Z",
     "shell.execute_reply": "2020-08-24T13:20:18.927349Z"
    },
    "papermill": {
     "duration": 0.066362,
     "end_time": "2020-08-24T13:20:18.928215",
     "exception": false,
     "start_time": "2020-08-24T13:20:18.861853",
     "status": "completed"
    },
    "tags": []
   },
   "outputs": [
    {
     "data": {
      "text/plain": [
       "0    1\n",
       "1    0\n",
       "2    1\n",
       "3    0\n",
       "4    0\n",
       "Name: Opportunity Status, dtype: int64"
      ]
     },
     "execution_count": 69,
     "metadata": {},
     "output_type": "execute_result"
    }
   ],
   "source": [
    "y.head()"
   ]
  },
  {
   "cell_type": "code",
   "execution_count": 70,
   "metadata": {
    "execution": {
     "iopub.execute_input": "2020-08-24T13:20:19.047455Z",
     "iopub.status.busy": "2020-08-24T13:20:19.046256Z",
     "iopub.status.idle": "2020-08-24T13:20:19.051230Z",
     "shell.execute_reply": "2020-08-24T13:20:19.050439Z"
    },
    "papermill": {
     "duration": 0.067075,
     "end_time": "2020-08-24T13:20:19.051377",
     "exception": false,
     "start_time": "2020-08-24T13:20:18.984302",
     "status": "completed"
    },
    "tags": []
   },
   "outputs": [
    {
     "data": {
      "text/plain": [
       "(78025,)"
      ]
     },
     "execution_count": 70,
     "metadata": {},
     "output_type": "execute_result"
    }
   ],
   "source": [
    "y.shape"
   ]
  },
  {
   "cell_type": "code",
   "execution_count": 71,
   "metadata": {
    "execution": {
     "iopub.execute_input": "2020-08-24T13:20:19.163908Z",
     "iopub.status.busy": "2020-08-24T13:20:19.160456Z",
     "iopub.status.idle": "2020-08-24T13:20:19.180051Z",
     "shell.execute_reply": "2020-08-24T13:20:19.180715Z"
    },
    "papermill": {
     "duration": 0.078088,
     "end_time": "2020-08-24T13:20:19.180916",
     "exception": false,
     "start_time": "2020-08-24T13:20:19.102828",
     "status": "completed"
    },
    "tags": []
   },
   "outputs": [],
   "source": [
    "# Splitting the data into train and test\n",
    "X_train, X_test, y_train, y_test = train_test_split(X, y, train_size=0.7, test_size=0.3, random_state=125)"
   ]
  },
  {
   "cell_type": "code",
   "execution_count": 72,
   "metadata": {
    "execution": {
     "iopub.execute_input": "2020-08-24T13:20:19.308462Z",
     "iopub.status.busy": "2020-08-24T13:20:19.297696Z",
     "iopub.status.idle": "2020-08-24T13:20:19.316490Z",
     "shell.execute_reply": "2020-08-24T13:20:19.315530Z"
    },
    "papermill": {
     "duration": 0.084012,
     "end_time": "2020-08-24T13:20:19.316670",
     "exception": false,
     "start_time": "2020-08-24T13:20:19.232658",
     "status": "completed"
    },
    "tags": []
   },
   "outputs": [
    {
     "data": {
      "text/html": [
       "<div>\n",
       "<style scoped>\n",
       "    .dataframe tbody tr th:only-of-type {\n",
       "        vertical-align: middle;\n",
       "    }\n",
       "\n",
       "    .dataframe tbody tr th {\n",
       "        vertical-align: top;\n",
       "    }\n",
       "\n",
       "    .dataframe thead th {\n",
       "        text-align: right;\n",
       "    }\n",
       "</style>\n",
       "<table border=\"1\" class=\"dataframe\">\n",
       "  <thead>\n",
       "    <tr style=\"text-align: right;\">\n",
       "      <th></th>\n",
       "      <th>Sales Velocity</th>\n",
       "      <th>Sales Stage Iterations</th>\n",
       "      <th>Opportunity Size (USD)</th>\n",
       "      <th>Technology\\nPrimary_ERP Implementation</th>\n",
       "      <th>Technology\\nPrimary_Legacy Modernization</th>\n",
       "      <th>Technology\\nPrimary_Technical Business Solutions</th>\n",
       "      <th>City_Chennai</th>\n",
       "      <th>City_Delhi</th>\n",
       "      <th>City_Hyderabad</th>\n",
       "      <th>City_Kolkata</th>\n",
       "      <th>...</th>\n",
       "      <th>Business from Client Last Year_50,000 - 100,000</th>\n",
       "      <th>Business from Client Last Year_More than 100,000</th>\n",
       "      <th>Compete Intel_None</th>\n",
       "      <th>Compete Intel_Unknown</th>\n",
       "      <th>Opportunity Sizing_10K to 20K</th>\n",
       "      <th>Opportunity Sizing_20K to 30K</th>\n",
       "      <th>Opportunity Sizing_30K to 40K</th>\n",
       "      <th>Opportunity Sizing_40K to 50K</th>\n",
       "      <th>Opportunity Sizing_50K to 60K</th>\n",
       "      <th>Opportunity Sizing_More than 60K</th>\n",
       "    </tr>\n",
       "  </thead>\n",
       "  <tbody>\n",
       "    <tr>\n",
       "      <th>20920</th>\n",
       "      <td>67</td>\n",
       "      <td>2</td>\n",
       "      <td>45671.0</td>\n",
       "      <td>1</td>\n",
       "      <td>0</td>\n",
       "      <td>0</td>\n",
       "      <td>0</td>\n",
       "      <td>0</td>\n",
       "      <td>0</td>\n",
       "      <td>0</td>\n",
       "      <td>...</td>\n",
       "      <td>0</td>\n",
       "      <td>0</td>\n",
       "      <td>0</td>\n",
       "      <td>1</td>\n",
       "      <td>0</td>\n",
       "      <td>0</td>\n",
       "      <td>0</td>\n",
       "      <td>1</td>\n",
       "      <td>0</td>\n",
       "      <td>0</td>\n",
       "    </tr>\n",
       "    <tr>\n",
       "      <th>25394</th>\n",
       "      <td>45</td>\n",
       "      <td>2</td>\n",
       "      <td>56309.0</td>\n",
       "      <td>0</td>\n",
       "      <td>0</td>\n",
       "      <td>1</td>\n",
       "      <td>0</td>\n",
       "      <td>1</td>\n",
       "      <td>0</td>\n",
       "      <td>0</td>\n",
       "      <td>...</td>\n",
       "      <td>0</td>\n",
       "      <td>0</td>\n",
       "      <td>1</td>\n",
       "      <td>0</td>\n",
       "      <td>0</td>\n",
       "      <td>0</td>\n",
       "      <td>0</td>\n",
       "      <td>0</td>\n",
       "      <td>1</td>\n",
       "      <td>0</td>\n",
       "    </tr>\n",
       "    <tr>\n",
       "      <th>12555</th>\n",
       "      <td>46</td>\n",
       "      <td>3</td>\n",
       "      <td>31031.0</td>\n",
       "      <td>0</td>\n",
       "      <td>0</td>\n",
       "      <td>1</td>\n",
       "      <td>0</td>\n",
       "      <td>0</td>\n",
       "      <td>0</td>\n",
       "      <td>0</td>\n",
       "      <td>...</td>\n",
       "      <td>0</td>\n",
       "      <td>0</td>\n",
       "      <td>0</td>\n",
       "      <td>1</td>\n",
       "      <td>0</td>\n",
       "      <td>0</td>\n",
       "      <td>1</td>\n",
       "      <td>0</td>\n",
       "      <td>0</td>\n",
       "      <td>0</td>\n",
       "    </tr>\n",
       "    <tr>\n",
       "      <th>40022</th>\n",
       "      <td>7</td>\n",
       "      <td>4</td>\n",
       "      <td>31481.0</td>\n",
       "      <td>0</td>\n",
       "      <td>0</td>\n",
       "      <td>1</td>\n",
       "      <td>0</td>\n",
       "      <td>0</td>\n",
       "      <td>0</td>\n",
       "      <td>0</td>\n",
       "      <td>...</td>\n",
       "      <td>0</td>\n",
       "      <td>0</td>\n",
       "      <td>0</td>\n",
       "      <td>1</td>\n",
       "      <td>0</td>\n",
       "      <td>0</td>\n",
       "      <td>1</td>\n",
       "      <td>0</td>\n",
       "      <td>0</td>\n",
       "      <td>0</td>\n",
       "    </tr>\n",
       "    <tr>\n",
       "      <th>40488</th>\n",
       "      <td>12</td>\n",
       "      <td>2</td>\n",
       "      <td>38951.0</td>\n",
       "      <td>0</td>\n",
       "      <td>0</td>\n",
       "      <td>1</td>\n",
       "      <td>0</td>\n",
       "      <td>1</td>\n",
       "      <td>0</td>\n",
       "      <td>0</td>\n",
       "      <td>...</td>\n",
       "      <td>0</td>\n",
       "      <td>0</td>\n",
       "      <td>0</td>\n",
       "      <td>1</td>\n",
       "      <td>0</td>\n",
       "      <td>0</td>\n",
       "      <td>1</td>\n",
       "      <td>0</td>\n",
       "      <td>0</td>\n",
       "      <td>0</td>\n",
       "    </tr>\n",
       "  </tbody>\n",
       "</table>\n",
       "<p>5 rows × 36 columns</p>\n",
       "</div>"
      ],
      "text/plain": [
       "       Sales Velocity  Sales Stage Iterations  Opportunity Size (USD)  \\\n",
       "20920              67                       2                 45671.0   \n",
       "25394              45                       2                 56309.0   \n",
       "12555              46                       3                 31031.0   \n",
       "40022               7                       4                 31481.0   \n",
       "40488              12                       2                 38951.0   \n",
       "\n",
       "       Technology\\nPrimary_ERP Implementation  \\\n",
       "20920                                       1   \n",
       "25394                                       0   \n",
       "12555                                       0   \n",
       "40022                                       0   \n",
       "40488                                       0   \n",
       "\n",
       "       Technology\\nPrimary_Legacy Modernization  \\\n",
       "20920                                         0   \n",
       "25394                                         0   \n",
       "12555                                         0   \n",
       "40022                                         0   \n",
       "40488                                         0   \n",
       "\n",
       "       Technology\\nPrimary_Technical Business Solutions  City_Chennai  \\\n",
       "20920                                                 0             0   \n",
       "25394                                                 1             0   \n",
       "12555                                                 1             0   \n",
       "40022                                                 1             0   \n",
       "40488                                                 1             0   \n",
       "\n",
       "       City_Delhi  City_Hyderabad  City_Kolkata  ...  \\\n",
       "20920           0               0             0  ...   \n",
       "25394           1               0             0  ...   \n",
       "12555           0               0             0  ...   \n",
       "40022           0               0             0  ...   \n",
       "40488           1               0             0  ...   \n",
       "\n",
       "       Business from Client Last Year_50,000 - 100,000  \\\n",
       "20920                                                0   \n",
       "25394                                                0   \n",
       "12555                                                0   \n",
       "40022                                                0   \n",
       "40488                                                0   \n",
       "\n",
       "       Business from Client Last Year_More than 100,000  Compete Intel_None  \\\n",
       "20920                                                 0                   0   \n",
       "25394                                                 0                   1   \n",
       "12555                                                 0                   0   \n",
       "40022                                                 0                   0   \n",
       "40488                                                 0                   0   \n",
       "\n",
       "       Compete Intel_Unknown  Opportunity Sizing_10K to 20K  \\\n",
       "20920                      1                              0   \n",
       "25394                      0                              0   \n",
       "12555                      1                              0   \n",
       "40022                      1                              0   \n",
       "40488                      1                              0   \n",
       "\n",
       "       Opportunity Sizing_20K to 30K  Opportunity Sizing_30K to 40K  \\\n",
       "20920                              0                              0   \n",
       "25394                              0                              0   \n",
       "12555                              0                              1   \n",
       "40022                              0                              1   \n",
       "40488                              0                              1   \n",
       "\n",
       "       Opportunity Sizing_40K to 50K  Opportunity Sizing_50K to 60K  \\\n",
       "20920                              1                              0   \n",
       "25394                              0                              1   \n",
       "12555                              0                              0   \n",
       "40022                              0                              0   \n",
       "40488                              0                              0   \n",
       "\n",
       "       Opportunity Sizing_More than 60K  \n",
       "20920                                 0  \n",
       "25394                                 0  \n",
       "12555                                 0  \n",
       "40022                                 0  \n",
       "40488                                 0  \n",
       "\n",
       "[5 rows x 36 columns]"
      ]
     },
     "execution_count": 72,
     "metadata": {},
     "output_type": "execute_result"
    }
   ],
   "source": [
    "X_train.head()"
   ]
  },
  {
   "cell_type": "code",
   "execution_count": 73,
   "metadata": {
    "execution": {
     "iopub.execute_input": "2020-08-24T13:20:19.428241Z",
     "iopub.status.busy": "2020-08-24T13:20:19.427246Z",
     "iopub.status.idle": "2020-08-24T13:20:19.432175Z",
     "shell.execute_reply": "2020-08-24T13:20:19.431340Z"
    },
    "papermill": {
     "duration": 0.062681,
     "end_time": "2020-08-24T13:20:19.432316",
     "exception": false,
     "start_time": "2020-08-24T13:20:19.369635",
     "status": "completed"
    },
    "tags": []
   },
   "outputs": [
    {
     "data": {
      "text/plain": [
       "(54617, 36)"
      ]
     },
     "execution_count": 73,
     "metadata": {},
     "output_type": "execute_result"
    }
   ],
   "source": [
    "X_train.shape"
   ]
  },
  {
   "cell_type": "code",
   "execution_count": 74,
   "metadata": {
    "execution": {
     "iopub.execute_input": "2020-08-24T13:20:19.551134Z",
     "iopub.status.busy": "2020-08-24T13:20:19.544950Z",
     "iopub.status.idle": "2020-08-24T13:20:19.570031Z",
     "shell.execute_reply": "2020-08-24T13:20:19.569165Z"
    },
    "papermill": {
     "duration": 0.0856,
     "end_time": "2020-08-24T13:20:19.570175",
     "exception": false,
     "start_time": "2020-08-24T13:20:19.484575",
     "status": "completed"
    },
    "tags": []
   },
   "outputs": [
    {
     "data": {
      "text/html": [
       "<div>\n",
       "<style scoped>\n",
       "    .dataframe tbody tr th:only-of-type {\n",
       "        vertical-align: middle;\n",
       "    }\n",
       "\n",
       "    .dataframe tbody tr th {\n",
       "        vertical-align: top;\n",
       "    }\n",
       "\n",
       "    .dataframe thead th {\n",
       "        text-align: right;\n",
       "    }\n",
       "</style>\n",
       "<table border=\"1\" class=\"dataframe\">\n",
       "  <thead>\n",
       "    <tr style=\"text-align: right;\">\n",
       "      <th></th>\n",
       "      <th>Sales Velocity</th>\n",
       "      <th>Sales Stage Iterations</th>\n",
       "      <th>Opportunity Size (USD)</th>\n",
       "      <th>Technology\\nPrimary_ERP Implementation</th>\n",
       "      <th>Technology\\nPrimary_Legacy Modernization</th>\n",
       "      <th>Technology\\nPrimary_Technical Business Solutions</th>\n",
       "      <th>City_Chennai</th>\n",
       "      <th>City_Delhi</th>\n",
       "      <th>City_Hyderabad</th>\n",
       "      <th>City_Kolkata</th>\n",
       "      <th>...</th>\n",
       "      <th>Business from Client Last Year_50,000 - 100,000</th>\n",
       "      <th>Business from Client Last Year_More than 100,000</th>\n",
       "      <th>Compete Intel_None</th>\n",
       "      <th>Compete Intel_Unknown</th>\n",
       "      <th>Opportunity Sizing_10K to 20K</th>\n",
       "      <th>Opportunity Sizing_20K to 30K</th>\n",
       "      <th>Opportunity Sizing_30K to 40K</th>\n",
       "      <th>Opportunity Sizing_40K to 50K</th>\n",
       "      <th>Opportunity Sizing_50K to 60K</th>\n",
       "      <th>Opportunity Sizing_More than 60K</th>\n",
       "    </tr>\n",
       "  </thead>\n",
       "  <tbody>\n",
       "    <tr>\n",
       "      <th>64168</th>\n",
       "      <td>46</td>\n",
       "      <td>3</td>\n",
       "      <td>7917.0</td>\n",
       "      <td>0</td>\n",
       "      <td>0</td>\n",
       "      <td>1</td>\n",
       "      <td>0</td>\n",
       "      <td>0</td>\n",
       "      <td>0</td>\n",
       "      <td>1</td>\n",
       "      <td>...</td>\n",
       "      <td>0</td>\n",
       "      <td>0</td>\n",
       "      <td>1</td>\n",
       "      <td>0</td>\n",
       "      <td>0</td>\n",
       "      <td>0</td>\n",
       "      <td>0</td>\n",
       "      <td>0</td>\n",
       "      <td>0</td>\n",
       "      <td>0</td>\n",
       "    </tr>\n",
       "    <tr>\n",
       "      <th>60072</th>\n",
       "      <td>65</td>\n",
       "      <td>2</td>\n",
       "      <td>10000.0</td>\n",
       "      <td>1</td>\n",
       "      <td>0</td>\n",
       "      <td>0</td>\n",
       "      <td>0</td>\n",
       "      <td>0</td>\n",
       "      <td>1</td>\n",
       "      <td>0</td>\n",
       "      <td>...</td>\n",
       "      <td>1</td>\n",
       "      <td>0</td>\n",
       "      <td>1</td>\n",
       "      <td>0</td>\n",
       "      <td>1</td>\n",
       "      <td>0</td>\n",
       "      <td>0</td>\n",
       "      <td>0</td>\n",
       "      <td>0</td>\n",
       "      <td>0</td>\n",
       "    </tr>\n",
       "    <tr>\n",
       "      <th>7959</th>\n",
       "      <td>88</td>\n",
       "      <td>2</td>\n",
       "      <td>37026.0</td>\n",
       "      <td>0</td>\n",
       "      <td>0</td>\n",
       "      <td>1</td>\n",
       "      <td>0</td>\n",
       "      <td>0</td>\n",
       "      <td>0</td>\n",
       "      <td>0</td>\n",
       "      <td>...</td>\n",
       "      <td>0</td>\n",
       "      <td>0</td>\n",
       "      <td>0</td>\n",
       "      <td>0</td>\n",
       "      <td>0</td>\n",
       "      <td>0</td>\n",
       "      <td>1</td>\n",
       "      <td>0</td>\n",
       "      <td>0</td>\n",
       "      <td>0</td>\n",
       "    </tr>\n",
       "    <tr>\n",
       "      <th>33330</th>\n",
       "      <td>28</td>\n",
       "      <td>5</td>\n",
       "      <td>56424.8</td>\n",
       "      <td>0</td>\n",
       "      <td>0</td>\n",
       "      <td>1</td>\n",
       "      <td>0</td>\n",
       "      <td>0</td>\n",
       "      <td>0</td>\n",
       "      <td>0</td>\n",
       "      <td>...</td>\n",
       "      <td>0</td>\n",
       "      <td>0</td>\n",
       "      <td>0</td>\n",
       "      <td>1</td>\n",
       "      <td>0</td>\n",
       "      <td>0</td>\n",
       "      <td>0</td>\n",
       "      <td>0</td>\n",
       "      <td>0</td>\n",
       "      <td>1</td>\n",
       "    </tr>\n",
       "    <tr>\n",
       "      <th>44742</th>\n",
       "      <td>9</td>\n",
       "      <td>2</td>\n",
       "      <td>25046.0</td>\n",
       "      <td>1</td>\n",
       "      <td>0</td>\n",
       "      <td>0</td>\n",
       "      <td>0</td>\n",
       "      <td>0</td>\n",
       "      <td>0</td>\n",
       "      <td>0</td>\n",
       "      <td>...</td>\n",
       "      <td>0</td>\n",
       "      <td>0</td>\n",
       "      <td>0</td>\n",
       "      <td>1</td>\n",
       "      <td>0</td>\n",
       "      <td>1</td>\n",
       "      <td>0</td>\n",
       "      <td>0</td>\n",
       "      <td>0</td>\n",
       "      <td>0</td>\n",
       "    </tr>\n",
       "  </tbody>\n",
       "</table>\n",
       "<p>5 rows × 36 columns</p>\n",
       "</div>"
      ],
      "text/plain": [
       "       Sales Velocity  Sales Stage Iterations  Opportunity Size (USD)  \\\n",
       "64168              46                       3                  7917.0   \n",
       "60072              65                       2                 10000.0   \n",
       "7959               88                       2                 37026.0   \n",
       "33330              28                       5                 56424.8   \n",
       "44742               9                       2                 25046.0   \n",
       "\n",
       "       Technology\\nPrimary_ERP Implementation  \\\n",
       "64168                                       0   \n",
       "60072                                       1   \n",
       "7959                                        0   \n",
       "33330                                       0   \n",
       "44742                                       1   \n",
       "\n",
       "       Technology\\nPrimary_Legacy Modernization  \\\n",
       "64168                                         0   \n",
       "60072                                         0   \n",
       "7959                                          0   \n",
       "33330                                         0   \n",
       "44742                                         0   \n",
       "\n",
       "       Technology\\nPrimary_Technical Business Solutions  City_Chennai  \\\n",
       "64168                                                 1             0   \n",
       "60072                                                 0             0   \n",
       "7959                                                  1             0   \n",
       "33330                                                 1             0   \n",
       "44742                                                 0             0   \n",
       "\n",
       "       City_Delhi  City_Hyderabad  City_Kolkata  ...  \\\n",
       "64168           0               0             1  ...   \n",
       "60072           0               1             0  ...   \n",
       "7959            0               0             0  ...   \n",
       "33330           0               0             0  ...   \n",
       "44742           0               0             0  ...   \n",
       "\n",
       "       Business from Client Last Year_50,000 - 100,000  \\\n",
       "64168                                                0   \n",
       "60072                                                1   \n",
       "7959                                                 0   \n",
       "33330                                                0   \n",
       "44742                                                0   \n",
       "\n",
       "       Business from Client Last Year_More than 100,000  Compete Intel_None  \\\n",
       "64168                                                 0                   1   \n",
       "60072                                                 0                   1   \n",
       "7959                                                  0                   0   \n",
       "33330                                                 0                   0   \n",
       "44742                                                 0                   0   \n",
       "\n",
       "       Compete Intel_Unknown  Opportunity Sizing_10K to 20K  \\\n",
       "64168                      0                              0   \n",
       "60072                      0                              1   \n",
       "7959                       0                              0   \n",
       "33330                      1                              0   \n",
       "44742                      1                              0   \n",
       "\n",
       "       Opportunity Sizing_20K to 30K  Opportunity Sizing_30K to 40K  \\\n",
       "64168                              0                              0   \n",
       "60072                              0                              0   \n",
       "7959                               0                              1   \n",
       "33330                              0                              0   \n",
       "44742                              1                              0   \n",
       "\n",
       "       Opportunity Sizing_40K to 50K  Opportunity Sizing_50K to 60K  \\\n",
       "64168                              0                              0   \n",
       "60072                              0                              0   \n",
       "7959                               0                              0   \n",
       "33330                              0                              0   \n",
       "44742                              0                              0   \n",
       "\n",
       "       Opportunity Sizing_More than 60K  \n",
       "64168                                 0  \n",
       "60072                                 0  \n",
       "7959                                  0  \n",
       "33330                                 1  \n",
       "44742                                 0  \n",
       "\n",
       "[5 rows x 36 columns]"
      ]
     },
     "execution_count": 74,
     "metadata": {},
     "output_type": "execute_result"
    }
   ],
   "source": [
    "X_test.head()"
   ]
  },
  {
   "cell_type": "code",
   "execution_count": 75,
   "metadata": {
    "execution": {
     "iopub.execute_input": "2020-08-24T13:20:19.682401Z",
     "iopub.status.busy": "2020-08-24T13:20:19.681383Z",
     "iopub.status.idle": "2020-08-24T13:20:19.686631Z",
     "shell.execute_reply": "2020-08-24T13:20:19.685832Z"
    },
    "papermill": {
     "duration": 0.064418,
     "end_time": "2020-08-24T13:20:19.686767",
     "exception": false,
     "start_time": "2020-08-24T13:20:19.622349",
     "status": "completed"
    },
    "tags": []
   },
   "outputs": [
    {
     "data": {
      "text/plain": [
       "(23408, 36)"
      ]
     },
     "execution_count": 75,
     "metadata": {},
     "output_type": "execute_result"
    }
   ],
   "source": [
    "X_test.shape"
   ]
  },
  {
   "cell_type": "code",
   "execution_count": 76,
   "metadata": {
    "execution": {
     "iopub.execute_input": "2020-08-24T13:20:19.800201Z",
     "iopub.status.busy": "2020-08-24T13:20:19.799116Z",
     "iopub.status.idle": "2020-08-24T13:20:19.804034Z",
     "shell.execute_reply": "2020-08-24T13:20:19.803306Z"
    },
    "papermill": {
     "duration": 0.064289,
     "end_time": "2020-08-24T13:20:19.804185",
     "exception": false,
     "start_time": "2020-08-24T13:20:19.739896",
     "status": "completed"
    },
    "tags": []
   },
   "outputs": [
    {
     "data": {
      "text/plain": [
       "20920    0\n",
       "25394    0\n",
       "12555    0\n",
       "40022    0\n",
       "40488    0\n",
       "Name: Opportunity Status, dtype: int64"
      ]
     },
     "execution_count": 76,
     "metadata": {},
     "output_type": "execute_result"
    }
   ],
   "source": [
    "y_train.head()"
   ]
  },
  {
   "cell_type": "code",
   "execution_count": 77,
   "metadata": {
    "execution": {
     "iopub.execute_input": "2020-08-24T13:20:19.917751Z",
     "iopub.status.busy": "2020-08-24T13:20:19.916785Z",
     "iopub.status.idle": "2020-08-24T13:20:19.922047Z",
     "shell.execute_reply": "2020-08-24T13:20:19.921220Z"
    },
    "papermill": {
     "duration": 0.064582,
     "end_time": "2020-08-24T13:20:19.922188",
     "exception": false,
     "start_time": "2020-08-24T13:20:19.857606",
     "status": "completed"
    },
    "tags": []
   },
   "outputs": [
    {
     "data": {
      "text/plain": [
       "(54617,)"
      ]
     },
     "execution_count": 77,
     "metadata": {},
     "output_type": "execute_result"
    }
   ],
   "source": [
    "y_train.shape"
   ]
  },
  {
   "cell_type": "code",
   "execution_count": 78,
   "metadata": {
    "execution": {
     "iopub.execute_input": "2020-08-24T13:20:20.036487Z",
     "iopub.status.busy": "2020-08-24T13:20:20.035255Z",
     "iopub.status.idle": "2020-08-24T13:20:20.043280Z",
     "shell.execute_reply": "2020-08-24T13:20:20.042365Z"
    },
    "papermill": {
     "duration": 0.068318,
     "end_time": "2020-08-24T13:20:20.043444",
     "exception": false,
     "start_time": "2020-08-24T13:20:19.975126",
     "status": "completed"
    },
    "tags": []
   },
   "outputs": [
    {
     "data": {
      "text/plain": [
       "64168    1\n",
       "60072    1\n",
       "7959     0\n",
       "33330    0\n",
       "44742    0\n",
       "Name: Opportunity Status, dtype: int64"
      ]
     },
     "execution_count": 78,
     "metadata": {},
     "output_type": "execute_result"
    }
   ],
   "source": [
    "y_test.head()"
   ]
  },
  {
   "cell_type": "code",
   "execution_count": 79,
   "metadata": {
    "execution": {
     "iopub.execute_input": "2020-08-24T13:20:20.160069Z",
     "iopub.status.busy": "2020-08-24T13:20:20.159073Z",
     "iopub.status.idle": "2020-08-24T13:20:20.164401Z",
     "shell.execute_reply": "2020-08-24T13:20:20.163656Z"
    },
    "papermill": {
     "duration": 0.066408,
     "end_time": "2020-08-24T13:20:20.164548",
     "exception": false,
     "start_time": "2020-08-24T13:20:20.098140",
     "status": "completed"
    },
    "tags": []
   },
   "outputs": [
    {
     "data": {
      "text/plain": [
       "(23408,)"
      ]
     },
     "execution_count": 79,
     "metadata": {},
     "output_type": "execute_result"
    }
   ],
   "source": [
    "y_test.shape"
   ]
  },
  {
   "cell_type": "markdown",
   "execution_count": null,
   "metadata": {
    "papermill": {
     "duration": 0.052208,
     "end_time": "2020-08-24T13:20:20.344497",
     "exception": false,
     "start_time": "2020-08-24T13:20:20.292289",
     "status": "completed"
    },
    "tags": []
   },
   "source": [
    "# Feature Scaling"
   ]
  },
  {
   "cell_type": "code",
   "execution_count": 80,
   "metadata": {
    "execution": {
     "iopub.execute_input": "2020-08-24T13:20:20.460518Z",
     "iopub.status.busy": "2020-08-24T13:20:20.459703Z",
     "iopub.status.idle": "2020-08-24T13:20:20.551669Z",
     "shell.execute_reply": "2020-08-24T13:20:20.550937Z"
    },
    "papermill": {
     "duration": 0.155017,
     "end_time": "2020-08-24T13:20:20.551846",
     "exception": false,
     "start_time": "2020-08-24T13:20:20.396829",
     "status": "completed"
    },
    "tags": []
   },
   "outputs": [
    {
     "name": "stderr",
     "output_type": "stream",
     "text": [
      "/opt/conda/lib/python3.7/site-packages/ipykernel_launcher.py:7: SettingWithCopyWarning: \n",
      "A value is trying to be set on a copy of a slice from a DataFrame.\n",
      "Try using .loc[row_indexer,col_indexer] = value instead\n",
      "\n",
      "See the caveats in the documentation: https://pandas.pydata.org/pandas-docs/stable/user_guide/indexing.html#returning-a-view-versus-a-copy\n",
      "  import sys\n",
      "/opt/conda/lib/python3.7/site-packages/pandas/core/indexing.py:1736: SettingWithCopyWarning: \n",
      "A value is trying to be set on a copy of a slice from a DataFrame.\n",
      "Try using .loc[row_indexer,col_indexer] = value instead\n",
      "\n",
      "See the caveats in the documentation: https://pandas.pydata.org/pandas-docs/stable/user_guide/indexing.html#returning-a-view-versus-a-copy\n",
      "  isetter(loc, value[:, i].tolist())\n"
     ]
    },
    {
     "data": {
      "text/html": [
       "<div>\n",
       "<style scoped>\n",
       "    .dataframe tbody tr th:only-of-type {\n",
       "        vertical-align: middle;\n",
       "    }\n",
       "\n",
       "    .dataframe tbody tr th {\n",
       "        vertical-align: top;\n",
       "    }\n",
       "\n",
       "    .dataframe thead th {\n",
       "        text-align: right;\n",
       "    }\n",
       "</style>\n",
       "<table border=\"1\" class=\"dataframe\">\n",
       "  <thead>\n",
       "    <tr style=\"text-align: right;\">\n",
       "      <th></th>\n",
       "      <th>Sales Velocity</th>\n",
       "      <th>Sales Stage Iterations</th>\n",
       "      <th>Opportunity Size (USD)</th>\n",
       "      <th>Technology\\nPrimary_ERP Implementation</th>\n",
       "      <th>Technology\\nPrimary_Legacy Modernization</th>\n",
       "      <th>Technology\\nPrimary_Technical Business Solutions</th>\n",
       "      <th>City_Chennai</th>\n",
       "      <th>City_Delhi</th>\n",
       "      <th>City_Hyderabad</th>\n",
       "      <th>City_Kolkata</th>\n",
       "      <th>...</th>\n",
       "      <th>Business from Client Last Year_50,000 - 100,000</th>\n",
       "      <th>Business from Client Last Year_More than 100,000</th>\n",
       "      <th>Compete Intel_None</th>\n",
       "      <th>Compete Intel_Unknown</th>\n",
       "      <th>Opportunity Sizing_10K to 20K</th>\n",
       "      <th>Opportunity Sizing_20K to 30K</th>\n",
       "      <th>Opportunity Sizing_30K to 40K</th>\n",
       "      <th>Opportunity Sizing_40K to 50K</th>\n",
       "      <th>Opportunity Sizing_50K to 60K</th>\n",
       "      <th>Opportunity Sizing_More than 60K</th>\n",
       "    </tr>\n",
       "  </thead>\n",
       "  <tbody>\n",
       "    <tr>\n",
       "      <th>20920</th>\n",
       "      <td>0.899865</td>\n",
       "      <td>-0.786970</td>\n",
       "      <td>1.010905</td>\n",
       "      <td>1</td>\n",
       "      <td>0</td>\n",
       "      <td>0</td>\n",
       "      <td>0</td>\n",
       "      <td>0</td>\n",
       "      <td>0</td>\n",
       "      <td>0</td>\n",
       "      <td>...</td>\n",
       "      <td>0</td>\n",
       "      <td>0</td>\n",
       "      <td>0</td>\n",
       "      <td>1</td>\n",
       "      <td>0</td>\n",
       "      <td>0</td>\n",
       "      <td>0</td>\n",
       "      <td>1</td>\n",
       "      <td>0</td>\n",
       "      <td>0</td>\n",
       "    </tr>\n",
       "    <tr>\n",
       "      <th>25394</th>\n",
       "      <td>0.054926</td>\n",
       "      <td>-0.786970</td>\n",
       "      <td>1.645820</td>\n",
       "      <td>0</td>\n",
       "      <td>0</td>\n",
       "      <td>1</td>\n",
       "      <td>0</td>\n",
       "      <td>1</td>\n",
       "      <td>0</td>\n",
       "      <td>0</td>\n",
       "      <td>...</td>\n",
       "      <td>0</td>\n",
       "      <td>0</td>\n",
       "      <td>1</td>\n",
       "      <td>0</td>\n",
       "      <td>0</td>\n",
       "      <td>0</td>\n",
       "      <td>0</td>\n",
       "      <td>0</td>\n",
       "      <td>1</td>\n",
       "      <td>0</td>\n",
       "    </tr>\n",
       "    <tr>\n",
       "      <th>12555</th>\n",
       "      <td>0.093333</td>\n",
       "      <td>0.060733</td>\n",
       "      <td>0.137137</td>\n",
       "      <td>0</td>\n",
       "      <td>0</td>\n",
       "      <td>1</td>\n",
       "      <td>0</td>\n",
       "      <td>0</td>\n",
       "      <td>0</td>\n",
       "      <td>0</td>\n",
       "      <td>...</td>\n",
       "      <td>0</td>\n",
       "      <td>0</td>\n",
       "      <td>0</td>\n",
       "      <td>1</td>\n",
       "      <td>0</td>\n",
       "      <td>0</td>\n",
       "      <td>1</td>\n",
       "      <td>0</td>\n",
       "      <td>0</td>\n",
       "      <td>0</td>\n",
       "    </tr>\n",
       "    <tr>\n",
       "      <th>40022</th>\n",
       "      <td>-1.404513</td>\n",
       "      <td>0.908436</td>\n",
       "      <td>0.163994</td>\n",
       "      <td>0</td>\n",
       "      <td>0</td>\n",
       "      <td>1</td>\n",
       "      <td>0</td>\n",
       "      <td>0</td>\n",
       "      <td>0</td>\n",
       "      <td>0</td>\n",
       "      <td>...</td>\n",
       "      <td>0</td>\n",
       "      <td>0</td>\n",
       "      <td>0</td>\n",
       "      <td>1</td>\n",
       "      <td>0</td>\n",
       "      <td>0</td>\n",
       "      <td>1</td>\n",
       "      <td>0</td>\n",
       "      <td>0</td>\n",
       "      <td>0</td>\n",
       "    </tr>\n",
       "    <tr>\n",
       "      <th>40488</th>\n",
       "      <td>-1.212481</td>\n",
       "      <td>-0.786970</td>\n",
       "      <td>0.609831</td>\n",
       "      <td>0</td>\n",
       "      <td>0</td>\n",
       "      <td>1</td>\n",
       "      <td>0</td>\n",
       "      <td>1</td>\n",
       "      <td>0</td>\n",
       "      <td>0</td>\n",
       "      <td>...</td>\n",
       "      <td>0</td>\n",
       "      <td>0</td>\n",
       "      <td>0</td>\n",
       "      <td>1</td>\n",
       "      <td>0</td>\n",
       "      <td>0</td>\n",
       "      <td>1</td>\n",
       "      <td>0</td>\n",
       "      <td>0</td>\n",
       "      <td>0</td>\n",
       "    </tr>\n",
       "  </tbody>\n",
       "</table>\n",
       "<p>5 rows × 36 columns</p>\n",
       "</div>"
      ],
      "text/plain": [
       "       Sales Velocity  Sales Stage Iterations  Opportunity Size (USD)  \\\n",
       "20920        0.899865               -0.786970                1.010905   \n",
       "25394        0.054926               -0.786970                1.645820   \n",
       "12555        0.093333                0.060733                0.137137   \n",
       "40022       -1.404513                0.908436                0.163994   \n",
       "40488       -1.212481               -0.786970                0.609831   \n",
       "\n",
       "       Technology\\nPrimary_ERP Implementation  \\\n",
       "20920                                       1   \n",
       "25394                                       0   \n",
       "12555                                       0   \n",
       "40022                                       0   \n",
       "40488                                       0   \n",
       "\n",
       "       Technology\\nPrimary_Legacy Modernization  \\\n",
       "20920                                         0   \n",
       "25394                                         0   \n",
       "12555                                         0   \n",
       "40022                                         0   \n",
       "40488                                         0   \n",
       "\n",
       "       Technology\\nPrimary_Technical Business Solutions  City_Chennai  \\\n",
       "20920                                                 0             0   \n",
       "25394                                                 1             0   \n",
       "12555                                                 1             0   \n",
       "40022                                                 1             0   \n",
       "40488                                                 1             0   \n",
       "\n",
       "       City_Delhi  City_Hyderabad  City_Kolkata  ...  \\\n",
       "20920           0               0             0  ...   \n",
       "25394           1               0             0  ...   \n",
       "12555           0               0             0  ...   \n",
       "40022           0               0             0  ...   \n",
       "40488           1               0             0  ...   \n",
       "\n",
       "       Business from Client Last Year_50,000 - 100,000  \\\n",
       "20920                                                0   \n",
       "25394                                                0   \n",
       "12555                                                0   \n",
       "40022                                                0   \n",
       "40488                                                0   \n",
       "\n",
       "       Business from Client Last Year_More than 100,000  Compete Intel_None  \\\n",
       "20920                                                 0                   0   \n",
       "25394                                                 0                   1   \n",
       "12555                                                 0                   0   \n",
       "40022                                                 0                   0   \n",
       "40488                                                 0                   0   \n",
       "\n",
       "       Compete Intel_Unknown  Opportunity Sizing_10K to 20K  \\\n",
       "20920                      1                              0   \n",
       "25394                      0                              0   \n",
       "12555                      1                              0   \n",
       "40022                      1                              0   \n",
       "40488                      1                              0   \n",
       "\n",
       "       Opportunity Sizing_20K to 30K  Opportunity Sizing_30K to 40K  \\\n",
       "20920                              0                              0   \n",
       "25394                              0                              0   \n",
       "12555                              0                              1   \n",
       "40022                              0                              1   \n",
       "40488                              0                              1   \n",
       "\n",
       "       Opportunity Sizing_40K to 50K  Opportunity Sizing_50K to 60K  \\\n",
       "20920                              1                              0   \n",
       "25394                              0                              1   \n",
       "12555                              0                              0   \n",
       "40022                              0                              0   \n",
       "40488                              0                              0   \n",
       "\n",
       "       Opportunity Sizing_More than 60K  \n",
       "20920                                 0  \n",
       "25394                                 0  \n",
       "12555                                 0  \n",
       "40022                                 0  \n",
       "40488                                 0  \n",
       "\n",
       "[5 rows x 36 columns]"
      ]
     },
     "execution_count": 80,
     "metadata": {},
     "output_type": "execute_result"
    }
   ],
   "source": [
    "from sklearn.preprocessing import StandardScaler\n",
    "\n",
    "scaler = StandardScaler()\n",
    "\n",
    "X_train[['Sales Velocity','Sales Stage Iterations',\n",
    "         'Opportunity Size (USD)']] = scaler.fit_transform(X_train[['Sales Velocity','Sales Stage Iterations',\n",
    "                                                                    'Opportunity Size (USD)']])\n",
    "\n",
    "X_train.head()"
   ]
  },
  {
   "cell_type": "code",
   "execution_count": 81,
   "metadata": {
    "execution": {
     "iopub.execute_input": "2020-08-24T13:20:20.669249Z",
     "iopub.status.busy": "2020-08-24T13:20:20.668301Z",
     "iopub.status.idle": "2020-08-24T13:20:20.721754Z",
     "shell.execute_reply": "2020-08-24T13:20:20.721065Z"
    },
    "papermill": {
     "duration": 0.116613,
     "end_time": "2020-08-24T13:20:20.721900",
     "exception": false,
     "start_time": "2020-08-24T13:20:20.605287",
     "status": "completed"
    },
    "tags": []
   },
   "outputs": [
    {
     "name": "stderr",
     "output_type": "stream",
     "text": [
      "/opt/conda/lib/python3.7/site-packages/ipykernel_launcher.py:3: SettingWithCopyWarning: \n",
      "A value is trying to be set on a copy of a slice from a DataFrame.\n",
      "Try using .loc[row_indexer,col_indexer] = value instead\n",
      "\n",
      "See the caveats in the documentation: https://pandas.pydata.org/pandas-docs/stable/user_guide/indexing.html#returning-a-view-versus-a-copy\n",
      "  This is separate from the ipykernel package so we can avoid doing imports until\n",
      "/opt/conda/lib/python3.7/site-packages/pandas/core/indexing.py:1736: SettingWithCopyWarning: \n",
      "A value is trying to be set on a copy of a slice from a DataFrame.\n",
      "Try using .loc[row_indexer,col_indexer] = value instead\n",
      "\n",
      "See the caveats in the documentation: https://pandas.pydata.org/pandas-docs/stable/user_guide/indexing.html#returning-a-view-versus-a-copy\n",
      "  isetter(loc, value[:, i].tolist())\n"
     ]
    },
    {
     "data": {
      "text/html": [
       "<div>\n",
       "<style scoped>\n",
       "    .dataframe tbody tr th:only-of-type {\n",
       "        vertical-align: middle;\n",
       "    }\n",
       "\n",
       "    .dataframe tbody tr th {\n",
       "        vertical-align: top;\n",
       "    }\n",
       "\n",
       "    .dataframe thead th {\n",
       "        text-align: right;\n",
       "    }\n",
       "</style>\n",
       "<table border=\"1\" class=\"dataframe\">\n",
       "  <thead>\n",
       "    <tr style=\"text-align: right;\">\n",
       "      <th></th>\n",
       "      <th>Sales Velocity</th>\n",
       "      <th>Sales Stage Iterations</th>\n",
       "      <th>Opportunity Size (USD)</th>\n",
       "      <th>Technology\\nPrimary_ERP Implementation</th>\n",
       "      <th>Technology\\nPrimary_Legacy Modernization</th>\n",
       "      <th>Technology\\nPrimary_Technical Business Solutions</th>\n",
       "      <th>City_Chennai</th>\n",
       "      <th>City_Delhi</th>\n",
       "      <th>City_Hyderabad</th>\n",
       "      <th>City_Kolkata</th>\n",
       "      <th>...</th>\n",
       "      <th>Business from Client Last Year_50,000 - 100,000</th>\n",
       "      <th>Business from Client Last Year_More than 100,000</th>\n",
       "      <th>Compete Intel_None</th>\n",
       "      <th>Compete Intel_Unknown</th>\n",
       "      <th>Opportunity Sizing_10K to 20K</th>\n",
       "      <th>Opportunity Sizing_20K to 30K</th>\n",
       "      <th>Opportunity Sizing_30K to 40K</th>\n",
       "      <th>Opportunity Sizing_40K to 50K</th>\n",
       "      <th>Opportunity Sizing_50K to 60K</th>\n",
       "      <th>Opportunity Sizing_More than 60K</th>\n",
       "    </tr>\n",
       "  </thead>\n",
       "  <tbody>\n",
       "    <tr>\n",
       "      <th>64168</th>\n",
       "      <td>0.093333</td>\n",
       "      <td>0.060733</td>\n",
       "      <td>-1.242391</td>\n",
       "      <td>0</td>\n",
       "      <td>0</td>\n",
       "      <td>1</td>\n",
       "      <td>0</td>\n",
       "      <td>0</td>\n",
       "      <td>0</td>\n",
       "      <td>1</td>\n",
       "      <td>...</td>\n",
       "      <td>0</td>\n",
       "      <td>0</td>\n",
       "      <td>1</td>\n",
       "      <td>0</td>\n",
       "      <td>0</td>\n",
       "      <td>0</td>\n",
       "      <td>0</td>\n",
       "      <td>0</td>\n",
       "      <td>0</td>\n",
       "      <td>0</td>\n",
       "    </tr>\n",
       "    <tr>\n",
       "      <th>60072</th>\n",
       "      <td>0.823052</td>\n",
       "      <td>-0.786970</td>\n",
       "      <td>-1.118070</td>\n",
       "      <td>1</td>\n",
       "      <td>0</td>\n",
       "      <td>0</td>\n",
       "      <td>0</td>\n",
       "      <td>0</td>\n",
       "      <td>1</td>\n",
       "      <td>0</td>\n",
       "      <td>...</td>\n",
       "      <td>1</td>\n",
       "      <td>0</td>\n",
       "      <td>1</td>\n",
       "      <td>0</td>\n",
       "      <td>1</td>\n",
       "      <td>0</td>\n",
       "      <td>0</td>\n",
       "      <td>0</td>\n",
       "      <td>0</td>\n",
       "      <td>0</td>\n",
       "    </tr>\n",
       "    <tr>\n",
       "      <th>7959</th>\n",
       "      <td>1.706397</td>\n",
       "      <td>-0.786970</td>\n",
       "      <td>0.494940</td>\n",
       "      <td>0</td>\n",
       "      <td>0</td>\n",
       "      <td>1</td>\n",
       "      <td>0</td>\n",
       "      <td>0</td>\n",
       "      <td>0</td>\n",
       "      <td>0</td>\n",
       "      <td>...</td>\n",
       "      <td>0</td>\n",
       "      <td>0</td>\n",
       "      <td>0</td>\n",
       "      <td>0</td>\n",
       "      <td>0</td>\n",
       "      <td>0</td>\n",
       "      <td>1</td>\n",
       "      <td>0</td>\n",
       "      <td>0</td>\n",
       "      <td>0</td>\n",
       "    </tr>\n",
       "    <tr>\n",
       "      <th>33330</th>\n",
       "      <td>-0.597981</td>\n",
       "      <td>1.756140</td>\n",
       "      <td>1.652731</td>\n",
       "      <td>0</td>\n",
       "      <td>0</td>\n",
       "      <td>1</td>\n",
       "      <td>0</td>\n",
       "      <td>0</td>\n",
       "      <td>0</td>\n",
       "      <td>0</td>\n",
       "      <td>...</td>\n",
       "      <td>0</td>\n",
       "      <td>0</td>\n",
       "      <td>0</td>\n",
       "      <td>1</td>\n",
       "      <td>0</td>\n",
       "      <td>0</td>\n",
       "      <td>0</td>\n",
       "      <td>0</td>\n",
       "      <td>0</td>\n",
       "      <td>1</td>\n",
       "    </tr>\n",
       "    <tr>\n",
       "      <th>44742</th>\n",
       "      <td>-1.327700</td>\n",
       "      <td>-0.786970</td>\n",
       "      <td>-0.220070</td>\n",
       "      <td>1</td>\n",
       "      <td>0</td>\n",
       "      <td>0</td>\n",
       "      <td>0</td>\n",
       "      <td>0</td>\n",
       "      <td>0</td>\n",
       "      <td>0</td>\n",
       "      <td>...</td>\n",
       "      <td>0</td>\n",
       "      <td>0</td>\n",
       "      <td>0</td>\n",
       "      <td>1</td>\n",
       "      <td>0</td>\n",
       "      <td>1</td>\n",
       "      <td>0</td>\n",
       "      <td>0</td>\n",
       "      <td>0</td>\n",
       "      <td>0</td>\n",
       "    </tr>\n",
       "  </tbody>\n",
       "</table>\n",
       "<p>5 rows × 36 columns</p>\n",
       "</div>"
      ],
      "text/plain": [
       "       Sales Velocity  Sales Stage Iterations  Opportunity Size (USD)  \\\n",
       "64168        0.093333                0.060733               -1.242391   \n",
       "60072        0.823052               -0.786970               -1.118070   \n",
       "7959         1.706397               -0.786970                0.494940   \n",
       "33330       -0.597981                1.756140                1.652731   \n",
       "44742       -1.327700               -0.786970               -0.220070   \n",
       "\n",
       "       Technology\\nPrimary_ERP Implementation  \\\n",
       "64168                                       0   \n",
       "60072                                       1   \n",
       "7959                                        0   \n",
       "33330                                       0   \n",
       "44742                                       1   \n",
       "\n",
       "       Technology\\nPrimary_Legacy Modernization  \\\n",
       "64168                                         0   \n",
       "60072                                         0   \n",
       "7959                                          0   \n",
       "33330                                         0   \n",
       "44742                                         0   \n",
       "\n",
       "       Technology\\nPrimary_Technical Business Solutions  City_Chennai  \\\n",
       "64168                                                 1             0   \n",
       "60072                                                 0             0   \n",
       "7959                                                  1             0   \n",
       "33330                                                 1             0   \n",
       "44742                                                 0             0   \n",
       "\n",
       "       City_Delhi  City_Hyderabad  City_Kolkata  ...  \\\n",
       "64168           0               0             1  ...   \n",
       "60072           0               1             0  ...   \n",
       "7959            0               0             0  ...   \n",
       "33330           0               0             0  ...   \n",
       "44742           0               0             0  ...   \n",
       "\n",
       "       Business from Client Last Year_50,000 - 100,000  \\\n",
       "64168                                                0   \n",
       "60072                                                1   \n",
       "7959                                                 0   \n",
       "33330                                                0   \n",
       "44742                                                0   \n",
       "\n",
       "       Business from Client Last Year_More than 100,000  Compete Intel_None  \\\n",
       "64168                                                 0                   1   \n",
       "60072                                                 0                   1   \n",
       "7959                                                  0                   0   \n",
       "33330                                                 0                   0   \n",
       "44742                                                 0                   0   \n",
       "\n",
       "       Compete Intel_Unknown  Opportunity Sizing_10K to 20K  \\\n",
       "64168                      0                              0   \n",
       "60072                      0                              1   \n",
       "7959                       0                              0   \n",
       "33330                      1                              0   \n",
       "44742                      1                              0   \n",
       "\n",
       "       Opportunity Sizing_20K to 30K  Opportunity Sizing_30K to 40K  \\\n",
       "64168                              0                              0   \n",
       "60072                              0                              0   \n",
       "7959                               0                              1   \n",
       "33330                              0                              0   \n",
       "44742                              1                              0   \n",
       "\n",
       "       Opportunity Sizing_40K to 50K  Opportunity Sizing_50K to 60K  \\\n",
       "64168                              0                              0   \n",
       "60072                              0                              0   \n",
       "7959                               0                              0   \n",
       "33330                              0                              0   \n",
       "44742                              0                              0   \n",
       "\n",
       "       Opportunity Sizing_More than 60K  \n",
       "64168                                 0  \n",
       "60072                                 0  \n",
       "7959                                  0  \n",
       "33330                                 1  \n",
       "44742                                 0  \n",
       "\n",
       "[5 rows x 36 columns]"
      ]
     },
     "execution_count": 81,
     "metadata": {},
     "output_type": "execute_result"
    }
   ],
   "source": [
    "X_test[['Sales Velocity','Sales Stage Iterations',\n",
    "         'Opportunity Size (USD)']] = scaler.transform(X_test[['Sales Velocity','Sales Stage Iterations',\n",
    "                                                               'Opportunity Size (USD)']])\n",
    "\n",
    "X_test.head()"
   ]
  },
  {
   "cell_type": "code",
   "execution_count": 82,
   "metadata": {
    "execution": {
     "iopub.execute_input": "2020-08-24T13:20:20.849985Z",
     "iopub.status.busy": "2020-08-24T13:20:20.848911Z",
     "iopub.status.idle": "2020-08-24T13:20:20.854536Z",
     "shell.execute_reply": "2020-08-24T13:20:20.853683Z"
    },
    "papermill": {
     "duration": 0.078925,
     "end_time": "2020-08-24T13:20:20.854754",
     "exception": false,
     "start_time": "2020-08-24T13:20:20.775829",
     "status": "completed"
    },
    "tags": []
   },
   "outputs": [
    {
     "name": "stdout",
     "output_type": "stream",
     "text": [
      "We have almost 22.59 %  Opportunity rate after successful data manipulation\n"
     ]
    }
   ],
   "source": [
    "# Checking the Opportunity Status Rate\n",
    "Opportunity = round((sum(df['Opportunity Status'])/len(df['Opportunity Status'].index))*100,2)\n",
    "print(\"We have almost {} %  Opportunity rate after successful data manipulation\".format(Opportunity))"
   ]
  },
  {
   "cell_type": "markdown",
   "execution_count": null,
   "metadata": {
    "papermill": {
     "duration": 0.052836,
     "end_time": "2020-08-24T13:20:20.962195",
     "exception": false,
     "start_time": "2020-08-24T13:20:20.909359",
     "status": "completed"
    },
    "tags": []
   },
   "source": [
    "# Model Building"
   ]
  },
  {
   "cell_type": "markdown",
   "execution_count": null,
   "metadata": {
    "papermill": {
     "duration": 0.054114,
     "end_time": "2020-08-24T13:20:21.070769",
     "exception": false,
     "start_time": "2020-08-24T13:20:21.016655",
     "status": "completed"
    },
    "tags": []
   },
   "source": [
    "## Decision Tree"
   ]
  },
  {
   "cell_type": "markdown",
   "execution_count": null,
   "metadata": {
    "papermill": {
     "duration": 0.053553,
     "end_time": "2020-08-24T13:20:21.179459",
     "exception": false,
     "start_time": "2020-08-24T13:20:21.125906",
     "status": "completed"
    },
    "tags": []
   },
   "source": [
    "It is a type of supervised learning algorithm that is mostly used for classification problems. Surprisingly, it works for both categorical and continuous dependent variables. In this algorithm, we split the population into two or more homogeneous sets. This is done based on most significant attributes/ independent variables to make as distinct groups as possible."
   ]
  },
  {
   "cell_type": "code",
   "execution_count": 83,
   "metadata": {
    "execution": {
     "iopub.execute_input": "2020-08-24T13:20:21.294224Z",
     "iopub.status.busy": "2020-08-24T13:20:21.293373Z",
     "iopub.status.idle": "2020-08-24T13:20:21.487483Z",
     "shell.execute_reply": "2020-08-24T13:20:21.486653Z"
    },
    "papermill": {
     "duration": 0.253133,
     "end_time": "2020-08-24T13:20:21.487654",
     "exception": false,
     "start_time": "2020-08-24T13:20:21.234521",
     "status": "completed"
    },
    "tags": []
   },
   "outputs": [],
   "source": [
    "from sklearn.tree import DecisionTreeClassifier\n",
    "from sklearn.metrics import accuracy_score\n",
    "model = DecisionTreeClassifier()"
   ]
  },
  {
   "cell_type": "code",
   "execution_count": 84,
   "metadata": {
    "execution": {
     "iopub.execute_input": "2020-08-24T13:20:21.650954Z",
     "iopub.status.busy": "2020-08-24T13:20:21.650090Z",
     "iopub.status.idle": "2020-08-24T13:20:22.242137Z",
     "shell.execute_reply": "2020-08-24T13:20:22.241025Z"
    },
    "papermill": {
     "duration": 0.700722,
     "end_time": "2020-08-24T13:20:22.242346",
     "exception": false,
     "start_time": "2020-08-24T13:20:21.541624",
     "status": "completed"
    },
    "tags": []
   },
   "outputs": [
    {
     "data": {
      "text/plain": [
       "DecisionTreeClassifier()"
      ]
     },
     "execution_count": 84,
     "metadata": {},
     "output_type": "execute_result"
    }
   ],
   "source": [
    "# fit the model with the training data\n",
    "model.fit(X_train,y_train)"
   ]
  },
  {
   "cell_type": "code",
   "execution_count": 85,
   "metadata": {
    "execution": {
     "iopub.execute_input": "2020-08-24T13:20:22.398381Z",
     "iopub.status.busy": "2020-08-24T13:20:22.396781Z",
     "iopub.status.idle": "2020-08-24T13:20:22.425026Z",
     "shell.execute_reply": "2020-08-24T13:20:22.424348Z"
    },
    "papermill": {
     "duration": 0.108969,
     "end_time": "2020-08-24T13:20:22.425173",
     "exception": false,
     "start_time": "2020-08-24T13:20:22.316204",
     "status": "completed"
    },
    "tags": []
   },
   "outputs": [
    {
     "data": {
      "text/plain": [
       "array([0, 0, 0, ..., 0, 0, 1])"
      ]
     },
     "execution_count": 85,
     "metadata": {},
     "output_type": "execute_result"
    }
   ],
   "source": [
    "# predict the target on the train dataset\n",
    "predict_train = model.predict(X_train)\n",
    "predict_train"
   ]
  },
  {
   "cell_type": "code",
   "execution_count": 86,
   "metadata": {
    "execution": {
     "iopub.execute_input": "2020-08-24T13:20:22.540461Z",
     "iopub.status.busy": "2020-08-24T13:20:22.539620Z",
     "iopub.status.idle": "2020-08-24T13:20:22.550990Z",
     "shell.execute_reply": "2020-08-24T13:20:22.550086Z"
    },
    "papermill": {
     "duration": 0.072033,
     "end_time": "2020-08-24T13:20:22.551145",
     "exception": false,
     "start_time": "2020-08-24T13:20:22.479112",
     "status": "completed"
    },
    "tags": []
   },
   "outputs": [
    {
     "name": "stdout",
     "output_type": "stream",
     "text": [
      "accuracy_score on train dataset :  0.996777560100335\n"
     ]
    }
   ],
   "source": [
    "trainaccuracy = accuracy_score(y_train,predict_train)\n",
    "print('accuracy_score on train dataset : ', trainaccuracy)"
   ]
  },
  {
   "cell_type": "markdown",
   "execution_count": null,
   "metadata": {
    "papermill": {
     "duration": 0.05366,
     "end_time": "2020-08-24T13:20:22.658483",
     "exception": false,
     "start_time": "2020-08-24T13:20:22.604823",
     "status": "completed"
    },
    "tags": []
   },
   "source": [
    "# VIF"
   ]
  },
  {
   "cell_type": "code",
   "execution_count": 87,
   "metadata": {
    "execution": {
     "iopub.execute_input": "2020-08-24T13:20:22.776797Z",
     "iopub.status.busy": "2020-08-24T13:20:22.775722Z",
     "iopub.status.idle": "2020-08-24T13:20:26.612748Z",
     "shell.execute_reply": "2020-08-24T13:20:26.611922Z"
    },
    "papermill": {
     "duration": 3.900498,
     "end_time": "2020-08-24T13:20:26.612894",
     "exception": false,
     "start_time": "2020-08-24T13:20:22.712396",
     "status": "completed"
    },
    "tags": []
   },
   "outputs": [
    {
     "data": {
      "text/html": [
       "<div>\n",
       "<style scoped>\n",
       "    .dataframe tbody tr th:only-of-type {\n",
       "        vertical-align: middle;\n",
       "    }\n",
       "\n",
       "    .dataframe tbody tr th {\n",
       "        vertical-align: top;\n",
       "    }\n",
       "\n",
       "    .dataframe thead th {\n",
       "        text-align: right;\n",
       "    }\n",
       "</style>\n",
       "<table border=\"1\" class=\"dataframe\">\n",
       "  <thead>\n",
       "    <tr style=\"text-align: right;\">\n",
       "      <th></th>\n",
       "      <th>Features</th>\n",
       "      <th>VIF</th>\n",
       "    </tr>\n",
       "  </thead>\n",
       "  <tbody>\n",
       "    <tr>\n",
       "      <th>3</th>\n",
       "      <td>Technology\\nPrimary_ERP Implementation</td>\n",
       "      <td>54.68</td>\n",
       "    </tr>\n",
       "    <tr>\n",
       "      <th>33</th>\n",
       "      <td>Opportunity Sizing_40K to 50K</td>\n",
       "      <td>42.78</td>\n",
       "    </tr>\n",
       "    <tr>\n",
       "      <th>5</th>\n",
       "      <td>Technology\\nPrimary_Technical Business Solutions</td>\n",
       "      <td>30.72</td>\n",
       "    </tr>\n",
       "    <tr>\n",
       "      <th>2</th>\n",
       "      <td>Opportunity Size (USD)</td>\n",
       "      <td>29.22</td>\n",
       "    </tr>\n",
       "    <tr>\n",
       "      <th>32</th>\n",
       "      <td>Opportunity Sizing_30K to 40K</td>\n",
       "      <td>19.11</td>\n",
       "    </tr>\n",
       "    <tr>\n",
       "      <th>34</th>\n",
       "      <td>Opportunity Sizing_50K to 60K</td>\n",
       "      <td>18.11</td>\n",
       "    </tr>\n",
       "    <tr>\n",
       "      <th>20</th>\n",
       "      <td>Client Employee Sizing_1K or less</td>\n",
       "      <td>17.36</td>\n",
       "    </tr>\n",
       "    <tr>\n",
       "      <th>35</th>\n",
       "      <td>Opportunity Sizing_More than 60K</td>\n",
       "      <td>9.33</td>\n",
       "    </tr>\n",
       "    <tr>\n",
       "      <th>31</th>\n",
       "      <td>Opportunity Sizing_20K to 30K</td>\n",
       "      <td>8.86</td>\n",
       "    </tr>\n",
       "    <tr>\n",
       "      <th>29</th>\n",
       "      <td>Compete Intel_Unknown</td>\n",
       "      <td>6.40</td>\n",
       "    </tr>\n",
       "    <tr>\n",
       "      <th>30</th>\n",
       "      <td>Opportunity Sizing_10K to 20K</td>\n",
       "      <td>4.03</td>\n",
       "    </tr>\n",
       "    <tr>\n",
       "      <th>10</th>\n",
       "      <td>City_Mumbai</td>\n",
       "      <td>3.20</td>\n",
       "    </tr>\n",
       "    <tr>\n",
       "      <th>7</th>\n",
       "      <td>City_Delhi</td>\n",
       "      <td>2.73</td>\n",
       "    </tr>\n",
       "    <tr>\n",
       "      <th>12</th>\n",
       "      <td>B2B Sales Medium_Marketing</td>\n",
       "      <td>2.61</td>\n",
       "    </tr>\n",
       "    <tr>\n",
       "      <th>23</th>\n",
       "      <td>Client Employee Sizing_More than 25K</td>\n",
       "      <td>2.20</td>\n",
       "    </tr>\n",
       "    <tr>\n",
       "      <th>22</th>\n",
       "      <td>Client Employee Sizing_5K to 15K</td>\n",
       "      <td>2.16</td>\n",
       "    </tr>\n",
       "    <tr>\n",
       "      <th>21</th>\n",
       "      <td>Client Employee Sizing_1K to 5K</td>\n",
       "      <td>2.08</td>\n",
       "    </tr>\n",
       "    <tr>\n",
       "      <th>8</th>\n",
       "      <td>City_Hyderabad</td>\n",
       "      <td>1.99</td>\n",
       "    </tr>\n",
       "    <tr>\n",
       "      <th>28</th>\n",
       "      <td>Compete Intel_None</td>\n",
       "      <td>1.92</td>\n",
       "    </tr>\n",
       "    <tr>\n",
       "      <th>11</th>\n",
       "      <td>City_Pune</td>\n",
       "      <td>1.88</td>\n",
       "    </tr>\n",
       "    <tr>\n",
       "      <th>6</th>\n",
       "      <td>City_Chennai</td>\n",
       "      <td>1.81</td>\n",
       "    </tr>\n",
       "    <tr>\n",
       "      <th>9</th>\n",
       "      <td>City_Kolkata</td>\n",
       "      <td>1.78</td>\n",
       "    </tr>\n",
       "    <tr>\n",
       "      <th>4</th>\n",
       "      <td>Technology\\nPrimary_Legacy Modernization</td>\n",
       "      <td>1.68</td>\n",
       "    </tr>\n",
       "    <tr>\n",
       "      <th>17</th>\n",
       "      <td>Client Revenue Sizing_250K to 500K</td>\n",
       "      <td>1.39</td>\n",
       "    </tr>\n",
       "    <tr>\n",
       "      <th>19</th>\n",
       "      <td>Client Revenue Sizing_More than 1M</td>\n",
       "      <td>1.36</td>\n",
       "    </tr>\n",
       "    <tr>\n",
       "      <th>18</th>\n",
       "      <td>Client Revenue Sizing_500K to 1M</td>\n",
       "      <td>1.35</td>\n",
       "    </tr>\n",
       "    <tr>\n",
       "      <th>0</th>\n",
       "      <td>Sales Velocity</td>\n",
       "      <td>1.34</td>\n",
       "    </tr>\n",
       "    <tr>\n",
       "      <th>16</th>\n",
       "      <td>Client Revenue Sizing_100K to 250K</td>\n",
       "      <td>1.22</td>\n",
       "    </tr>\n",
       "    <tr>\n",
       "      <th>14</th>\n",
       "      <td>B2B Sales Medium_Partners</td>\n",
       "      <td>1.18</td>\n",
       "    </tr>\n",
       "    <tr>\n",
       "      <th>15</th>\n",
       "      <td>B2B Sales Medium_Tele Sales</td>\n",
       "      <td>1.12</td>\n",
       "    </tr>\n",
       "    <tr>\n",
       "      <th>1</th>\n",
       "      <td>Sales Stage Iterations</td>\n",
       "      <td>1.09</td>\n",
       "    </tr>\n",
       "    <tr>\n",
       "      <th>27</th>\n",
       "      <td>Business from Client Last Year_More than 100,000</td>\n",
       "      <td>1.08</td>\n",
       "    </tr>\n",
       "    <tr>\n",
       "      <th>26</th>\n",
       "      <td>Business from Client Last Year_50,000 - 100,000</td>\n",
       "      <td>1.04</td>\n",
       "    </tr>\n",
       "    <tr>\n",
       "      <th>25</th>\n",
       "      <td>Business from Client Last Year_25,000 - 50,000</td>\n",
       "      <td>1.04</td>\n",
       "    </tr>\n",
       "    <tr>\n",
       "      <th>24</th>\n",
       "      <td>Business from Client Last Year_0 - 25,000</td>\n",
       "      <td>1.04</td>\n",
       "    </tr>\n",
       "    <tr>\n",
       "      <th>13</th>\n",
       "      <td>B2B Sales Medium_Online Leads</td>\n",
       "      <td>1.03</td>\n",
       "    </tr>\n",
       "  </tbody>\n",
       "</table>\n",
       "</div>"
      ],
      "text/plain": [
       "                                            Features    VIF\n",
       "3             Technology\\nPrimary_ERP Implementation  54.68\n",
       "33                     Opportunity Sizing_40K to 50K  42.78\n",
       "5   Technology\\nPrimary_Technical Business Solutions  30.72\n",
       "2                             Opportunity Size (USD)  29.22\n",
       "32                     Opportunity Sizing_30K to 40K  19.11\n",
       "34                     Opportunity Sizing_50K to 60K  18.11\n",
       "20                 Client Employee Sizing_1K or less  17.36\n",
       "35                  Opportunity Sizing_More than 60K   9.33\n",
       "31                     Opportunity Sizing_20K to 30K   8.86\n",
       "29                             Compete Intel_Unknown   6.40\n",
       "30                     Opportunity Sizing_10K to 20K   4.03\n",
       "10                                       City_Mumbai   3.20\n",
       "7                                         City_Delhi   2.73\n",
       "12                        B2B Sales Medium_Marketing   2.61\n",
       "23              Client Employee Sizing_More than 25K   2.20\n",
       "22                  Client Employee Sizing_5K to 15K   2.16\n",
       "21                   Client Employee Sizing_1K to 5K   2.08\n",
       "8                                     City_Hyderabad   1.99\n",
       "28                                Compete Intel_None   1.92\n",
       "11                                         City_Pune   1.88\n",
       "6                                       City_Chennai   1.81\n",
       "9                                       City_Kolkata   1.78\n",
       "4           Technology\\nPrimary_Legacy Modernization   1.68\n",
       "17                Client Revenue Sizing_250K to 500K   1.39\n",
       "19                Client Revenue Sizing_More than 1M   1.36\n",
       "18                  Client Revenue Sizing_500K to 1M   1.35\n",
       "0                                     Sales Velocity   1.34\n",
       "16                Client Revenue Sizing_100K to 250K   1.22\n",
       "14                         B2B Sales Medium_Partners   1.18\n",
       "15                       B2B Sales Medium_Tele Sales   1.12\n",
       "1                             Sales Stage Iterations   1.09\n",
       "27  Business from Client Last Year_More than 100,000   1.08\n",
       "26   Business from Client Last Year_50,000 - 100,000   1.04\n",
       "25    Business from Client Last Year_25,000 - 50,000   1.04\n",
       "24         Business from Client Last Year_0 - 25,000   1.04\n",
       "13                     B2B Sales Medium_Online Leads   1.03"
      ]
     },
     "execution_count": 87,
     "metadata": {},
     "output_type": "execute_result"
    }
   ],
   "source": [
    "# Check for the VIF values of the feature variables. \n",
    "from statsmodels.stats.outliers_influence import variance_inflation_factor\n",
    "# Create a dataframe that will contain the names of all the feature variables and their respective VIFs\n",
    "vif = pd.DataFrame()\n",
    "vif['Features'] = X_train.columns\n",
    "vif['VIF'] = [variance_inflation_factor(X_train.values, i) for i in range(X_train.shape[1])]\n",
    "vif['VIF'] = round(vif['VIF'], 2)\n",
    "vif = vif.sort_values(by = \"VIF\", ascending = False)\n",
    "vif"
   ]
  },
  {
   "cell_type": "code",
   "execution_count": 88,
   "metadata": {
    "execution": {
     "iopub.execute_input": "2020-08-24T13:20:26.731266Z",
     "iopub.status.busy": "2020-08-24T13:20:26.730229Z",
     "iopub.status.idle": "2020-08-24T13:20:26.735210Z",
     "shell.execute_reply": "2020-08-24T13:20:26.735872Z"
    },
    "papermill": {
     "duration": 0.068947,
     "end_time": "2020-08-24T13:20:26.736054",
     "exception": false,
     "start_time": "2020-08-24T13:20:26.667107",
     "status": "completed"
    },
    "tags": []
   },
   "outputs": [
    {
     "name": "stdout",
     "output_type": "stream",
     "text": [
      "['Technology\\nPrimary_ERP Implementation', 'Opportunity Sizing_40K to 50K', 'Technology\\nPrimary_Technical Business Solutions', 'Opportunity Size (USD)', 'Opportunity Sizing_30K to 40K', 'Opportunity Sizing_50K to 60K', 'Client Employee Sizing_1K or less', 'Opportunity Sizing_More than 60K', 'Opportunity Sizing_20K to 30K', 'Compete Intel_Unknown']\n"
     ]
    }
   ],
   "source": [
    "features_to_remove = vif.loc[vif['VIF'] >= 4.99,'Features'].values\n",
    "features_to_remove = list(features_to_remove)\n",
    "print(features_to_remove)"
   ]
  },
  {
   "cell_type": "code",
   "execution_count": 89,
   "metadata": {
    "execution": {
     "iopub.execute_input": "2020-08-24T13:20:26.852368Z",
     "iopub.status.busy": "2020-08-24T13:20:26.851472Z",
     "iopub.status.idle": "2020-08-24T13:20:26.876829Z",
     "shell.execute_reply": "2020-08-24T13:20:26.875999Z"
    },
    "papermill": {
     "duration": 0.086524,
     "end_time": "2020-08-24T13:20:26.876963",
     "exception": false,
     "start_time": "2020-08-24T13:20:26.790439",
     "status": "completed"
    },
    "tags": []
   },
   "outputs": [
    {
     "data": {
      "text/html": [
       "<div>\n",
       "<style scoped>\n",
       "    .dataframe tbody tr th:only-of-type {\n",
       "        vertical-align: middle;\n",
       "    }\n",
       "\n",
       "    .dataframe tbody tr th {\n",
       "        vertical-align: top;\n",
       "    }\n",
       "\n",
       "    .dataframe thead th {\n",
       "        text-align: right;\n",
       "    }\n",
       "</style>\n",
       "<table border=\"1\" class=\"dataframe\">\n",
       "  <thead>\n",
       "    <tr style=\"text-align: right;\">\n",
       "      <th></th>\n",
       "      <th>Sales Velocity</th>\n",
       "      <th>Sales Stage Iterations</th>\n",
       "      <th>Technology\\nPrimary_Legacy Modernization</th>\n",
       "      <th>City_Chennai</th>\n",
       "      <th>City_Delhi</th>\n",
       "      <th>City_Hyderabad</th>\n",
       "      <th>City_Kolkata</th>\n",
       "      <th>City_Mumbai</th>\n",
       "      <th>City_Pune</th>\n",
       "      <th>B2B Sales Medium_Marketing</th>\n",
       "      <th>...</th>\n",
       "      <th>Client Revenue Sizing_More than 1M</th>\n",
       "      <th>Client Employee Sizing_1K to 5K</th>\n",
       "      <th>Client Employee Sizing_5K to 15K</th>\n",
       "      <th>Client Employee Sizing_More than 25K</th>\n",
       "      <th>Business from Client Last Year_0 - 25,000</th>\n",
       "      <th>Business from Client Last Year_25,000 - 50,000</th>\n",
       "      <th>Business from Client Last Year_50,000 - 100,000</th>\n",
       "      <th>Business from Client Last Year_More than 100,000</th>\n",
       "      <th>Compete Intel_None</th>\n",
       "      <th>Opportunity Sizing_10K to 20K</th>\n",
       "    </tr>\n",
       "  </thead>\n",
       "  <tbody>\n",
       "    <tr>\n",
       "      <th>20920</th>\n",
       "      <td>0.899865</td>\n",
       "      <td>-0.786970</td>\n",
       "      <td>0</td>\n",
       "      <td>0</td>\n",
       "      <td>0</td>\n",
       "      <td>0</td>\n",
       "      <td>0</td>\n",
       "      <td>0</td>\n",
       "      <td>0</td>\n",
       "      <td>0</td>\n",
       "      <td>...</td>\n",
       "      <td>0</td>\n",
       "      <td>0</td>\n",
       "      <td>0</td>\n",
       "      <td>0</td>\n",
       "      <td>0</td>\n",
       "      <td>0</td>\n",
       "      <td>0</td>\n",
       "      <td>0</td>\n",
       "      <td>0</td>\n",
       "      <td>0</td>\n",
       "    </tr>\n",
       "    <tr>\n",
       "      <th>25394</th>\n",
       "      <td>0.054926</td>\n",
       "      <td>-0.786970</td>\n",
       "      <td>0</td>\n",
       "      <td>0</td>\n",
       "      <td>1</td>\n",
       "      <td>0</td>\n",
       "      <td>0</td>\n",
       "      <td>0</td>\n",
       "      <td>0</td>\n",
       "      <td>0</td>\n",
       "      <td>...</td>\n",
       "      <td>0</td>\n",
       "      <td>0</td>\n",
       "      <td>0</td>\n",
       "      <td>0</td>\n",
       "      <td>0</td>\n",
       "      <td>0</td>\n",
       "      <td>0</td>\n",
       "      <td>0</td>\n",
       "      <td>1</td>\n",
       "      <td>0</td>\n",
       "    </tr>\n",
       "    <tr>\n",
       "      <th>12555</th>\n",
       "      <td>0.093333</td>\n",
       "      <td>0.060733</td>\n",
       "      <td>0</td>\n",
       "      <td>0</td>\n",
       "      <td>0</td>\n",
       "      <td>0</td>\n",
       "      <td>0</td>\n",
       "      <td>1</td>\n",
       "      <td>0</td>\n",
       "      <td>1</td>\n",
       "      <td>...</td>\n",
       "      <td>0</td>\n",
       "      <td>0</td>\n",
       "      <td>0</td>\n",
       "      <td>0</td>\n",
       "      <td>0</td>\n",
       "      <td>0</td>\n",
       "      <td>0</td>\n",
       "      <td>0</td>\n",
       "      <td>0</td>\n",
       "      <td>0</td>\n",
       "    </tr>\n",
       "    <tr>\n",
       "      <th>40022</th>\n",
       "      <td>-1.404513</td>\n",
       "      <td>0.908436</td>\n",
       "      <td>0</td>\n",
       "      <td>0</td>\n",
       "      <td>0</td>\n",
       "      <td>0</td>\n",
       "      <td>0</td>\n",
       "      <td>0</td>\n",
       "      <td>0</td>\n",
       "      <td>0</td>\n",
       "      <td>...</td>\n",
       "      <td>0</td>\n",
       "      <td>0</td>\n",
       "      <td>0</td>\n",
       "      <td>0</td>\n",
       "      <td>0</td>\n",
       "      <td>0</td>\n",
       "      <td>0</td>\n",
       "      <td>0</td>\n",
       "      <td>0</td>\n",
       "      <td>0</td>\n",
       "    </tr>\n",
       "    <tr>\n",
       "      <th>40488</th>\n",
       "      <td>-1.212481</td>\n",
       "      <td>-0.786970</td>\n",
       "      <td>0</td>\n",
       "      <td>0</td>\n",
       "      <td>1</td>\n",
       "      <td>0</td>\n",
       "      <td>0</td>\n",
       "      <td>0</td>\n",
       "      <td>0</td>\n",
       "      <td>0</td>\n",
       "      <td>...</td>\n",
       "      <td>0</td>\n",
       "      <td>0</td>\n",
       "      <td>0</td>\n",
       "      <td>0</td>\n",
       "      <td>0</td>\n",
       "      <td>0</td>\n",
       "      <td>0</td>\n",
       "      <td>0</td>\n",
       "      <td>0</td>\n",
       "      <td>0</td>\n",
       "    </tr>\n",
       "  </tbody>\n",
       "</table>\n",
       "<p>5 rows × 26 columns</p>\n",
       "</div>"
      ],
      "text/plain": [
       "       Sales Velocity  Sales Stage Iterations  \\\n",
       "20920        0.899865               -0.786970   \n",
       "25394        0.054926               -0.786970   \n",
       "12555        0.093333                0.060733   \n",
       "40022       -1.404513                0.908436   \n",
       "40488       -1.212481               -0.786970   \n",
       "\n",
       "       Technology\\nPrimary_Legacy Modernization  City_Chennai  City_Delhi  \\\n",
       "20920                                         0             0           0   \n",
       "25394                                         0             0           1   \n",
       "12555                                         0             0           0   \n",
       "40022                                         0             0           0   \n",
       "40488                                         0             0           1   \n",
       "\n",
       "       City_Hyderabad  City_Kolkata  City_Mumbai  City_Pune  \\\n",
       "20920               0             0            0          0   \n",
       "25394               0             0            0          0   \n",
       "12555               0             0            1          0   \n",
       "40022               0             0            0          0   \n",
       "40488               0             0            0          0   \n",
       "\n",
       "       B2B Sales Medium_Marketing  ...  Client Revenue Sizing_More than 1M  \\\n",
       "20920                           0  ...                                   0   \n",
       "25394                           0  ...                                   0   \n",
       "12555                           1  ...                                   0   \n",
       "40022                           0  ...                                   0   \n",
       "40488                           0  ...                                   0   \n",
       "\n",
       "       Client Employee Sizing_1K to 5K  Client Employee Sizing_5K to 15K  \\\n",
       "20920                                0                                 0   \n",
       "25394                                0                                 0   \n",
       "12555                                0                                 0   \n",
       "40022                                0                                 0   \n",
       "40488                                0                                 0   \n",
       "\n",
       "       Client Employee Sizing_More than 25K  \\\n",
       "20920                                     0   \n",
       "25394                                     0   \n",
       "12555                                     0   \n",
       "40022                                     0   \n",
       "40488                                     0   \n",
       "\n",
       "       Business from Client Last Year_0 - 25,000  \\\n",
       "20920                                          0   \n",
       "25394                                          0   \n",
       "12555                                          0   \n",
       "40022                                          0   \n",
       "40488                                          0   \n",
       "\n",
       "       Business from Client Last Year_25,000 - 50,000  \\\n",
       "20920                                               0   \n",
       "25394                                               0   \n",
       "12555                                               0   \n",
       "40022                                               0   \n",
       "40488                                               0   \n",
       "\n",
       "       Business from Client Last Year_50,000 - 100,000  \\\n",
       "20920                                                0   \n",
       "25394                                                0   \n",
       "12555                                                0   \n",
       "40022                                                0   \n",
       "40488                                                0   \n",
       "\n",
       "       Business from Client Last Year_More than 100,000  Compete Intel_None  \\\n",
       "20920                                                 0                   0   \n",
       "25394                                                 0                   1   \n",
       "12555                                                 0                   0   \n",
       "40022                                                 0                   0   \n",
       "40488                                                 0                   0   \n",
       "\n",
       "       Opportunity Sizing_10K to 20K  \n",
       "20920                              0  \n",
       "25394                              0  \n",
       "12555                              0  \n",
       "40022                              0  \n",
       "40488                              0  \n",
       "\n",
       "[5 rows x 26 columns]"
      ]
     },
     "execution_count": 89,
     "metadata": {},
     "output_type": "execute_result"
    }
   ],
   "source": [
    "X_train = X_train.drop(columns=features_to_remove, axis = 1)\n",
    "X_train.head()"
   ]
  },
  {
   "cell_type": "code",
   "execution_count": 90,
   "metadata": {
    "execution": {
     "iopub.execute_input": "2020-08-24T13:20:26.994718Z",
     "iopub.status.busy": "2020-08-24T13:20:26.993858Z",
     "iopub.status.idle": "2020-08-24T13:20:27.021484Z",
     "shell.execute_reply": "2020-08-24T13:20:27.020683Z"
    },
    "papermill": {
     "duration": 0.089105,
     "end_time": "2020-08-24T13:20:27.021647",
     "exception": false,
     "start_time": "2020-08-24T13:20:26.932542",
     "status": "completed"
    },
    "tags": []
   },
   "outputs": [
    {
     "data": {
      "text/html": [
       "<div>\n",
       "<style scoped>\n",
       "    .dataframe tbody tr th:only-of-type {\n",
       "        vertical-align: middle;\n",
       "    }\n",
       "\n",
       "    .dataframe tbody tr th {\n",
       "        vertical-align: top;\n",
       "    }\n",
       "\n",
       "    .dataframe thead th {\n",
       "        text-align: right;\n",
       "    }\n",
       "</style>\n",
       "<table border=\"1\" class=\"dataframe\">\n",
       "  <thead>\n",
       "    <tr style=\"text-align: right;\">\n",
       "      <th></th>\n",
       "      <th>Sales Velocity</th>\n",
       "      <th>Sales Stage Iterations</th>\n",
       "      <th>Technology\\nPrimary_Legacy Modernization</th>\n",
       "      <th>City_Chennai</th>\n",
       "      <th>City_Delhi</th>\n",
       "      <th>City_Hyderabad</th>\n",
       "      <th>City_Kolkata</th>\n",
       "      <th>City_Mumbai</th>\n",
       "      <th>City_Pune</th>\n",
       "      <th>B2B Sales Medium_Marketing</th>\n",
       "      <th>...</th>\n",
       "      <th>Client Revenue Sizing_More than 1M</th>\n",
       "      <th>Client Employee Sizing_1K to 5K</th>\n",
       "      <th>Client Employee Sizing_5K to 15K</th>\n",
       "      <th>Client Employee Sizing_More than 25K</th>\n",
       "      <th>Business from Client Last Year_0 - 25,000</th>\n",
       "      <th>Business from Client Last Year_25,000 - 50,000</th>\n",
       "      <th>Business from Client Last Year_50,000 - 100,000</th>\n",
       "      <th>Business from Client Last Year_More than 100,000</th>\n",
       "      <th>Compete Intel_None</th>\n",
       "      <th>Opportunity Sizing_10K to 20K</th>\n",
       "    </tr>\n",
       "  </thead>\n",
       "  <tbody>\n",
       "    <tr>\n",
       "      <th>64168</th>\n",
       "      <td>0.093333</td>\n",
       "      <td>0.060733</td>\n",
       "      <td>0</td>\n",
       "      <td>0</td>\n",
       "      <td>0</td>\n",
       "      <td>0</td>\n",
       "      <td>1</td>\n",
       "      <td>0</td>\n",
       "      <td>0</td>\n",
       "      <td>1</td>\n",
       "      <td>...</td>\n",
       "      <td>0</td>\n",
       "      <td>0</td>\n",
       "      <td>0</td>\n",
       "      <td>0</td>\n",
       "      <td>0</td>\n",
       "      <td>0</td>\n",
       "      <td>0</td>\n",
       "      <td>0</td>\n",
       "      <td>1</td>\n",
       "      <td>0</td>\n",
       "    </tr>\n",
       "    <tr>\n",
       "      <th>60072</th>\n",
       "      <td>0.823052</td>\n",
       "      <td>-0.786970</td>\n",
       "      <td>0</td>\n",
       "      <td>0</td>\n",
       "      <td>0</td>\n",
       "      <td>1</td>\n",
       "      <td>0</td>\n",
       "      <td>0</td>\n",
       "      <td>0</td>\n",
       "      <td>1</td>\n",
       "      <td>...</td>\n",
       "      <td>0</td>\n",
       "      <td>0</td>\n",
       "      <td>0</td>\n",
       "      <td>0</td>\n",
       "      <td>0</td>\n",
       "      <td>0</td>\n",
       "      <td>1</td>\n",
       "      <td>0</td>\n",
       "      <td>1</td>\n",
       "      <td>1</td>\n",
       "    </tr>\n",
       "    <tr>\n",
       "      <th>7959</th>\n",
       "      <td>1.706397</td>\n",
       "      <td>-0.786970</td>\n",
       "      <td>0</td>\n",
       "      <td>0</td>\n",
       "      <td>0</td>\n",
       "      <td>0</td>\n",
       "      <td>0</td>\n",
       "      <td>0</td>\n",
       "      <td>0</td>\n",
       "      <td>1</td>\n",
       "      <td>...</td>\n",
       "      <td>1</td>\n",
       "      <td>0</td>\n",
       "      <td>0</td>\n",
       "      <td>0</td>\n",
       "      <td>0</td>\n",
       "      <td>0</td>\n",
       "      <td>0</td>\n",
       "      <td>0</td>\n",
       "      <td>0</td>\n",
       "      <td>0</td>\n",
       "    </tr>\n",
       "    <tr>\n",
       "      <th>33330</th>\n",
       "      <td>-0.597981</td>\n",
       "      <td>1.756140</td>\n",
       "      <td>0</td>\n",
       "      <td>0</td>\n",
       "      <td>0</td>\n",
       "      <td>0</td>\n",
       "      <td>0</td>\n",
       "      <td>1</td>\n",
       "      <td>0</td>\n",
       "      <td>1</td>\n",
       "      <td>...</td>\n",
       "      <td>0</td>\n",
       "      <td>0</td>\n",
       "      <td>0</td>\n",
       "      <td>0</td>\n",
       "      <td>0</td>\n",
       "      <td>0</td>\n",
       "      <td>0</td>\n",
       "      <td>0</td>\n",
       "      <td>0</td>\n",
       "      <td>0</td>\n",
       "    </tr>\n",
       "    <tr>\n",
       "      <th>44742</th>\n",
       "      <td>-1.327700</td>\n",
       "      <td>-0.786970</td>\n",
       "      <td>0</td>\n",
       "      <td>0</td>\n",
       "      <td>0</td>\n",
       "      <td>0</td>\n",
       "      <td>0</td>\n",
       "      <td>1</td>\n",
       "      <td>0</td>\n",
       "      <td>0</td>\n",
       "      <td>...</td>\n",
       "      <td>0</td>\n",
       "      <td>0</td>\n",
       "      <td>0</td>\n",
       "      <td>0</td>\n",
       "      <td>0</td>\n",
       "      <td>0</td>\n",
       "      <td>0</td>\n",
       "      <td>0</td>\n",
       "      <td>0</td>\n",
       "      <td>0</td>\n",
       "    </tr>\n",
       "  </tbody>\n",
       "</table>\n",
       "<p>5 rows × 26 columns</p>\n",
       "</div>"
      ],
      "text/plain": [
       "       Sales Velocity  Sales Stage Iterations  \\\n",
       "64168        0.093333                0.060733   \n",
       "60072        0.823052               -0.786970   \n",
       "7959         1.706397               -0.786970   \n",
       "33330       -0.597981                1.756140   \n",
       "44742       -1.327700               -0.786970   \n",
       "\n",
       "       Technology\\nPrimary_Legacy Modernization  City_Chennai  City_Delhi  \\\n",
       "64168                                         0             0           0   \n",
       "60072                                         0             0           0   \n",
       "7959                                          0             0           0   \n",
       "33330                                         0             0           0   \n",
       "44742                                         0             0           0   \n",
       "\n",
       "       City_Hyderabad  City_Kolkata  City_Mumbai  City_Pune  \\\n",
       "64168               0             1            0          0   \n",
       "60072               1             0            0          0   \n",
       "7959                0             0            0          0   \n",
       "33330               0             0            1          0   \n",
       "44742               0             0            1          0   \n",
       "\n",
       "       B2B Sales Medium_Marketing  ...  Client Revenue Sizing_More than 1M  \\\n",
       "64168                           1  ...                                   0   \n",
       "60072                           1  ...                                   0   \n",
       "7959                            1  ...                                   1   \n",
       "33330                           1  ...                                   0   \n",
       "44742                           0  ...                                   0   \n",
       "\n",
       "       Client Employee Sizing_1K to 5K  Client Employee Sizing_5K to 15K  \\\n",
       "64168                                0                                 0   \n",
       "60072                                0                                 0   \n",
       "7959                                 0                                 0   \n",
       "33330                                0                                 0   \n",
       "44742                                0                                 0   \n",
       "\n",
       "       Client Employee Sizing_More than 25K  \\\n",
       "64168                                     0   \n",
       "60072                                     0   \n",
       "7959                                      0   \n",
       "33330                                     0   \n",
       "44742                                     0   \n",
       "\n",
       "       Business from Client Last Year_0 - 25,000  \\\n",
       "64168                                          0   \n",
       "60072                                          0   \n",
       "7959                                           0   \n",
       "33330                                          0   \n",
       "44742                                          0   \n",
       "\n",
       "       Business from Client Last Year_25,000 - 50,000  \\\n",
       "64168                                               0   \n",
       "60072                                               0   \n",
       "7959                                                0   \n",
       "33330                                               0   \n",
       "44742                                               0   \n",
       "\n",
       "       Business from Client Last Year_50,000 - 100,000  \\\n",
       "64168                                                0   \n",
       "60072                                                1   \n",
       "7959                                                 0   \n",
       "33330                                                0   \n",
       "44742                                                0   \n",
       "\n",
       "       Business from Client Last Year_More than 100,000  Compete Intel_None  \\\n",
       "64168                                                 0                   1   \n",
       "60072                                                 0                   1   \n",
       "7959                                                  0                   0   \n",
       "33330                                                 0                   0   \n",
       "44742                                                 0                   0   \n",
       "\n",
       "       Opportunity Sizing_10K to 20K  \n",
       "64168                              0  \n",
       "60072                              1  \n",
       "7959                               0  \n",
       "33330                              0  \n",
       "44742                              0  \n",
       "\n",
       "[5 rows x 26 columns]"
      ]
     },
     "execution_count": 90,
     "metadata": {},
     "output_type": "execute_result"
    }
   ],
   "source": [
    "X_test = X_test.drop(columns=features_to_remove, axis = 1)\n",
    "X_test.head()"
   ]
  },
  {
   "cell_type": "code",
   "execution_count": 91,
   "metadata": {
    "execution": {
     "iopub.execute_input": "2020-08-24T13:20:27.142907Z",
     "iopub.status.busy": "2020-08-24T13:20:27.142013Z",
     "iopub.status.idle": "2020-08-24T13:20:27.433836Z",
     "shell.execute_reply": "2020-08-24T13:20:27.434418Z"
    },
    "papermill": {
     "duration": 0.356262,
     "end_time": "2020-08-24T13:20:27.434615",
     "exception": false,
     "start_time": "2020-08-24T13:20:27.078353",
     "status": "completed"
    },
    "tags": []
   },
   "outputs": [
    {
     "data": {
      "text/plain": [
       "DecisionTreeClassifier()"
      ]
     },
     "execution_count": 91,
     "metadata": {},
     "output_type": "execute_result"
    }
   ],
   "source": [
    "# fit the model with the training data\n",
    "model.fit(X_train,y_train)"
   ]
  },
  {
   "cell_type": "code",
   "execution_count": 92,
   "metadata": {
    "execution": {
     "iopub.execute_input": "2020-08-24T13:20:27.553941Z",
     "iopub.status.busy": "2020-08-24T13:20:27.553068Z",
     "iopub.status.idle": "2020-08-24T13:20:27.578364Z",
     "shell.execute_reply": "2020-08-24T13:20:27.577505Z"
    },
    "papermill": {
     "duration": 0.088474,
     "end_time": "2020-08-24T13:20:27.578517",
     "exception": false,
     "start_time": "2020-08-24T13:20:27.490043",
     "status": "completed"
    },
    "tags": []
   },
   "outputs": [
    {
     "data": {
      "text/plain": [
       "array([0, 0, 0, ..., 0, 0, 1])"
      ]
     },
     "execution_count": 92,
     "metadata": {},
     "output_type": "execute_result"
    }
   ],
   "source": [
    "# predict the target on the train dataset\n",
    "predict_train = model.predict(X_train)\n",
    "predict_train"
   ]
  },
  {
   "cell_type": "code",
   "execution_count": 93,
   "metadata": {
    "execution": {
     "iopub.execute_input": "2020-08-24T13:20:27.697195Z",
     "iopub.status.busy": "2020-08-24T13:20:27.696375Z",
     "iopub.status.idle": "2020-08-24T13:20:27.705758Z",
     "shell.execute_reply": "2020-08-24T13:20:27.706603Z"
    },
    "papermill": {
     "duration": 0.07191,
     "end_time": "2020-08-24T13:20:27.706823",
     "exception": false,
     "start_time": "2020-08-24T13:20:27.634913",
     "status": "completed"
    },
    "tags": []
   },
   "outputs": [
    {
     "name": "stdout",
     "output_type": "stream",
     "text": [
      "accuracy_score on train dataset :  0.923576908288628\n"
     ]
    }
   ],
   "source": [
    "accuracytrain = accuracy_score(y_train,predict_train)\n",
    "print('accuracy_score on train dataset : ', accuracytrain)"
   ]
  },
  {
   "cell_type": "markdown",
   "execution_count": null,
   "metadata": {
    "papermill": {
     "duration": 0.055977,
     "end_time": "2020-08-24T13:20:27.820457",
     "exception": false,
     "start_time": "2020-08-24T13:20:27.764480",
     "status": "completed"
    },
    "tags": []
   },
   "source": [
    "# VIF "
   ]
  },
  {
   "cell_type": "code",
   "execution_count": 94,
   "metadata": {
    "execution": {
     "iopub.execute_input": "2020-08-24T13:20:27.946222Z",
     "iopub.status.busy": "2020-08-24T13:20:27.945383Z",
     "iopub.status.idle": "2020-08-24T13:20:29.800950Z",
     "shell.execute_reply": "2020-08-24T13:20:29.800137Z"
    },
    "papermill": {
     "duration": 1.924021,
     "end_time": "2020-08-24T13:20:29.801085",
     "exception": false,
     "start_time": "2020-08-24T13:20:27.877064",
     "status": "completed"
    },
    "tags": []
   },
   "outputs": [
    {
     "data": {
      "text/html": [
       "<div>\n",
       "<style scoped>\n",
       "    .dataframe tbody tr th:only-of-type {\n",
       "        vertical-align: middle;\n",
       "    }\n",
       "\n",
       "    .dataframe tbody tr th {\n",
       "        vertical-align: top;\n",
       "    }\n",
       "\n",
       "    .dataframe thead th {\n",
       "        text-align: right;\n",
       "    }\n",
       "</style>\n",
       "<table border=\"1\" class=\"dataframe\">\n",
       "  <thead>\n",
       "    <tr style=\"text-align: right;\">\n",
       "      <th></th>\n",
       "      <th>Features</th>\n",
       "      <th>VIF</th>\n",
       "    </tr>\n",
       "  </thead>\n",
       "  <tbody>\n",
       "    <tr>\n",
       "      <th>9</th>\n",
       "      <td>B2B Sales Medium_Marketing</td>\n",
       "      <td>2.01</td>\n",
       "    </tr>\n",
       "    <tr>\n",
       "      <th>4</th>\n",
       "      <td>City_Delhi</td>\n",
       "      <td>1.52</td>\n",
       "    </tr>\n",
       "    <tr>\n",
       "      <th>7</th>\n",
       "      <td>City_Mumbai</td>\n",
       "      <td>1.52</td>\n",
       "    </tr>\n",
       "    <tr>\n",
       "      <th>14</th>\n",
       "      <td>Client Revenue Sizing_250K to 500K</td>\n",
       "      <td>1.32</td>\n",
       "    </tr>\n",
       "    <tr>\n",
       "      <th>19</th>\n",
       "      <td>Client Employee Sizing_More than 25K</td>\n",
       "      <td>1.30</td>\n",
       "    </tr>\n",
       "    <tr>\n",
       "      <th>16</th>\n",
       "      <td>Client Revenue Sizing_More than 1M</td>\n",
       "      <td>1.29</td>\n",
       "    </tr>\n",
       "    <tr>\n",
       "      <th>0</th>\n",
       "      <td>Sales Velocity</td>\n",
       "      <td>1.28</td>\n",
       "    </tr>\n",
       "    <tr>\n",
       "      <th>18</th>\n",
       "      <td>Client Employee Sizing_5K to 15K</td>\n",
       "      <td>1.28</td>\n",
       "    </tr>\n",
       "    <tr>\n",
       "      <th>17</th>\n",
       "      <td>Client Employee Sizing_1K to 5K</td>\n",
       "      <td>1.26</td>\n",
       "    </tr>\n",
       "    <tr>\n",
       "      <th>15</th>\n",
       "      <td>Client Revenue Sizing_500K to 1M</td>\n",
       "      <td>1.26</td>\n",
       "    </tr>\n",
       "    <tr>\n",
       "      <th>25</th>\n",
       "      <td>Opportunity Sizing_10K to 20K</td>\n",
       "      <td>1.25</td>\n",
       "    </tr>\n",
       "    <tr>\n",
       "      <th>5</th>\n",
       "      <td>City_Hyderabad</td>\n",
       "      <td>1.24</td>\n",
       "    </tr>\n",
       "    <tr>\n",
       "      <th>24</th>\n",
       "      <td>Compete Intel_None</td>\n",
       "      <td>1.19</td>\n",
       "    </tr>\n",
       "    <tr>\n",
       "      <th>13</th>\n",
       "      <td>Client Revenue Sizing_100K to 250K</td>\n",
       "      <td>1.19</td>\n",
       "    </tr>\n",
       "    <tr>\n",
       "      <th>8</th>\n",
       "      <td>City_Pune</td>\n",
       "      <td>1.18</td>\n",
       "    </tr>\n",
       "    <tr>\n",
       "      <th>3</th>\n",
       "      <td>City_Chennai</td>\n",
       "      <td>1.18</td>\n",
       "    </tr>\n",
       "    <tr>\n",
       "      <th>6</th>\n",
       "      <td>City_Kolkata</td>\n",
       "      <td>1.17</td>\n",
       "    </tr>\n",
       "    <tr>\n",
       "      <th>11</th>\n",
       "      <td>B2B Sales Medium_Partners</td>\n",
       "      <td>1.13</td>\n",
       "    </tr>\n",
       "    <tr>\n",
       "      <th>12</th>\n",
       "      <td>B2B Sales Medium_Tele Sales</td>\n",
       "      <td>1.10</td>\n",
       "    </tr>\n",
       "    <tr>\n",
       "      <th>23</th>\n",
       "      <td>Business from Client Last Year_More than 100,000</td>\n",
       "      <td>1.07</td>\n",
       "    </tr>\n",
       "    <tr>\n",
       "      <th>1</th>\n",
       "      <td>Sales Stage Iterations</td>\n",
       "      <td>1.05</td>\n",
       "    </tr>\n",
       "    <tr>\n",
       "      <th>20</th>\n",
       "      <td>Business from Client Last Year_0 - 25,000</td>\n",
       "      <td>1.03</td>\n",
       "    </tr>\n",
       "    <tr>\n",
       "      <th>21</th>\n",
       "      <td>Business from Client Last Year_25,000 - 50,000</td>\n",
       "      <td>1.03</td>\n",
       "    </tr>\n",
       "    <tr>\n",
       "      <th>22</th>\n",
       "      <td>Business from Client Last Year_50,000 - 100,000</td>\n",
       "      <td>1.03</td>\n",
       "    </tr>\n",
       "    <tr>\n",
       "      <th>10</th>\n",
       "      <td>B2B Sales Medium_Online Leads</td>\n",
       "      <td>1.02</td>\n",
       "    </tr>\n",
       "    <tr>\n",
       "      <th>2</th>\n",
       "      <td>Technology\\nPrimary_Legacy Modernization</td>\n",
       "      <td>1.01</td>\n",
       "    </tr>\n",
       "  </tbody>\n",
       "</table>\n",
       "</div>"
      ],
      "text/plain": [
       "                                            Features   VIF\n",
       "9                         B2B Sales Medium_Marketing  2.01\n",
       "4                                         City_Delhi  1.52\n",
       "7                                        City_Mumbai  1.52\n",
       "14                Client Revenue Sizing_250K to 500K  1.32\n",
       "19              Client Employee Sizing_More than 25K  1.30\n",
       "16                Client Revenue Sizing_More than 1M  1.29\n",
       "0                                     Sales Velocity  1.28\n",
       "18                  Client Employee Sizing_5K to 15K  1.28\n",
       "17                   Client Employee Sizing_1K to 5K  1.26\n",
       "15                  Client Revenue Sizing_500K to 1M  1.26\n",
       "25                     Opportunity Sizing_10K to 20K  1.25\n",
       "5                                     City_Hyderabad  1.24\n",
       "24                                Compete Intel_None  1.19\n",
       "13                Client Revenue Sizing_100K to 250K  1.19\n",
       "8                                          City_Pune  1.18\n",
       "3                                       City_Chennai  1.18\n",
       "6                                       City_Kolkata  1.17\n",
       "11                         B2B Sales Medium_Partners  1.13\n",
       "12                       B2B Sales Medium_Tele Sales  1.10\n",
       "23  Business from Client Last Year_More than 100,000  1.07\n",
       "1                             Sales Stage Iterations  1.05\n",
       "20         Business from Client Last Year_0 - 25,000  1.03\n",
       "21    Business from Client Last Year_25,000 - 50,000  1.03\n",
       "22   Business from Client Last Year_50,000 - 100,000  1.03\n",
       "10                     B2B Sales Medium_Online Leads  1.02\n",
       "2           Technology\\nPrimary_Legacy Modernization  1.01"
      ]
     },
     "execution_count": 94,
     "metadata": {},
     "output_type": "execute_result"
    }
   ],
   "source": [
    "# Check for the VIF values of the feature variables. \n",
    "from statsmodels.stats.outliers_influence import variance_inflation_factor\n",
    "# Create a dataframe that will contain the names of all the feature variables and their respective VIFs\n",
    "vif = pd.DataFrame()\n",
    "vif['Features'] = X_train.columns\n",
    "vif['VIF'] = [variance_inflation_factor(X_train.values, i) for i in range(X_train.shape[1])]\n",
    "vif['VIF'] = round(vif['VIF'], 2)\n",
    "vif = vif.sort_values(by = \"VIF\", ascending = False)\n",
    "vif"
   ]
  },
  {
   "cell_type": "code",
   "execution_count": 95,
   "metadata": {
    "execution": {
     "iopub.execute_input": "2020-08-24T13:20:29.924352Z",
     "iopub.status.busy": "2020-08-24T13:20:29.923464Z",
     "iopub.status.idle": "2020-08-24T13:20:30.020130Z",
     "shell.execute_reply": "2020-08-24T13:20:30.020762Z"
    },
    "papermill": {
     "duration": 0.16236,
     "end_time": "2020-08-24T13:20:30.020959",
     "exception": false,
     "start_time": "2020-08-24T13:20:29.858599",
     "status": "completed"
    },
    "tags": []
   },
   "outputs": [
    {
     "name": "stdout",
     "output_type": "stream",
     "text": [
      "[[41639   623]\n",
      " [ 3551  8804]]\n"
     ]
    }
   ],
   "source": [
    "from sklearn import metrics\n",
    "# Confusion matrix \n",
    "confusion = metrics.confusion_matrix(y_train, predict_train )\n",
    "print(confusion)"
   ]
  },
  {
   "cell_type": "code",
   "execution_count": 96,
   "metadata": {
    "execution": {
     "iopub.execute_input": "2020-08-24T13:20:30.142442Z",
     "iopub.status.busy": "2020-08-24T13:20:30.141668Z",
     "iopub.status.idle": "2020-08-24T13:20:30.144755Z",
     "shell.execute_reply": "2020-08-24T13:20:30.145305Z"
    },
    "papermill": {
     "duration": 0.067019,
     "end_time": "2020-08-24T13:20:30.145483",
     "exception": false,
     "start_time": "2020-08-24T13:20:30.078464",
     "status": "completed"
    },
    "tags": []
   },
   "outputs": [],
   "source": [
    "TP = confusion[1,1] # true positive \n",
    "TN = confusion[0,0] # true negatives\n",
    "FP = confusion[0,1] # false positives\n",
    "FN = confusion[1,0] # false negatives"
   ]
  },
  {
   "cell_type": "code",
   "execution_count": 97,
   "metadata": {
    "execution": {
     "iopub.execute_input": "2020-08-24T13:20:30.266694Z",
     "iopub.status.busy": "2020-08-24T13:20:30.265666Z",
     "iopub.status.idle": "2020-08-24T13:20:30.271000Z",
     "shell.execute_reply": "2020-08-24T13:20:30.270196Z"
    },
    "papermill": {
     "duration": 0.068939,
     "end_time": "2020-08-24T13:20:30.271139",
     "exception": false,
     "start_time": "2020-08-24T13:20:30.202200",
     "status": "completed"
    },
    "tags": []
   },
   "outputs": [
    {
     "data": {
      "text/plain": [
       "0.7125859975718333"
      ]
     },
     "execution_count": 97,
     "metadata": {},
     "output_type": "execute_result"
    }
   ],
   "source": [
    "# Let's see the sensitivity of our model\n",
    "trainsensitivity= TP / float(TP+FN)\n",
    "trainsensitivity"
   ]
  },
  {
   "cell_type": "code",
   "execution_count": 98,
   "metadata": {
    "execution": {
     "iopub.execute_input": "2020-08-24T13:20:30.393671Z",
     "iopub.status.busy": "2020-08-24T13:20:30.392477Z",
     "iopub.status.idle": "2020-08-24T13:20:30.397014Z",
     "shell.execute_reply": "2020-08-24T13:20:30.396254Z"
    },
    "papermill": {
     "duration": 0.068224,
     "end_time": "2020-08-24T13:20:30.397148",
     "exception": false,
     "start_time": "2020-08-24T13:20:30.328924",
     "status": "completed"
    },
    "tags": []
   },
   "outputs": [
    {
     "data": {
      "text/plain": [
       "0.9852586247692963"
      ]
     },
     "execution_count": 98,
     "metadata": {},
     "output_type": "execute_result"
    }
   ],
   "source": [
    "# Let us calculate specificity\n",
    "trainspecificity= TN / float(TN+FP)\n",
    "trainspecificity"
   ]
  },
  {
   "cell_type": "code",
   "execution_count": 99,
   "metadata": {
    "execution": {
     "iopub.execute_input": "2020-08-24T13:20:30.518987Z",
     "iopub.status.busy": "2020-08-24T13:20:30.517921Z",
     "iopub.status.idle": "2020-08-24T13:20:30.523232Z",
     "shell.execute_reply": "2020-08-24T13:20:30.522316Z"
    },
    "papermill": {
     "duration": 0.068633,
     "end_time": "2020-08-24T13:20:30.523380",
     "exception": false,
     "start_time": "2020-08-24T13:20:30.454747",
     "status": "completed"
    },
    "tags": []
   },
   "outputs": [
    {
     "name": "stdout",
     "output_type": "stream",
     "text": [
      "0.014741375230703705\n"
     ]
    }
   ],
   "source": [
    "# Calculate false postive rate - predicting Opportunity when company does not have Opportunity\n",
    "print(FP/ float(TN+FP))"
   ]
  },
  {
   "cell_type": "code",
   "execution_count": 100,
   "metadata": {
    "execution": {
     "iopub.execute_input": "2020-08-24T13:20:30.645187Z",
     "iopub.status.busy": "2020-08-24T13:20:30.644361Z",
     "iopub.status.idle": "2020-08-24T13:20:30.648280Z",
     "shell.execute_reply": "2020-08-24T13:20:30.647499Z"
    },
    "papermill": {
     "duration": 0.066586,
     "end_time": "2020-08-24T13:20:30.648421",
     "exception": false,
     "start_time": "2020-08-24T13:20:30.581835",
     "status": "completed"
    },
    "tags": []
   },
   "outputs": [
    {
     "name": "stdout",
     "output_type": "stream",
     "text": [
      "0.9339132279622361\n"
     ]
    }
   ],
   "source": [
    "# Positive predictive value \n",
    "print (TP / float(TP+FP))"
   ]
  },
  {
   "cell_type": "code",
   "execution_count": 101,
   "metadata": {
    "execution": {
     "iopub.execute_input": "2020-08-24T13:20:30.772251Z",
     "iopub.status.busy": "2020-08-24T13:20:30.771240Z",
     "iopub.status.idle": "2020-08-24T13:20:30.775927Z",
     "shell.execute_reply": "2020-08-24T13:20:30.775087Z"
    },
    "papermill": {
     "duration": 0.069073,
     "end_time": "2020-08-24T13:20:30.776068",
     "exception": false,
     "start_time": "2020-08-24T13:20:30.706995",
     "status": "completed"
    },
    "tags": []
   },
   "outputs": [
    {
     "name": "stdout",
     "output_type": "stream",
     "text": [
      "0.9214206682894446\n"
     ]
    }
   ],
   "source": [
    "# Negative predictive value\n",
    "print(TN / float(TN+ FN))"
   ]
  },
  {
   "cell_type": "markdown",
   "execution_count": null,
   "metadata": {
    "papermill": {
     "duration": 0.058416,
     "end_time": "2020-08-24T13:20:30.893300",
     "exception": false,
     "start_time": "2020-08-24T13:20:30.834884",
     "status": "completed"
    },
    "tags": []
   },
   "source": [
    "# Plotting the ROC Curve"
   ]
  },
  {
   "cell_type": "code",
   "execution_count": 102,
   "metadata": {
    "execution": {
     "iopub.execute_input": "2020-08-24T13:20:31.057609Z",
     "iopub.status.busy": "2020-08-24T13:20:31.056466Z",
     "iopub.status.idle": "2020-08-24T13:20:31.069015Z",
     "shell.execute_reply": "2020-08-24T13:20:31.068245Z"
    },
    "papermill": {
     "duration": 0.116633,
     "end_time": "2020-08-24T13:20:31.069163",
     "exception": false,
     "start_time": "2020-08-24T13:20:30.952530",
     "status": "completed"
    },
    "tags": []
   },
   "outputs": [],
   "source": [
    "def draw_roc( actual, probs ):\n",
    "    fpr, tpr, thresholds = metrics.roc_curve( actual, probs,\n",
    "                                              drop_intermediate = False )\n",
    "    auc_score = metrics.roc_auc_score( actual, probs )\n",
    "    plt.figure(figsize=(5, 5))\n",
    "    plt.plot( fpr, tpr, label='ROC curve (area = %0.2f)' % auc_score )\n",
    "    plt.plot([0, 1], [0, 1], 'k--')\n",
    "    plt.xlim([0.0, 1.0])\n",
    "    plt.ylim([0.0, 1.05])\n",
    "    plt.xlabel('False Positive Rate or [1 - True Negative Rate]')\n",
    "    plt.ylabel('True Positive Rate')\n",
    "    plt.title('Receiver operating characteristic example')\n",
    "    plt.legend(loc=\"lower right\")\n",
    "    plt.show()\n",
    "\n",
    "    return None"
   ]
  },
  {
   "cell_type": "code",
   "execution_count": 103,
   "metadata": {
    "execution": {
     "iopub.execute_input": "2020-08-24T13:20:31.210950Z",
     "iopub.status.busy": "2020-08-24T13:20:31.209832Z",
     "iopub.status.idle": "2020-08-24T13:20:31.429804Z",
     "shell.execute_reply": "2020-08-24T13:20:31.430787Z"
    },
    "papermill": {
     "duration": 0.293897,
     "end_time": "2020-08-24T13:20:31.431053",
     "exception": false,
     "start_time": "2020-08-24T13:20:31.137156",
     "status": "completed"
    },
    "tags": []
   },
   "outputs": [
    {
     "data": {
      "image/png": "[encoded data removed]",
      "text/plain": [
       "<Figure size 360x360 with 1 Axes>"
      ]
     },
     "metadata": {
      "needs_background": "light"
     },
     "output_type": "display_data"
    }
   ],
   "source": [
    "draw_roc(y_train,predict_train)"
   ]
  },
  {
   "cell_type": "markdown",
   "execution_count": null,
   "metadata": {
    "papermill": {
     "duration": 0.058019,
     "end_time": "2020-08-24T13:20:31.554156",
     "exception": false,
     "start_time": "2020-08-24T13:20:31.496137",
     "status": "completed"
    },
    "tags": []
   },
   "source": [
    "# Precision and Recall"
   ]
  },
  {
   "cell_type": "code",
   "execution_count": 104,
   "metadata": {
    "execution": {
     "iopub.execute_input": "2020-08-24T13:20:31.684678Z",
     "iopub.status.busy": "2020-08-24T13:20:31.683413Z",
     "iopub.status.idle": "2020-08-24T13:20:31.686235Z",
     "shell.execute_reply": "2020-08-24T13:20:31.687194Z"
    },
    "papermill": {
     "duration": 0.069191,
     "end_time": "2020-08-24T13:20:31.687444",
     "exception": false,
     "start_time": "2020-08-24T13:20:31.618253",
     "status": "completed"
    },
    "tags": []
   },
   "outputs": [],
   "source": [
    "#Using sklearn utilities for the same"
   ]
  },
  {
   "cell_type": "code",
   "execution_count": 105,
   "metadata": {
    "execution": {
     "iopub.execute_input": "2020-08-24T13:20:31.823497Z",
     "iopub.status.busy": "2020-08-24T13:20:31.822666Z",
     "iopub.status.idle": "2020-08-24T13:20:31.848305Z",
     "shell.execute_reply": "2020-08-24T13:20:31.847549Z"
    },
    "papermill": {
     "duration": 0.089726,
     "end_time": "2020-08-24T13:20:31.848437",
     "exception": false,
     "start_time": "2020-08-24T13:20:31.758711",
     "status": "completed"
    },
    "tags": []
   },
   "outputs": [
    {
     "data": {
      "text/plain": [
       "0.9339132279622361"
      ]
     },
     "execution_count": 105,
     "metadata": {},
     "output_type": "execute_result"
    }
   ],
   "source": [
    "from sklearn.metrics import precision_score, recall_score\n",
    "precision_score(y_train,predict_train)"
   ]
  },
  {
   "cell_type": "code",
   "execution_count": 106,
   "metadata": {
    "execution": {
     "iopub.execute_input": "2020-08-24T13:20:31.972346Z",
     "iopub.status.busy": "2020-08-24T13:20:31.971435Z",
     "iopub.status.idle": "2020-08-24T13:20:31.997121Z",
     "shell.execute_reply": "2020-08-24T13:20:31.996336Z"
    },
    "papermill": {
     "duration": 0.090325,
     "end_time": "2020-08-24T13:20:31.997259",
     "exception": false,
     "start_time": "2020-08-24T13:20:31.906934",
     "status": "completed"
    },
    "tags": []
   },
   "outputs": [
    {
     "data": {
      "text/plain": [
       "0.7125859975718333"
      ]
     },
     "execution_count": 106,
     "metadata": {},
     "output_type": "execute_result"
    }
   ],
   "source": [
    "recall_score(y_train,predict_train)"
   ]
  },
  {
   "cell_type": "markdown",
   "execution_count": null,
   "metadata": {
    "papermill": {
     "duration": 0.058523,
     "end_time": "2020-08-24T13:20:32.115763",
     "exception": false,
     "start_time": "2020-08-24T13:20:32.057240",
     "status": "completed"
    },
    "tags": []
   },
   "source": [
    "Making predictions on the test set"
   ]
  },
  {
   "cell_type": "code",
   "execution_count": 107,
   "metadata": {
    "execution": {
     "iopub.execute_input": "2020-08-24T13:20:32.246746Z",
     "iopub.status.busy": "2020-08-24T13:20:32.245495Z",
     "iopub.status.idle": "2020-08-24T13:20:32.262824Z",
     "shell.execute_reply": "2020-08-24T13:20:32.263469Z"
    },
    "papermill": {
     "duration": 0.085353,
     "end_time": "2020-08-24T13:20:32.263661",
     "exception": false,
     "start_time": "2020-08-24T13:20:32.178308",
     "status": "completed"
    },
    "tags": []
   },
   "outputs": [
    {
     "name": "stdout",
     "output_type": "stream",
     "text": [
      "Target on test data\n",
      "\n",
      " [1 1 0 ... 1 0 0]\n"
     ]
    }
   ],
   "source": [
    "# predict the target on the test dataset\n",
    "predict_test = model.predict(X_test)\n",
    "print('Target on test data\\n\\n',predict_test)"
   ]
  },
  {
   "cell_type": "code",
   "execution_count": 108,
   "metadata": {
    "execution": {
     "iopub.execute_input": "2020-08-24T13:20:32.389117Z",
     "iopub.status.busy": "2020-08-24T13:20:32.388326Z",
     "iopub.status.idle": "2020-08-24T13:20:32.432387Z",
     "shell.execute_reply": "2020-08-24T13:20:32.433030Z"
    },
    "papermill": {
     "duration": 0.109936,
     "end_time": "2020-08-24T13:20:32.433210",
     "exception": false,
     "start_time": "2020-08-24T13:20:32.323274",
     "status": "completed"
    },
    "tags": []
   },
   "outputs": [
    {
     "name": "stdout",
     "output_type": "stream",
     "text": [
      "[[16332  1804]\n",
      " [ 2835  2437]]\n"
     ]
    }
   ],
   "source": [
    "confusion2 = metrics.confusion_matrix(y_test, predict_test )\n",
    "print(confusion2)"
   ]
  },
  {
   "cell_type": "code",
   "execution_count": 109,
   "metadata": {
    "execution": {
     "iopub.execute_input": "2020-08-24T13:20:32.557063Z",
     "iopub.status.busy": "2020-08-24T13:20:32.556256Z",
     "iopub.status.idle": "2020-08-24T13:20:32.565174Z",
     "shell.execute_reply": "2020-08-24T13:20:32.564324Z"
    },
    "papermill": {
     "duration": 0.07315,
     "end_time": "2020-08-24T13:20:32.565320",
     "exception": false,
     "start_time": "2020-08-24T13:20:32.492170",
     "status": "completed"
    },
    "tags": []
   },
   "outputs": [
    {
     "data": {
      "text/plain": [
       "0.8018198906356802"
      ]
     },
     "execution_count": 109,
     "metadata": {},
     "output_type": "execute_result"
    }
   ],
   "source": [
    "# Let's check the overall accuracy.\n",
    "testaccuracy= accuracy_score(y_test,predict_test)\n",
    "testaccuracy"
   ]
  },
  {
   "cell_type": "code",
   "execution_count": 110,
   "metadata": {
    "execution": {
     "iopub.execute_input": "2020-08-24T13:20:32.690698Z",
     "iopub.status.busy": "2020-08-24T13:20:32.689756Z",
     "iopub.status.idle": "2020-08-24T13:20:32.694605Z",
     "shell.execute_reply": "2020-08-24T13:20:32.693980Z"
    },
    "papermill": {
     "duration": 0.070494,
     "end_time": "2020-08-24T13:20:32.694747",
     "exception": false,
     "start_time": "2020-08-24T13:20:32.624253",
     "status": "completed"
    },
    "tags": []
   },
   "outputs": [
    {
     "data": {
      "text/plain": [
       "0.7125859975718333"
      ]
     },
     "execution_count": 110,
     "metadata": {},
     "output_type": "execute_result"
    }
   ],
   "source": [
    "# Let's see the sensitivity of our model\n",
    "testsensitivity=TP / float(TP+FN)\n",
    "testsensitivity"
   ]
  },
  {
   "cell_type": "code",
   "execution_count": 111,
   "metadata": {
    "execution": {
     "iopub.execute_input": "2020-08-24T13:20:32.820461Z",
     "iopub.status.busy": "2020-08-24T13:20:32.819466Z",
     "iopub.status.idle": "2020-08-24T13:20:32.824494Z",
     "shell.execute_reply": "2020-08-24T13:20:32.823825Z"
    },
    "papermill": {
     "duration": 0.070657,
     "end_time": "2020-08-24T13:20:32.824667",
     "exception": false,
     "start_time": "2020-08-24T13:20:32.754010",
     "status": "completed"
    },
    "tags": []
   },
   "outputs": [
    {
     "data": {
      "text/plain": [
       "0.9852586247692963"
      ]
     },
     "execution_count": 111,
     "metadata": {},
     "output_type": "execute_result"
    }
   ],
   "source": [
    "# Let us calculate specificity\n",
    "testspecificity= TN / float(TN+FP)\n",
    "testspecificity"
   ]
  },
  {
   "cell_type": "markdown",
   "execution_count": null,
   "metadata": {
    "papermill": {
     "duration": 0.059197,
     "end_time": "2020-08-24T13:20:32.944372",
     "exception": false,
     "start_time": "2020-08-24T13:20:32.885175",
     "status": "completed"
    },
    "tags": []
   },
   "source": [
    "# Final Observation:"
   ]
  },
  {
   "cell_type": "code",
   "execution_count": 112,
   "metadata": {
    "execution": {
     "iopub.execute_input": "2020-08-24T13:20:33.076214Z",
     "iopub.status.busy": "2020-08-24T13:20:33.075310Z",
     "iopub.status.idle": "2020-08-24T13:20:33.080286Z",
     "shell.execute_reply": "2020-08-24T13:20:33.079113Z"
    },
    "papermill": {
     "duration": 0.076249,
     "end_time": "2020-08-24T13:20:33.080433",
     "exception": false,
     "start_time": "2020-08-24T13:20:33.004184",
     "status": "completed"
    },
    "tags": []
   },
   "outputs": [
    {
     "name": "stdout",
     "output_type": "stream",
     "text": [
      "Train Data Accuracy    :99.68 %\n",
      "Train Data Sensitivity :71.26 %\n",
      "Train Data Specificity :98.53 %\n",
      "Test Data Accuracy     :80.18 %\n",
      "Test Data Sensitivity  :71.26 %\n",
      "Test Data Specificity  :98.53 %\n"
     ]
    }
   ],
   "source": [
    "# Let us compare the values obtained for Train & Test:\n",
    "print(\"Train Data Accuracy    :{} %\".format(round((trainaccuracy*100),2)))\n",
    "print(\"Train Data Sensitivity :{} %\".format(round((trainsensitivity*100),2)))\n",
    "print(\"Train Data Specificity :{} %\".format(round((trainspecificity*100),2)))\n",
    "print(\"Test Data Accuracy     :{} %\".format(round((testaccuracy*100),2)))\n",
    "print(\"Test Data Sensitivity  :{} %\".format(round((testsensitivity*100),2)))\n",
    "print(\"Test Data Specificity  :{} %\".format(round((testspecificity*100),2)))"
   ]
  }
 ],
 "metadata": {
  "kernelspec": {
   "display_name": "Python 3",
   "language": "python",
   "name": "python3"
  },
  "language_info": {
   "codemirror_mode": {
    "name": "ipython",
    "version": 3
   },
   "file_extension": ".py",
   "mimetype": "text/x-python",
   "name": "python",
   "nbconvert_exporter": "python",
   "pygments_lexer": "ipython3",
   "version": "3.7.6"
  },
  "papermill": {
   "duration": 65.052171,
   "end_time": "2020-08-24T13:20:34.148433",
   "environment_variables": {},
   "exception": null,
   "input_path": "__notebook__.ipynb",
   "output_path": "__notebook__.ipynb",
   "parameters": {},
   "start_time": "2020-08-24T13:19:29.096262",
   "version": "2.1.0"
  }
 },
 "nbformat": 4,
 "nbformat_minor": 4
}
